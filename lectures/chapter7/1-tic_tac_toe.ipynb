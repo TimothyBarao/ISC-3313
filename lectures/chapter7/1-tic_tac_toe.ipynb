{
 "cells": [
  {
   "cell_type": "markdown",
   "metadata": {
    "collapsed": true,
    "slideshow": {
     "slide_type": "slide"
    }
   },
   "source": [
    "<p style=\"text-align: center;\"><font size=\"8\"><b>Good Software Practices</b></font><br>\n"
   ]
  },
  {
   "cell_type": "markdown",
   "metadata": {
    "collapsed": true,
    "slideshow": {
     "slide_type": "slide"
    }
   },
   "source": [
    "# Tic-Tac-Toe\n",
    "\n",
    "Let's design a program that plays Tic-Tac-Toe. What are the rules?\n",
    "\n",
    "1. Starting with an empty 3x3 board, a player marks a cell with an \"x\"\n",
    "2. The computer then marks an empty cell with an \"o\"\n",
    "3. The player marks an empty cell with an \"x\"\n",
    "4. This process repeats until we have a line of either three \"x\"s or three \"o\"s.\n",
    "\n",
    "What will we need?\n",
    "\n",
    "* a board\n",
    "* a way to read in the players moves\n",
    "* a way to mark the computer moves\n",
    "* a way to check if there's a winner\n"
   ]
  },
  {
   "cell_type": "markdown",
   "metadata": {
    "slideshow": {
     "slide_type": "subslide"
    }
   },
   "source": [
    "### Board Class\n",
    "\n",
    "The board class represents the tic-tac-toe board. It is a 3x3 array of cells. Each of these cells can be one of:\n",
    "1. \"-\" : meaning empty\n",
    "2. \"x\"\n",
    "3. \"o\"\n",
    "\n",
    "For example a board might look like:\n",
    "    \n",
    "     x - -\n",
    "     - o -\n",
    "     - x o"
   ]
  },
  {
   "cell_type": "markdown",
   "metadata": {
    "slideshow": {
     "slide_type": "subslide"
    }
   },
   "source": [
    "How should we store the board structure? \n",
    "\n",
    "One way (not the only way) is to use a 2D NumPy array. For example the board above could be represented by:\n",
    "\n",
    "    np.array([[\"x\",\"-\",\"-\"], [\"-\",\"o\",\"-\"], [\"-\",\"x\",\"o\"]])"
   ]
  },
  {
   "cell_type": "markdown",
   "metadata": {
    "slideshow": {
     "slide_type": "subslide"
    }
   },
   "source": [
    "What methods should the board class have?\n",
    "\n",
    "We should have a method that prints the board to the screen. To do this we could define a `__str__` special method that converts our board to a string. \n",
    "\n",
    "Another method we will need is a method that checks if we have a winner. How can we do this?"
   ]
  },
  {
   "cell_type": "code",
   "execution_count": 1,
   "metadata": {
    "collapsed": false
   },
   "outputs": [],
   "source": [
    "import numpy as np\n",
    "\n",
    "class Board:\n",
    "    \n",
    "    def __init__(self):\n",
    "        self.board = np.array([[\"-\",\"-\",\"-\"],[\"-\",\"-\",\"-\"],[\"-\",\"-\",\"-\"]])\n",
    "        \n",
    "    def __str__(self):\n",
    "        b_string = str(self.board)\n",
    "        b_string = b_string.replace(\"[\",\"\")\n",
    "        b_string = b_string.replace(\"]\",\"\")\n",
    "        b_string = b_string.replace(\"\\'\",\"\")\n",
    "        b_string = b_string.replace(\"\\n \",\"\\n\")\n",
    "        return b_string\n",
    "    \n",
    "\n",
    "    def full_board(self):\n",
    "        boardTmp = self.board.reshape(9,1)\n",
    "        return not(np.any(boardTmp[:] == \"-\"))\n",
    "    \n",
    "    def check_winner(self, character):\n",
    "\n",
    "        winner = False\n",
    "        boardTmp = self.board == character\n",
    "\n",
    "        # Check diagonals\n",
    "        d1 = np.array([boardTmp[0,0], boardTmp[1,1], boardTmp[2,2]])\n",
    "        d2 = np.array([boardTmp[0,2], boardTmp[1,1], boardTmp[2,0]])\n",
    "\n",
    "        if np.all(d1) or np.all(d2):\n",
    "                winner = True\n",
    "\n",
    "        # Check rows and columns \n",
    "        if not(winner):\n",
    "            for i in range(3):\n",
    "\n",
    "                if np.all(boardTmp[i,:]) or np.all(boardTmp[:,i]):\n",
    "                    winner = True\n",
    "                    break\n",
    "                        \n",
    "        return winner\n",
    "    \n",
    "    def player_move(self):\n",
    "        \n",
    "        valid = False\n",
    "        while not(valid):\n",
    "            row = int(input(\"Select row: \"))\n",
    "            column = int(input(\"Select column: \"))\n",
    "            \n",
    "            if row < 1 or row > 3 or column < 1 or column > 3:\n",
    "                print(\"Row and column number must be between 1 and 3\")\n",
    "            \n",
    "            elif self.board[row-1,column-1] != \"-\":\n",
    "                print(\"Please select an empty cell\")\n",
    "                \n",
    "            else:\n",
    "                self.board[row-1,column-1] = \"x\"\n",
    "                valid = True\n",
    "        \n",
    "        return self.check_winner(\"x\"), self.full_board()\n",
    "    \n",
    "    def computer_move(self):\n",
    "        \n",
    "        valid = False\n",
    "        while not(valid):\n",
    "            row = np.random.randint(0,3)\n",
    "            column = np.random.randint(0,3)\n",
    "            \n",
    "            if self.board[row,column] == \"-\":\n",
    "                self.board[row,column] = \"o\"\n",
    "                valid = True\n",
    "    \n",
    "        return self.check_winner(\"o\"), self.full_board()"
   ]
  },
  {
   "cell_type": "code",
   "execution_count": 4,
   "metadata": {
    "collapsed": true
   },
   "outputs": [],
   "source": [
    "class TicTacToe:\n",
    "    \n",
    "    def __init__(self):\n",
    "        self.board = Board()\n",
    "        \n",
    "    def play(self):\n",
    "        keep_playing = True\n",
    "        while (keep_playing):\n",
    "            print(str(self.board))\n",
    "            [winner_player, full_board] = self.board.player_move()\n",
    "            keep_playing = not(winner_player or full_board)\n",
    "            \n",
    "            if keep_playing:\n",
    "                [winner_computer, full_board] = self.board.computer_move()                     \n",
    "                keep_playing = not(winner_computer or full_board)\n",
    "        \n",
    "        print(str(self.board))\n",
    "        \n",
    "        if winner_player:\n",
    "            print(\"Player wins!\")\n",
    "\n",
    "        elif winner_computer:\n",
    "            print(\"Computer_wins!\")\n",
    "\n",
    "        else:\n",
    "            print(\"Tie!\")\n",
    "            "
   ]
  },
  {
   "cell_type": "code",
   "execution_count": 6,
   "metadata": {
    "collapsed": false
   },
   "outputs": [
    {
     "name": "stdout",
     "output_type": "stream",
     "text": [
      "- - -\n",
      "- - -\n",
      "- - -\n",
      "Select row: 1\n",
      "Select column: 1\n",
      "x - -\n",
      "o - -\n",
      "- - -\n",
      "Select row: 3\n",
      "Select column: 1\n",
      "x - -\n",
      "o - -\n",
      "x - o\n",
      "Select row: 3\n",
      "Select column: 2\n",
      "x - -\n",
      "o o -\n",
      "x x o\n",
      "Select row: 1\n",
      "Select column: 2\n",
      "x x o\n",
      "o o -\n",
      "x x o\n",
      "Select row: 1\n",
      "Select column: 1\n",
      "Please select an empty cell\n",
      "Select row: 2\n",
      "Select column: 3\n",
      "x x o\n",
      "o o x\n",
      "x x o\n",
      "Tie!\n"
     ]
    }
   ],
   "source": [
    "game = TicTacToe()\n",
    "\n",
    "game.play()"
   ]
  },
  {
   "cell_type": "code",
   "execution_count": null,
   "metadata": {
    "collapsed": true
   },
   "outputs": [],
   "source": []
  }
 ],
 "metadata": {
  "anaconda-cloud": {},
  "celltoolbar": "Slideshow",
  "kernelspec": {
   "display_name": "Python [Root]",
   "language": "python",
   "name": "Python [Root]"
  },
  "language_info": {
   "codemirror_mode": {
    "name": "ipython",
    "version": 3
   },
   "file_extension": ".py",
   "mimetype": "text/x-python",
   "name": "python",
   "nbconvert_exporter": "python",
   "pygments_lexer": "ipython3",
   "version": "3.5.2"
  }
 },
 "nbformat": 4,
 "nbformat_minor": 0
}
