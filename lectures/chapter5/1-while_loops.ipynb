{
 "cells": [
  {
   "cell_type": "markdown",
   "metadata": {
    "collapsed": false,
    "slideshow": {
     "slide_type": "slide"
    }
   },
   "source": [
    "<p style=\"text-align: center;\"><font size=\"8\"><b>While Loops</b></font><br>\n"
   ]
  },
  {
   "cell_type": "markdown",
   "metadata": {
    "collapsed": false,
    "slideshow": {
     "slide_type": "slide"
    }
   },
   "source": [
    "Last chapter (chapter 4 in Goldwasser and Letscher) introduced us to two control structures, for loops and conditional (if) statements. Chapter 5 introduces more control structures. Today we will learn about *while loops*."
   ]
  },
  {
   "cell_type": "markdown",
   "metadata": {
    "collapsed": true,
    "slideshow": {
     "slide_type": "subslide"
    }
   },
   "source": [
    "We've seen that for loops allow for repetition by iterating over a well defined sequence of elements. Sometimes we may need to express repetition even though we cannot know the precise number of iterations in advance. To do this we use a *while loop* with the syntax:\n",
    "\n",
    "    while condition:\n",
    "        body"
   ]
  },
  {
   "cell_type": "markdown",
   "metadata": {
    "slideshow": {
     "slide_type": "subslide"
    }
   },
   "source": [
    "As with if statements, the condition can be an arbitarary boolean expression and the body is an indented block of code.\n",
    "\n",
    "![while statement flow chart](images/while_flow.png)"
   ]
  },
  {
   "cell_type": "markdown",
   "metadata": {
    "slideshow": {
     "slide_type": "slide"
    }
   },
   "source": [
    "## Infinite Loops\n",
    "\n",
    "When using for loops the number of iterations is naturally bounded based on the length of the original sequence. When working with a while loop the number of iterations is not explicitly bounded, but determined based on the loop condition. \n",
    "\n",
    "This can lead to a serious problem known as an *infinite loop*. In infinite loops the condition never changes to false, so the loop keeps repeating itself indefinitely. "
   ]
  },
  {
   "cell_type": "markdown",
   "metadata": {
    "slideshow": {
     "slide_type": "subslide"
    }
   },
   "source": [
    "Consider this blanant example:\n",
    "\n",
    "    while True:\n",
    "        print(\"Hello\")\n",
    "        \n",
    "The loop condition is never false, so \"Hello\" gets printed over and over again. If you run code and encounter an infinte loop you can exit it by typing control-c."
   ]
  },
  {
   "cell_type": "markdown",
   "metadata": {
    "slideshow": {
     "slide_type": "subslide"
    }
   },
   "source": [
    "To avoid infinite loops often we add a counter to keep track of the number of iterations. If we reach a maximum number of iterations, the loop condition becomes false and the loop terminates."
   ]
  },
  {
   "cell_type": "markdown",
   "metadata": {
    "slideshow": {
     "slide_type": "slide"
    }
   },
   "source": [
    "## Finding the Greatest Common Divisor\n",
    "\n",
    "Suppose we want to find the greatest common divsor of two integers. In other words, given two integers $u$ and $v$, we want to find the largest integer $w$, such that $w$ is a factor of both $u$ and $v$. \n",
    "\n",
    "A na&iuml;ve approach is to start with a guess of the smallest of $u$ and $v$ and check if it is a factor of both $u$ and $v$. If it is, we are done. If not, decrease our guess by 1 and try again."
   ]
  },
  {
   "cell_type": "code",
   "execution_count": 4,
   "metadata": {
    "collapsed": false
   },
   "outputs": [
    {
     "name": "stdout",
     "output_type": "stream",
     "text": [
      "The GCD is 12\n"
     ]
    }
   ],
   "source": [
    "# declare u and v\n",
    "u = 204\n",
    "v = 36\n",
    "\n",
    "# set initial guess\n",
    "w = min(u,v) \n",
    "\n",
    "# start while loop\n",
    "while u%w >0  or v%w > 0:\n",
    "    w = w - 1\n",
    "    \n",
    "print(\"The GCD is\", w)"
   ]
  },
  {
   "cell_type": "markdown",
   "metadata": {},
   "source": [
    "Note that this loop is guaranteed to terminate, since 1 is always a common factor of any two numbers. This is not the most efficient approach. A more efficient method is Euclid's algorithm, described in Goldwasser and Letscher."
   ]
  },
  {
   "cell_type": "markdown",
   "metadata": {
    "slideshow": {
     "slide_type": "slide"
    }
   },
   "source": [
    "## Fibonacci Numbers Revisited\n",
    "\n",
    "Recall the Fibonacci numbers are defined by:\n",
    "$$ F_i = \\begin{cases} 0 & i = 0\\\\ 1 & i = 1\\\\ F_{i-1} + F_{i-2} & \\text{otherwise}\\end{cases}$$\n",
    "\n",
    "We computed the first $N$ of these numbers earlier using for loops."
   ]
  },
  {
   "cell_type": "markdown",
   "metadata": {
    "slideshow": {
     "slide_type": "subslide"
    }
   },
   "source": [
    "Let's say we want to compute all Fibonacci numbers less than 10,000. How many of these numbers are there? \n",
    "\n",
    "There's not an obvious answer to that question, but if we use a while loop we don't have to know."
   ]
  },
  {
   "cell_type": "code",
   "execution_count": 33,
   "metadata": {
    "collapsed": false
   },
   "outputs": [
    {
     "name": "stdout",
     "output_type": "stream",
     "text": [
      "[0, 1, 1, 2, 3, 5, 8, 13, 21, 34, 55, 89, 144, 233, 377, 610, 987, 1597, 2584, 4181, 6765, 10946]\n"
     ]
    }
   ],
   "source": [
    "# create empty list to store the Fibonacci numbers\n",
    "fib = []\n",
    "\n",
    "# 0 and 1 are the first 2\n",
    "fib.append(0)\n",
    "fib.append(1)\n",
    "\n",
    "# while the last number in the list is less than 10,000\n",
    "while (fib[-1] < 10000):\n",
    "    \n",
    "    # append new Fibonacci number, which is sum of the last two numbers already in the list\n",
    "    fib.append(fib[-2] + fib[-1])\n",
    "    \n",
    "print(fib)"
   ]
  },
  {
   "cell_type": "markdown",
   "metadata": {
    "collapsed": true,
    "slideshow": {
     "slide_type": "slide"
    }
   },
   "source": [
    "## While Loops and For Loops\n",
    "\n",
    "Programatically speaking, for loop and while loops are equivalent. In both cases you are telling the program to repeat a sequence of instructions (i.e. loop over the instructions). This means that anything written as a for loop can be written as a while loop and vice versa. "
   ]
  },
  {
   "cell_type": "markdown",
   "metadata": {
    "slideshow": {
     "slide_type": "subslide"
    }
   },
   "source": [
    "Consider the previous example. This equivalent implenentation uses a for loop:"
   ]
  },
  {
   "cell_type": "code",
   "execution_count": 1,
   "metadata": {
    "collapsed": false
   },
   "outputs": [
    {
     "name": "stdout",
     "output_type": "stream",
     "text": [
      "[0, 1, 1, 2, 3, 5, 8, 13, 21, 34, 55, 89, 144, 233, 377, 610, 987, 1597, 2584, 4181, 6765, 10946]\n"
     ]
    }
   ],
   "source": [
    "# create empty list to store the Fibonacci numbers\n",
    "fib = []\n",
    "\n",
    "# 0 and 1 are the first 2\n",
    "fib.append(0)\n",
    "fib.append(1)\n",
    "\n",
    "# loop until some arbitrarily large number\n",
    "for i in range(10000):\n",
    "    \n",
    "    # append new Fibonacci number, which is sum of the last two numbers already in the list\n",
    "    fib.append(fib[-2] + fib[-1])\n",
    "    if (fib[-1] > 10000):\n",
    "        break\n",
    "        \n",
    "print(fib)"
   ]
  },
  {
   "cell_type": "markdown",
   "metadata": {
    "slideshow": {
     "slide_type": "subslide"
    }
   },
   "source": [
    "Likewise to generate the first $N$ Fibonacci numbers we could have used a while loop:"
   ]
  },
  {
   "cell_type": "code",
   "execution_count": 5,
   "metadata": {
    "collapsed": false
   },
   "outputs": [
    {
     "name": "stdout",
     "output_type": "stream",
     "text": [
      "[0, 1, 1, 2, 3, 5, 8, 13, 21, 34]\n"
     ]
    }
   ],
   "source": [
    "# create empty list to store the Fibonacci numbers\n",
    "fib = []\n",
    "\n",
    "# declare N, set counter i to 2\n",
    "N = 10\n",
    "\n",
    "# 0 and 1 are the first 2\n",
    "fib.append(0)\n",
    "fib.append(1)\n",
    "\n",
    "# loop until some arbitrarily large number\n",
    "while len(fib) < N:\n",
    "    \n",
    "    # append new Fibonacci number, which is sum of the last two numbers already in the list\n",
    "    fib.append(fib[-2] + fib[-1])\n",
    "    \n",
    "print(fib)"
   ]
  },
  {
   "cell_type": "markdown",
   "metadata": {
    "slideshow": {
     "slide_type": "subslide"
    }
   },
   "source": [
    "The choice to use a while loop or a for loop depends on the type of problem you are solving. With experience it will become obvious which loop to use. \n",
    "\n",
    "As a rule of thumb a for loop makes sense if you know beforehand the number of iterations. If you don't know the number of iterations, a while loop is probably a better choice. "
   ]
  },
  {
   "cell_type": "code",
   "execution_count": null,
   "metadata": {
    "collapsed": true
   },
   "outputs": [],
   "source": []
  }
 ],
 "metadata": {
  "anaconda-cloud": {},
  "celltoolbar": "Slideshow",
  "kernelspec": {
   "display_name": "Python [Root]",
   "language": "python",
   "name": "Python [Root]"
  },
  "language_info": {
   "codemirror_mode": {
    "name": "ipython",
    "version": 3
   },
   "file_extension": ".py",
   "mimetype": "text/x-python",
   "name": "python",
   "nbconvert_exporter": "python",
   "pygments_lexer": "ipython3",
   "version": "3.5.2"
  }
 },
 "nbformat": 4,
 "nbformat_minor": 1
}
