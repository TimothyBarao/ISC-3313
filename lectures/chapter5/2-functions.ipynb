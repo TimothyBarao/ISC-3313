{
 "cells": [
  {
   "cell_type": "markdown",
   "metadata": {
    "collapsed": false,
    "slideshow": {
     "slide_type": "slide"
    }
   },
   "source": [
    "<p style=\"text-align: center;\"><font size=\"8\"><b>Functions</b></font><br>\n"
   ]
  },
  {
   "cell_type": "markdown",
   "metadata": {
    "collapsed": false,
    "slideshow": {
     "slide_type": "slide"
    }
   },
   "source": [
    "Functions are the most general purpose control structure. We have already seen several functions, for example `abs(x)` returns the absolute value of x. Today we will look at creating our own functions."
   ]
  },
  {
   "cell_type": "markdown",
   "metadata": {
    "collapsed": true,
    "slideshow": {
     "slide_type": "subslide"
    }
   },
   "source": [
    "Let's say that we want to convert a temperature in Fahrenheit to Celcius. In assignment 1 you were given the formula\n",
    "\n",
    "$$ C = \\frac{5}{9}(F - 32).$$\n",
    "\n",
    "That is, given a temperature in Fahrenheit $F$ we can compute the temperature in Celcius."
   ]
  },
  {
   "cell_type": "code",
   "execution_count": 1,
   "metadata": {
    "collapsed": false
   },
   "outputs": [
    {
     "name": "stdout",
     "output_type": "stream",
     "text": [
      "31.111111111111114\n"
     ]
    }
   ],
   "source": [
    "F = 88\n",
    "C = 5/9*(F - 32)\n",
    "print(C)"
   ]
  },
  {
   "cell_type": "markdown",
   "metadata": {
    "slideshow": {
     "slide_type": "subslide"
    }
   },
   "source": [
    "We could also define a function, say `FtoC` that does the same thing:"
   ]
  },
  {
   "cell_type": "code",
   "execution_count": 3,
   "metadata": {
    "collapsed": false
   },
   "outputs": [
    {
     "data": {
      "text/plain": [
       "31.111111111111114"
      ]
     },
     "execution_count": 3,
     "metadata": {},
     "output_type": "execute_result"
    }
   ],
   "source": [
    "def FtoC(F):\n",
    "    C = 5/9*(F-32)\n",
    "    return C\n",
    "\n",
    "FtoC(88)"
   ]
  },
  {
   "cell_type": "markdown",
   "metadata": {
    "slideshow": {
     "slide_type": "-"
    }
   },
   "source": [
    "Functions are declared with the keyword `def` (short for define). It is followed by the name of the function, here `FtoC`. Parentheses enclose a series of parameters that are passed in by the caller (F). If a function does not require any parameters there must still be opening and closing parentheses. Finally an indented body contains the code that is executed when the fucntion is called."
   ]
  },
  {
   "cell_type": "markdown",
   "metadata": {
    "slideshow": {
     "slide_type": "subslide"
    }
   },
   "source": [
    "## Parameters\n",
    "\n",
    "We are free to choose the names of the parameters. The name we give a parameter is known as a *formal parameter*; it serves as a placeholder for a piece of information from the caller, known as the *actual parameter*. We cannot assume to know the name of the variable name used by the caller. In fact when we call `FtoC(88)`, the actual parameter has a value of 88, but no name. \n",
    "\n",
    "In general formal parameter names should be chosen in such a way as to suggest their meaning. That's why we chose `F` in the function above; we could also have chosen `far` or `fahrenheit`. \n",
    "\n",
    "Each time our function is called the formal parameter `F` gets assigned the value "
   ]
  },
  {
   "cell_type": "markdown",
   "metadata": {
    "slideshow": {
     "slide_type": "subslide"
    }
   },
   "source": [
    "As with if statements, the condition can be an arbitarary boolean expression and the body is an indented block of code.\n",
    "\n",
    "![while statement flow chart](images/while_flow.png)"
   ]
  },
  {
   "cell_type": "markdown",
   "metadata": {
    "slideshow": {
     "slide_type": "subslide"
    }
   },
   "source": [
    "### Default parameters"
   ]
  },
  {
   "cell_type": "markdown",
   "metadata": {
    "slideshow": {
     "slide_type": "slide"
    }
   },
   "source": [
    "## Lambda Functions\n",
    "\n",
    "Functions that are only one line can be defined inline using *lambda functions*. For example the function `FtoC` could be defined in single line by:"
   ]
  },
  {
   "cell_type": "code",
   "execution_count": 10,
   "metadata": {
    "collapsed": false,
    "slideshow": {
     "slide_type": "subslide"
    }
   },
   "outputs": [
    {
     "data": {
      "text/plain": [
       "31.111111111111114"
      ]
     },
     "execution_count": 10,
     "metadata": {},
     "output_type": "execute_result"
    }
   ],
   "source": [
    "FtoC = lambda F: 5/9*(F-32)\n",
    "\n",
    "FtoC(88)"
   ]
  },
  {
   "cell_type": "markdown",
   "metadata": {
    "slideshow": {
     "slide_type": "-"
    }
   },
   "source": [
    "Lambda functions are useful in scientific computing because they allow us to quickly create simple functions to pass in as arguments to other functions. We'll see an example of this shortly."
   ]
  },
  {
   "cell_type": "markdown",
   "metadata": {
    "slideshow": {
     "slide_type": "slide"
    }
   },
   "source": [
    "# Newton's Method\n",
    "\n",
    "Newton's method is a simple yet highly efficient method for finding the roots (i.e. the zeros) of a function $f(x)$. Starting from an initial point $x_0$, the following sequence of values converges $x^*$, where $f(x^*)=0$:\n",
    "\n",
    "$$ x_{k+1} = x_k - \\frac{f(x_k)}{f'(x_k)}.$$\n",
    "\n"
   ]
  },
  {
   "cell_type": "markdown",
   "metadata": {
    "slideshow": {
     "slide_type": "subslide"
    }
   },
   "source": [
    "That is, given $x_0$ we can find $x_1$, which is closer to $x^*$:\n",
    "\n",
    "$$ x_1 = x_0 - \\frac{f(x_0)}{f'(x_0)}.$$\n",
    "\n",
    "Once we have $x_1$ we can repeat the process to find $x_2$ and then $x_3$ etc. We repeat this process until:\n",
    "\n",
    "a) $f(x_k)$ is close to 0, and\n",
    "\n",
    "b) $|x_{k+1} - x_{k}|$ is small"
   ]
  },
  {
   "cell_type": "markdown",
   "metadata": {
    "slideshow": {
     "slide_type": "-"
    }
   },
   "source": [
    "Unfortunately, there is no guarantee that either of these conditions will ever be satisfied. To aovid an infinite loop we also add am iteration counter. If this counter goes above a certain value the loop exits and an error message is printed."
   ]
  },
  {
   "cell_type": "markdown",
   "metadata": {
    "slideshow": {
     "slide_type": "subslide"
    }
   },
   "source": [
    "Let's look at a concrete example. Let's say we want to approximate $\\sqrt{2}$. We can do this using Newton's method. \n",
    "\n",
    "We let $x^2 = 2$. This means that $f(x) = x^2 - 2 = 0$. \n",
    "\n",
    "This gives $f'(x) = 2x$. Let's take our initial guess to be $x_0 = 1$. "
   ]
  },
  {
   "cell_type": "code",
   "execution_count": 9,
   "metadata": {
    "collapsed": false
   },
   "outputs": [
    {
     "name": "stdout",
     "output_type": "stream",
     "text": [
      "[1, 1.5, 1.4166666666666667, 1.4142156862745099, 1.4142135623746899]\n",
      "[-1, 0.25, 0.006944444444444642, 6.007304882871267e-06, 4.510614104447086e-12]\n",
      "actual error: 1.5947243525715749e-12\n"
     ]
    },
    {
     "data": {
      "image/png": "[encoded data removed]",
      "text/plain": [
       "<matplotlib.figure.Figure at 0x1ef5d419048>"
      ]
     },
     "metadata": {},
     "output_type": "display_data"
    }
   ],
   "source": [
    "import matplotlib.pyplot as plt\n",
    "import math\n",
    "%matplotlib inline\n",
    "\n",
    "# declare maximum number of iterations and tolerance\n",
    "IMAX = 20\n",
    "TOL = 1e-5\n",
    "\n",
    "# create a list to store the approximations to the root and function values\n",
    "x = []\n",
    "f = []\n",
    "\n",
    "# append intial guess\n",
    "x.append(1)\n",
    "f.append(x[0]**2 - 2)\n",
    "\n",
    "# set iteration counter\n",
    "icount = 0\n",
    "\n",
    "# intitialize diff to be some number bigger than TOL\n",
    "diff = 2*TOL\n",
    "\n",
    "# loop\n",
    "while (abs(f[icount]) > TOL or diff > TOL) and icount < IMAX:\n",
    "    x_next = x[icount] - (x[icount]**2 - 2)/(2*x[icount])\n",
    "    x.append(x_next)\n",
    "    f.append(x_next**2 -2)\n",
    "    \n",
    "    diff = abs(x_next - x[icount])\n",
    "    icount = icount + 1\n",
    "\n",
    "print(x)\n",
    "print(f)\n",
    "plt.plot(f)\n",
    "\n",
    "print(\"actual error:\", abs(math.sqrt(2)-x[-1]))"
   ]
  },
  {
   "cell_type": "markdown",
   "metadata": {
    "slideshow": {
     "slide_type": "subslide"
    }
   },
   "source": [
    "Of course we don't need to store all the previous values of $f$ and $x$. Often we are not interested in them. An alternative implementation would look like:"
   ]
  },
  {
   "cell_type": "code",
   "execution_count": 8,
   "metadata": {
    "collapsed": false
   },
   "outputs": [
    {
     "name": "stdout",
     "output_type": "stream",
     "text": [
      "square root of 2 =  1.4142135623746899\n"
     ]
    }
   ],
   "source": [
    "# declare maximum number of iterations and tolerance\n",
    "IMAX = 20\n",
    "TOL = 1e-5\n",
    "\n",
    "# declare initial guess\n",
    "x0 = 1\n",
    "\n",
    "# set iteration counter\n",
    "icount = 0\n",
    "\n",
    "# intitialize diff to be some number bigger than TOL\n",
    "diff = 2*TOL\n",
    "\n",
    "# loop\n",
    "while (x0**2 + -2 > TOL or diff > TOL) and icount < IMAX:\n",
    "    x1 = x0 - (x0**2 -2)/(2*x0)\n",
    "    \n",
    "    diff = abs(x0 - x1)\n",
    "    x0 = x1\n",
    "    icount = icount + 1\n",
    "    \n",
    "print(\"square root of 2 = \", x1)"
   ]
  },
  {
   "cell_type": "markdown",
   "metadata": {
    "collapsed": true,
    "slideshow": {
     "slide_type": "subslide"
    }
   },
   "source": [
    "## Implementation With Functions\n",
    "\n",
    "This works quite well. However, what if instead of approximating $\\sqrt{2}$, we wanted to solve $x^3 - 9x + \\cos(x) = 0$?\n",
    "\n",
    "We would have to rewrite the code above and plug in a new $f(x)$ and $f'(x)$. If we write our code using functions, we can keep the code flexible and capable of solving different problems. "
   ]
  },
  {
   "cell_type": "markdown",
   "metadata": {
    "slideshow": {
     "slide_type": "subslide"
    }
   },
   "source": [
    "Consider the following function:"
   ]
  },
  {
   "cell_type": "code",
   "execution_count": 16,
   "metadata": {
    "collapsed": true
   },
   "outputs": [],
   "source": [
    "def newton_step(x0, f, df):\n",
    "    return x0 - f(x0)/df(x0)"
   ]
  },
  {
   "cell_type": "markdown",
   "metadata": {},
   "source": [
    "This is a single iteration. "
   ]
  },
  {
   "cell_type": "markdown",
   "metadata": {
    "slideshow": {
     "slide_type": "subslide"
    }
   },
   "source": [
    "We can create a function to do the entire Newton method:"
   ]
  },
  {
   "cell_type": "code",
   "execution_count": 31,
   "metadata": {
    "collapsed": true
   },
   "outputs": [],
   "source": [
    "def newtons_method(x0, f, df, tol=1e-5, max_it=20):\n",
    "\n",
    "    # intitialize iteration counter to 0\n",
    "    icount = 0\n",
    "\n",
    "    # intitialize diff to be some number bigger than TOL\n",
    "    diff = 2*tol\n",
    "\n",
    "    # loop\n",
    "    while (f(x0) > TOL or diff > TOL) and icount < IMAX:\n",
    "        x1 = newton_step(x0, f, df)\n",
    "    \n",
    "        diff = abs(x0 - x1)\n",
    "        x0 = x1\n",
    "        icount = icount + 1\n",
    "        \n",
    "    return x1"
   ]
  },
  {
   "cell_type": "markdown",
   "metadata": {
    "slideshow": {
     "slide_type": "subslide"
    }
   },
   "source": [
    "Let's use this code to compute $\\sqrt{2}$."
   ]
  },
  {
   "cell_type": "code",
   "execution_count": 32,
   "metadata": {
    "collapsed": false
   },
   "outputs": [
    {
     "name": "stdout",
     "output_type": "stream",
     "text": [
      "1.4142135623746899\n"
     ]
    }
   ],
   "source": [
    "x = newtons_method(1, lambda x: x**2 - 2, lambda x: 2*x)\n",
    "print(x)"
   ]
  },
  {
   "cell_type": "markdown",
   "metadata": {},
   "source": [
    "By changing just two inputs we can also now compute the solution to the equation $x^3-9x+\\cos(x)=0$. "
   ]
  },
  {
   "cell_type": "code",
   "execution_count": 33,
   "metadata": {
    "collapsed": false
   },
   "outputs": [
    {
     "name": "stdout",
     "output_type": "stream",
     "text": [
      "0.11058269180669812\n"
     ]
    }
   ],
   "source": [
    "x = newtons_method(1, lambda x: x**3 - 9*x + math.cos(x), lambda x: 3*x**2 - 9 - math.sin(x))\n",
    "print(x)"
   ]
  },
  {
   "cell_type": "markdown",
   "metadata": {
    "slideshow": {
     "slide_type": "slide"
    }
   },
   "source": [
    "## Docstrings\n",
    "\n",
    "Docstrings are a way to provide automatic documentation for a function. Without going into too much detail, after you declare a function you can enclose a series of comments inside triple quotes (\"\"\"). Whatever you type here will be printed when you call `help(function)`. "
   ]
  },
  {
   "cell_type": "markdown",
   "metadata": {
    "slideshow": {
     "slide_type": "subslide"
    }
   },
   "source": [
    "For example the a docstring for the function `newton_step` might look like:"
   ]
  },
  {
   "cell_type": "code",
   "execution_count": 29,
   "metadata": {
    "collapsed": true
   },
   "outputs": [],
   "source": [
    "def newton_step(x0, f, df):\n",
    "    \"\"\"\n",
    "    Take a single Newton step starting from x0\n",
    "    \n",
    "    Parameters\n",
    "    ----------\n",
    "    x0 : float\n",
    "        initial approximation\n",
    "    f  : function\n",
    "        f(x)\n",
    "    df : function\n",
    "        f'(x)\n",
    "        \n",
    "    Returns\n",
    "    -------\n",
    "    x1 : float\n",
    "        a better approximation using Newton's method\n",
    "    \n",
    "    \"\"\"\n",
    "    return x0 - f(x0)/df(x0)"
   ]
  },
  {
   "cell_type": "markdown",
   "metadata": {
    "slideshow": {
     "slide_type": "subslide"
    }
   },
   "source": [
    "Calling the help function then prints:"
   ]
  },
  {
   "cell_type": "code",
   "execution_count": 30,
   "metadata": {
    "collapsed": false
   },
   "outputs": [
    {
     "name": "stdout",
     "output_type": "stream",
     "text": [
      "Help on function newton_step in module __main__:\n",
      "\n",
      "newton_step(x0, f, df)\n",
      "    Take a single Newton step starting from x0\n",
      "    \n",
      "    Parameters\n",
      "    ----------\n",
      "    x0 : float\n",
      "        initial approximation\n",
      "    f  : function\n",
      "        f(x)\n",
      "    df : function\n",
      "        f'(x)\n",
      "        \n",
      "    Returns\n",
      "    -------\n",
      "    x1 : float\n",
      "        a better approximation using Newton's method\n",
      "\n"
     ]
    }
   ],
   "source": [
    "help(newton_step)"
   ]
  },
  {
   "cell_type": "markdown",
   "metadata": {
    "slideshow": {
     "slide_type": "subslide"
    }
   },
   "source": [
    "There is no required formatting for the docstring, but it should be readable and provide enough information for a user to understand and use the function. A discussion on some conventions is availiable [here](https://www.python.org/dev/peps/pep-0257/). \n",
    "\n",
    "Don't get too caught up in the exact format of your docstring, clarity is the most important part. Its always better to have some sort of docstring than none at all. Find a style you like and stick to that."
   ]
  }
 ],
 "metadata": {
  "anaconda-cloud": {},
  "celltoolbar": "Slideshow",
  "kernelspec": {
   "display_name": "Python [Root]",
   "language": "python",
   "name": "Python [Root]"
  },
  "language_info": {
   "codemirror_mode": {
    "name": "ipython",
    "version": 3
   },
   "file_extension": ".py",
   "mimetype": "text/x-python",
   "name": "python",
   "nbconvert_exporter": "python",
   "pygments_lexer": "ipython3",
   "version": "3.5.2"
  }
 },
 "nbformat": 4,
 "nbformat_minor": 1
}
