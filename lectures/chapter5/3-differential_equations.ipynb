{
 "cells": [
  {
   "cell_type": "markdown",
   "metadata": {
    "slideshow": {
     "slide_type": "slide"
    }
   },
   "source": [
    "<p style=\"text-align: center;\"><font size=\"8\"><b>Ordinary Differential Equations</b></font><br>"
   ]
  },
  {
   "cell_type": "markdown",
   "metadata": {
    "slideshow": {
     "slide_type": "slide"
    }
   },
   "source": [
    "Differential equations are an invaluable way to model a wide range of scientific and engineering problems. \n",
    "\n",
    "They can describe everything from predator-prey relationships to how heat travels throughout a room to how fast a rocket moves as it burns fuel."
   ]
  },
  {
   "cell_type": "markdown",
   "metadata": {
    "slideshow": {
     "slide_type": "slide"
    }
   },
   "source": [
    "Before we look at specific applications, we should state exactly what a differential equation is. \n",
    "\n",
    "A differential equation is an equation for an unknown function $y$ that contains dervivatives of $y$. We will limit ourselves to *ordinary differential equations* (ODEs) where $y$ is a function of one variable. \n"
   ]
  },
  {
   "cell_type": "markdown",
   "metadata": {
    "slideshow": {
     "slide_type": "subslide"
    }
   },
   "source": [
    "For example, an ODE we might be interested in is:\n",
    "\n",
    "\\begin{align*}\n",
    "    y'(t) &= t^2 y,\\\\\n",
    "    y(0) &= 1.\n",
    "  \\end{align*}\n",
    "  \n",
    "The function $y$ (and its derivative $y'(t)$) are unknown, however we know how they are related. The second equation $y(0)=1$ is called the *initial condition*. Every ODE must come with an initial condition (or boundary conditions) in order to have a unique solution."
   ]
  },
  {
   "cell_type": "markdown",
   "metadata": {
    "slideshow": {
     "slide_type": "subslide"
    }
   },
   "source": [
    "To understand why, it may be helpful to look at an analytic solution of this ODE. We can write the ODE in the form:\n",
    "$$ \\frac{\\text{d}y}{\\text{d}t} = t^2 y.$$\n",
    "\n",
    "Lets move all the terms involving $y$ to the left hand side and all the terms invovling $t$ to the right hand side.\n",
    "\n",
    "$$ \\frac{\\text{d}y}{y} = t^2\\text{d}t.$$"
   ]
  },
  {
   "cell_type": "markdown",
   "metadata": {
    "slideshow": {
     "slide_type": "subslide"
    }
   },
   "source": [
    "This technique is called *separation of variables* and is the simplest technique to attempt to solve an ODE. At this point we can integrate both sides:\n",
    "\n",
    "\\begin{align*}\n",
    "    \\int \\frac{\\text{d}y}{y} &= \\int t^2 \\text{d}t,\\\\\n",
    "    \\Rightarrow\\ln |y| &= \\frac{t^3}{3} + C.\n",
    "\\end{align*}\n",
    "\n",
    "Where $C$ is an arbitrary constant coming from doing the indefinite integrals. Using the properties of logarithms we can solve for $y(t)$. \n",
    "\n",
    "$$ y(t) = Ce^{t^3/3}.$$"
   ]
  },
  {
   "cell_type": "markdown",
   "metadata": {
    "slideshow": {
     "slide_type": "subslide"
    }
   },
   "source": [
    "At this point we're almost done, however we still have an arbitrary constant as part of our solution. Here we where we make use of the initial condition to solve for $C$.\n",
    "\n",
    "$$ y(0) = 1 \\Rightarrow y(0) = 1 = Ce^{0} \\Rightarrow C = 1.$$\n",
    "\n",
    "Thus our solution to the ODE is\n",
    "$$ y(t) = e^{t^3/3}.$$"
   ]
  },
  {
   "cell_type": "markdown",
   "metadata": {
    "slideshow": {
     "slide_type": "subslide"
    }
   },
   "source": [
    "In this class you will not be expected to solve ODEs analytically. In general solving ODEs in this manner is tedious, if not impossible. For example consider the ODE:\n",
    "\n",
    "\\begin{align*}\n",
    "    y'(t) &= \\sin(t)t^2e^{t^2},\\\\\n",
    "    y(0) &=1.\n",
    "\\end{align*}\n",
    "\n",
    "This ODE does not have an analytic solution. Thus we must turn to computers to find an approximate solution."
   ]
  },
  {
   "cell_type": "markdown",
   "metadata": {
    "slideshow": {
     "slide_type": "subslide"
    }
   },
   "source": [
    "The general ODE takes the form:\n",
    "\\begin{align*}\n",
    "    y'(t) &= f(y,t),\\\\\n",
    "    y(0) &=a.\n",
    "\\end{align*}\n",
    "\n",
    "There are many ways to approximate solutions to ODEs on a computer. We will look at the simplest and oldest method."
   ]
  },
  {
   "cell_type": "markdown",
   "metadata": {
    "slideshow": {
     "slide_type": "subslide"
    }
   },
   "source": [
    "# Forward Euler\n",
    "\n",
    "The *forward Euler method* simply replaces the derivative by a forward finite difference scheme.\n",
    "\n",
    "Mathematically this looks like:\n",
    "$$ \\frac{y(t + \\Delta t) - y(t)}{\\Delta t} = f(y(t),t).$$"
   ]
  },
  {
   "cell_type": "markdown",
   "metadata": {
    "slideshow": {
     "slide_type": "subslide"
    }
   },
   "source": [
    "Starting from the initial condition $Y_0 = y(0)$, we construct a sequence $Y_1, Y_2, \\dots$ such that:\n",
    "\n",
    "$$ Y_{k+1} = Y_k + \\Delta t f(Y_k, k\\Delta t).$$\n",
    "\n",
    "Note that $Y_k \\approx y(k\\Delta t)$."
   ]
  },
  {
   "cell_type": "code",
   "execution_count": null,
   "metadata": {
    "collapsed": true
   },
   "outputs": [],
   "source": []
  }
 ],
 "metadata": {
  "celltoolbar": "Slideshow",
  "kernelspec": {
   "display_name": "Python [Root]",
   "language": "python",
   "name": "Python [Root]"
  },
  "language_info": {
   "codemirror_mode": {
    "name": "ipython",
    "version": 3
   },
   "file_extension": ".py",
   "mimetype": "text/x-python",
   "name": "python",
   "nbconvert_exporter": "python",
   "pygments_lexer": "ipython3",
   "version": "3.5.2"
  }
 },
 "nbformat": 4,
 "nbformat_minor": 0
}
