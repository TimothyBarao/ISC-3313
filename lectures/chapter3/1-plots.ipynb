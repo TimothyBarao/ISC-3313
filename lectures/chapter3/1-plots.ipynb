{
 "cells": [
  {
   "cell_type": "markdown",
   "metadata": {
    "collapsed": true,
    "slideshow": {
     "slide_type": "slide"
    }
   },
   "source": [
    "<p style=\"text-align: center;\"><font size=\"8\"><b>Plotting</b></font><br>"
   ]
  },
  {
   "cell_type": "markdown",
   "metadata": {
    "slideshow": {
     "slide_type": "slide"
    }
   },
   "source": [
    "A nice feature of Python is the ease in which we can create graphics. The standard package we will use is called `matplotlib`, specifically the `matplotlib.pyplot` submodule. This allows us to plot using similar syntax to Matlab (don't worry if this doens't mean anything to you)."
   ]
  },
  {
   "cell_type": "markdown",
   "metadata": {
    "slideshow": {
     "slide_type": "subslide"
    }
   },
   "source": [
    "To start with, in Jupyter when we create new plots, by default they open as new windows. For display purposes (for this lecture) we'd like to display them in the notebook. We do this by including the following directive at the top of the notebook (before the plots). "
   ]
  },
  {
   "cell_type": "code",
   "execution_count": 1,
   "metadata": {
    "collapsed": false
   },
   "outputs": [],
   "source": [
    "%matplotlib inline"
   ]
  },
  {
   "cell_type": "markdown",
   "metadata": {},
   "source": [
    "Plotting outside of Jupyter is slightly different and we'll talk about that at the end of this lecture."
   ]
  },
  {
   "cell_type": "markdown",
   "metadata": {
    "slideshow": {
     "slide_type": "slide"
    }
   },
   "source": [
    "# Basic Plots\n",
    "\n",
    "Without further ado, let's start looking at some plots. First we'll import `matplotlib.pylot` module. To avoid lots of typing later on, we will call this module `plt`."
   ]
  },
  {
   "cell_type": "code",
   "execution_count": 2,
   "metadata": {
    "collapsed": true
   },
   "outputs": [],
   "source": [
    "import matplotlib.pyplot as plt"
   ]
  },
  {
   "cell_type": "markdown",
   "metadata": {
    "slideshow": {
     "slide_type": "subslide"
    }
   },
   "source": [
    "The `plt.plot` command creates a plot."
   ]
  },
  {
   "cell_type": "code",
   "execution_count": 3,
   "metadata": {
    "collapsed": false
   },
   "outputs": [
    {
     "data": {
      "text/plain": [
       "[<matplotlib.lines.Line2D at 0x1da4c990c50>]"
      ]
     },
     "execution_count": 3,
     "metadata": {},
     "output_type": "execute_result"
    },
    {
     "data": {
      "image/png": "[encoded data removed]",
      "text/plain": [
       "<matplotlib.figure.Figure at 0x1da4c8cdc88>"
      ]
     },
     "metadata": {},
     "output_type": "display_data"
    }
   ],
   "source": [
    "plt.plot([1,2,4,3])"
   ]
  },
  {
   "cell_type": "markdown",
   "metadata": {},
   "source": [
    "You'll note that the x-axis ranges from 0 to 3 while the y axis ranges from 1 to 4. If you provide a single list or array to the `plot` command `matlplotlib` assumes it is a sequence of y values and automatically generates the x values for you. The default x values start at 0 (the leading index for Python arrays) and has the same length as y. Therefore in this example x gets the values [0,1,2,3]. The plot above connects the points (0,1), (1,2), (1,4) and (1,3)."
   ]
  },
  {
   "cell_type": "markdown",
   "metadata": {
    "slideshow": {
     "slide_type": "subslide"
    }
   },
   "source": [
    "The plot command can take in an arbitrary number of arguments. For example if you have a specific set of x values you can input a list (or array) of x value in addition to the y values."
   ]
  },
  {
   "cell_type": "code",
   "execution_count": 4,
   "metadata": {
    "collapsed": false
   },
   "outputs": [
    {
     "data": {
      "text/plain": [
       "[<matplotlib.lines.Line2D at 0x1da4ca53c88>]"
      ]
     },
     "execution_count": 4,
     "metadata": {},
     "output_type": "execute_result"
    },
    {
     "data": {
      "image/png": "[encoded data removed]",
      "text/plain": [
       "<matplotlib.figure.Figure at 0x1da4c9bd2e8>"
      ]
     },
     "metadata": {},
     "output_type": "display_data"
    }
   ],
   "source": [
    "plt.plot([1,2,8,9], [1,2,4,3])"
   ]
  },
  {
   "cell_type": "markdown",
   "metadata": {
    "slideshow": {
     "slide_type": "subslide"
    }
   },
   "source": [
    "After the data, an optional argument to the plot command is a string which indicates the color and type of the plot. These letters and symbols of the string are identical to Matlab. "
   ]
  },
  {
   "cell_type": "markdown",
   "metadata": {
    "slideshow": {
     "slide_type": "-"
    }
   },
   "source": [
    "The color is specified by one of the following characters:\n",
    "* 'b' - blue (default)\n",
    "* 'r' - red\n",
    "* 'g' - green\n",
    "* 'c' - cyan\n",
    "* 'y' - yellow\n",
    "* 'm' - magenta\n",
    "* 'k' - black\n",
    "* 'w' - white"
   ]
  },
  {
   "cell_type": "markdown",
   "metadata": {
    "slideshow": {
     "slide_type": "subslide"
    }
   },
   "source": [
    "To plot the individual data points, you can specify one of the following characters:\n",
    "* 'o' - points plotted as circles\n",
    "* 's' - points plotted as squares\n",
    "* '^' - points plotted as triangles\n",
    "* '.' - points plotted as dots\n",
    "\n",
    "The line style can can be one given as one of:\n",
    "* '-'  - continuous line (default)\n",
    "* '--' - dashed line\n",
    "* ':'  - dotted line "
   ]
  },
  {
   "cell_type": "markdown",
   "metadata": {
    "slideshow": {
     "slide_type": "subslide"
    }
   },
   "source": [
    "For example to plot the data using red circles we would pass in \"ro\". "
   ]
  },
  {
   "cell_type": "code",
   "execution_count": 5,
   "metadata": {
    "collapsed": false
   },
   "outputs": [
    {
     "data": {
      "text/plain": [
       "[<matplotlib.lines.Line2D at 0x1da4cdf0a90>]"
      ]
     },
     "execution_count": 5,
     "metadata": {},
     "output_type": "execute_result"
    },
    {
     "data": {
      "image/png": "[encoded data removed]",
      "text/plain": [
       "<matplotlib.figure.Figure at 0x1da4ca6b080>"
      ]
     },
     "metadata": {},
     "output_type": "display_data"
    }
   ],
   "source": [
    "plt.plot([1,2,8,9], [1,2,4,3], \"ro\")"
   ]
  },
  {
   "cell_type": "markdown",
   "metadata": {
    "slideshow": {
     "slide_type": "subslide"
    }
   },
   "source": [
    "These plots are all well and good, but you may want to make them look better or easier to understand. For starters the last plot had some of the data points on the edges of the plot. There is a command called `axis` that takes in a list of 4 numbers: a lower bound for x, an upper bound for x, a lower bound for y and an upper bound for y."
   ]
  },
  {
   "cell_type": "code",
   "execution_count": 6,
   "metadata": {
    "collapsed": false
   },
   "outputs": [
    {
     "data": {
      "text/plain": [
       "[0, 10, 0, 5]"
      ]
     },
     "execution_count": 6,
     "metadata": {},
     "output_type": "execute_result"
    },
    {
     "data": {
      "image/png": "[encoded data removed]",
      "text/plain": [
       "<matplotlib.figure.Figure at 0x1da4ce197b8>"
      ]
     },
     "metadata": {},
     "output_type": "display_data"
    }
   ],
   "source": [
    "plt.plot([1,2,8,9], [1,2,4,3], \"g^--\")\n",
    "plt.axis([0, 10, 0, 5])"
   ]
  },
  {
   "cell_type": "markdown",
   "metadata": {
    "slideshow": {
     "slide_type": "subslide"
    }
   },
   "source": [
    "All good plots should also have axis labels. The commands `xlabel` and `ylabel` do just that. The title command provides a title."
   ]
  },
  {
   "cell_type": "code",
   "execution_count": 7,
   "metadata": {
    "collapsed": false
   },
   "outputs": [
    {
     "data": {
      "text/plain": [
       "<matplotlib.text.Text at 0x1da4ce97630>"
      ]
     },
     "execution_count": 7,
     "metadata": {},
     "output_type": "execute_result"
    },
    {
     "data": {
      "image/png": "[encoded data removed]",
      "text/plain": [
       "<matplotlib.figure.Figure at 0x1da4c9f8908>"
      ]
     },
     "metadata": {},
     "output_type": "display_data"
    }
   ],
   "source": [
    "plt.plot([1,2,8,9], [1,2,4,3], \"-ro\")\n",
    "plt.axis([0, 10, 0, 5])\n",
    "plt.xlabel(\"x values\")\n",
    "plt.ylabel(\"y values\")\n",
    "plt.title(\"A simple plot\")"
   ]
  },
  {
   "cell_type": "markdown",
   "metadata": {
    "slideshow": {
     "slide_type": "subslide"
    }
   },
   "source": [
    "Plots can also have legends. The command `plt.legend()` creates one. In Python there are two ways to populate them.\n",
    "\n",
    "1. Pass an argument `label` to the plot command\n",
    "2. Add a list of names directly to the `legend` command"
   ]
  },
  {
   "cell_type": "code",
   "execution_count": 8,
   "metadata": {
    "collapsed": false
   },
   "outputs": [
    {
     "data": {
      "text/plain": [
       "<matplotlib.legend.Legend at 0x1da4ce87b38>"
      ]
     },
     "execution_count": 8,
     "metadata": {},
     "output_type": "execute_result"
    },
    {
     "data": {
      "image/png": "[encoded data removed]",
      "text/plain": [
       "<matplotlib.figure.Figure at 0x1da4ce87828>"
      ]
     },
     "metadata": {},
     "output_type": "display_data"
    }
   ],
   "source": [
    "plt.plot([1,2,8,9], [1,2,4,3], \"-ro\", label=\"red line with circles\")\n",
    "plt.axis([0, 10, 0, 5])\n",
    "plt.xlabel(\"x values\")\n",
    "plt.ylabel(\"y values\")\n",
    "plt.title(\"A simple plot\")\n",
    "plt.legend()"
   ]
  },
  {
   "cell_type": "code",
   "execution_count": 9,
   "metadata": {
    "collapsed": false
   },
   "outputs": [
    {
     "data": {
      "text/plain": [
       "<matplotlib.legend.Legend at 0x1da4cf427f0>"
      ]
     },
     "execution_count": 9,
     "metadata": {},
     "output_type": "execute_result"
    },
    {
     "data": {
      "image/png": "[encoded data removed]",
      "text/plain": [
       "<matplotlib.figure.Figure at 0x1da4cf42828>"
      ]
     },
     "metadata": {},
     "output_type": "display_data"
    }
   ],
   "source": [
    "plt.plot([1,2,8,9], [1,2,4,3], \"-g^\")\n",
    "plt.axis([0, 10, 0, 5])\n",
    "plt.xlabel(\"x values\")\n",
    "plt.ylabel(\"y values\")\n",
    "plt.title(\"A simple plot\")\n",
    "plt.legend([\"green line with triangles\"])"
   ]
  },
  {
   "cell_type": "markdown",
   "metadata": {
    "slideshow": {
     "slide_type": "slide"
    }
   },
   "source": [
    "# Plotting Functions"
   ]
  },
  {
   "cell_type": "markdown",
   "metadata": {
    "slideshow": {
     "slide_type": "subslide"
    }
   },
   "source": [
    "Say for example we wish to plot the function $y(t) = t^2e^{-t^2}$ for $0 \\leq t\\leq 3$. To do this we will generate a number of equally spaced coordinates in $t$. Then we can evaluate $y(t)$ at each of those points. To do this we will use the `linspace` command from the NumPy module."
   ]
  },
  {
   "cell_type": "code",
   "execution_count": 10,
   "metadata": {
    "collapsed": false
   },
   "outputs": [
    {
     "name": "stdout",
     "output_type": "stream",
     "text": [
      "[ 0.          0.06122449  0.12244898  0.18367347  0.24489796  0.30612245\n",
      "  0.36734694  0.42857143  0.48979592  0.55102041  0.6122449   0.67346939\n",
      "  0.73469388  0.79591837  0.85714286  0.91836735  0.97959184  1.04081633\n",
      "  1.10204082  1.16326531  1.2244898   1.28571429  1.34693878  1.40816327\n",
      "  1.46938776  1.53061224  1.59183673  1.65306122  1.71428571  1.7755102\n",
      "  1.83673469  1.89795918  1.95918367  2.02040816  2.08163265  2.14285714\n",
      "  2.20408163  2.26530612  2.32653061  2.3877551   2.44897959  2.51020408\n",
      "  2.57142857  2.63265306  2.69387755  2.75510204  2.81632653  2.87755102\n",
      "  2.93877551  3.        ]\n"
     ]
    }
   ],
   "source": [
    "import numpy as np # import the NumPy module\n",
    "\n",
    "N = 50\n",
    "\n",
    "# create N equally spaced points on the interval [0,3]\n",
    "t = np.linspace(0,3,N)\n",
    "print(t)"
   ]
  },
  {
   "cell_type": "markdown",
   "metadata": {
    "slideshow": {
     "slide_type": "subslide"
    }
   },
   "source": [
    "To evaluate the function $y(t)$ at all these points, we can plug this array into $y$."
   ]
  },
  {
   "cell_type": "code",
   "execution_count": 11,
   "metadata": {
    "collapsed": false
   },
   "outputs": [
    {
     "name": "stdout",
     "output_type": "stream",
     "text": [
      "[ 0.          0.00373441  0.01477062  0.03261681  0.05648375  0.08532813\n",
      "  0.11790915  0.15285444  0.18873092  0.22411626  0.25766638  0.28817525\n",
      "  0.31462375  0.33621537  0.35239759  0.36286871  0.36757101  0.36667186\n",
      "  0.36053492  0.3496844   0.33476492  0.3164999   0.29565112  0.27298147\n",
      "  0.24922262  0.22504875  0.20105694  0.17775418  0.15555086  0.13475987\n",
      "  0.11560043  0.09820573  0.08263311  0.06887582  0.05687556  0.04653472\n",
      "  0.03772795  0.03031259  0.02413751  0.0190504   0.01490352  0.01155778\n",
      "  0.00888561  0.00677255  0.00511789  0.00383465  0.00284888  0.00209873\n",
      "  0.00153317  0.00111069]\n"
     ]
    }
   ],
   "source": [
    "y = t**2*np.exp(-t**2)\n",
    "print(y)"
   ]
  },
  {
   "cell_type": "markdown",
   "metadata": {
    "slideshow": {
     "slide_type": "subslide"
    }
   },
   "source": [
    "To plot $y$ vs $t$ we simply call `plot`:"
   ]
  },
  {
   "cell_type": "code",
   "execution_count": 12,
   "metadata": {
    "collapsed": false,
    "scrolled": true
   },
   "outputs": [
    {
     "data": {
      "text/plain": [
       "<matplotlib.text.Text at 0x1da4ca23908>"
      ]
     },
     "execution_count": 12,
     "metadata": {},
     "output_type": "execute_result"
    },
    {
     "data": {
      "image/png": "[encoded data removed]",
      "text/plain": [
       "<matplotlib.figure.Figure at 0x1da4ce33da0>"
      ]
     },
     "metadata": {},
     "output_type": "display_data"
    }
   ],
   "source": [
    "plt.plot(t,y)\n",
    "plt.xlabel(\"t\")\n",
    "plt.ylabel(\"y(t)\")"
   ]
  },
  {
   "cell_type": "markdown",
   "metadata": {
    "collapsed": true,
    "slideshow": {
     "slide_type": "subslide"
    }
   },
   "source": [
    "Alternatively, we don't have to create y at all."
   ]
  },
  {
   "cell_type": "code",
   "execution_count": 13,
   "metadata": {
    "collapsed": false
   },
   "outputs": [
    {
     "data": {
      "text/plain": [
       "<matplotlib.text.Text at 0x1da4cfc1898>"
      ]
     },
     "execution_count": 13,
     "metadata": {},
     "output_type": "execute_result"
    },
    {
     "data": {
      "image/png": "[encoded data removed]",
      "text/plain": [
       "<matplotlib.figure.Figure at 0x1da4ce2b9b0>"
      ]
     },
     "metadata": {},
     "output_type": "display_data"
    }
   ],
   "source": [
    "plt.plot(t, t**2*np.exp(-t**2))\n",
    "plt.xlabel(\"t\")\n",
    "plt.ylabel(\"y(t)\")"
   ]
  },
  {
   "cell_type": "markdown",
   "metadata": {
    "collapsed": true,
    "slideshow": {
     "slide_type": "slide"
    }
   },
   "source": [
    "# Subplots\n",
    "\n",
    "Sometimes we wish to have multiple plots in a single figure. The `subplot` command lets us create a figure with $r$ rows and $c$ columns of plots.\n",
    "\n",
    "Calling `plt.subplot(r,c,p)` creates a figure (if it doesn't already exist) containing a tiling of $r$ rows of plots and $c$ columns. Any plotting commands you call will be placed in entry $p$. The plots are numbered from 1 to $r\\times c$, starting in the top left and proceeding left to right and then top to bottom.\n",
    "\n",
    "To switch to another plot, simply call `plt.subplot` again with the new position. "
   ]
  },
  {
   "cell_type": "code",
   "execution_count": 14,
   "metadata": {
    "collapsed": false,
    "slideshow": {
     "slide_type": "subslide"
    }
   },
   "outputs": [
    {
     "data": {
      "text/plain": [
       "<matplotlib.text.Text at 0x1da4d08e780>"
      ]
     },
     "execution_count": 14,
     "metadata": {},
     "output_type": "execute_result"
    },
    {
     "data": {
      "image/png": "[encoded data removed]",
      "text/plain": [
       "<matplotlib.figure.Figure at 0x1da4cfc5e10>"
      ]
     },
     "metadata": {},
     "output_type": "display_data"
    }
   ],
   "source": [
    "plt.subplot(2,1,1)\n",
    "plt.plot(t, t**2*np.exp(-t**2))\n",
    "plt.title(\"Top plot\")\n",
    "plt.xlabel(\"t\")\n",
    "plt.ylabel(\"y(t)\")\n",
    "\n",
    "plt.subplot(2,1,2)\n",
    "plt.plot([1,2,8,9], [1,2,4,3], \"-ro\")\n",
    "plt.axis([0, 10, 0, 5])\n",
    "plt.xlabel(\"x values\")\n",
    "plt.ylabel(\"y values\")\n",
    "plt.title(\"Bottom plot\")"
   ]
  },
  {
   "cell_type": "markdown",
   "metadata": {
    "slideshow": {
     "slide_type": "slide"
    }
   },
   "source": [
    "# Multiple Plots on one Figure\n",
    "\n",
    "Of course it is possible to add more than one plot on a single figure. If you running Jupyter in inline mode (i.e. with `%matplotlib inline` called somewhere), then calling succesive plot commands adds them to the same figure."
   ]
  },
  {
   "cell_type": "code",
   "execution_count": 15,
   "metadata": {
    "collapsed": false
   },
   "outputs": [
    {
     "data": {
      "text/plain": [
       "<matplotlib.legend.Legend at 0x1da4d12b240>"
      ]
     },
     "execution_count": 15,
     "metadata": {},
     "output_type": "execute_result"
    },
    {
     "data": {
      "image/png": "[encoded data removed]",
      "text/plain": [
       "<matplotlib.figure.Figure at 0x1da4cfc5780>"
      ]
     },
     "metadata": {},
     "output_type": "display_data"
    }
   ],
   "source": [
    "plt.plot(t, t**2*np.exp(-t**2), 'm-')\n",
    "plt.plot([1,2,8,9], [0.1,0.2,0.4,0.3], \"g^--\")\n",
    "plt.xlabel(\"t\")\n",
    "plt.ylabel(\"y(t)\")\n",
    "plt.legend([\"function\",\"points\"])"
   ]
  },
  {
   "cell_type": "markdown",
   "metadata": {
    "slideshow": {
     "slide_type": "subslide"
    }
   },
   "source": [
    "# Saving Plots\n",
    "\n",
    "To save a figure as an image, we can use the command `savefig`. Python can tell what type of image you want (png, jpg, eps, gif) based on the file extension."
   ]
  },
  {
   "cell_type": "code",
   "execution_count": 16,
   "metadata": {
    "collapsed": false
   },
   "outputs": [
    {
     "data": {
      "text/plain": [
       "<matplotlib.figure.Figure at 0x1da4ce45630>"
      ]
     },
     "metadata": {},
     "output_type": "display_data"
    }
   ],
   "source": [
    "plt.savefig(\"first_plot.png\")"
   ]
  },
  {
   "cell_type": "markdown",
   "metadata": {
    "slideshow": {
     "slide_type": "slide"
    }
   },
   "source": [
    "# Interactive Plotting\n",
    "\n",
    "In general, you will probably be working with interactive plots. These can be embedded in Jupyter notebooks by calling:"
   ]
  },
  {
   "cell_type": "code",
   "execution_count": 23,
   "metadata": {
    "collapsed": false
   },
   "outputs": [],
   "source": [
    "%matplotlib notebook"
   ]
  },
  {
   "cell_type": "code",
   "execution_count": 24,
   "metadata": {
    "collapsed": false
   },
   "outputs": [
    {
     "data": {
      "application/javascript": [
       "/* Put everything inside the global mpl namespace */\n",
       "window.mpl = {};\n",
       "\n",
       "mpl.get_websocket_type = function() {\n",
       "    if (typeof(WebSocket) !== 'undefined') {\n",
       "        return WebSocket;\n",
       "    } else if (typeof(MozWebSocket) !== 'undefined') {\n",
       "        return MozWebSocket;\n",
       "    } else {\n",
       "        alert('Your browser does not have WebSocket support.' +\n",
       "              'Please try Chrome, Safari or Firefox ≥ 6. ' +\n",
       "              'Firefox 4 and 5 are also supported but you ' +\n",
       "              'have to enable WebSockets in about:config.');\n",
       "    };\n",
       "}\n",
       "\n",
       "mpl.figure = function(figure_id, websocket, ondownload, parent_element) {\n",
       "    this.id = figure_id;\n",
       "\n",
       "    this.ws = websocket;\n",
       "\n",
       "    this.supports_binary = (this.ws.binaryType != undefined);\n",
       "\n",
       "    if (!this.supports_binary) {\n",
       "        var warnings = document.getElementById(\"mpl-warnings\");\n",
       "        if (warnings) {\n",
       "            warnings.style.display = 'block';\n",
       "            warnings.textContent = (\n",
       "                \"This browser does not support binary websocket messages. \" +\n",
       "                    \"Performance may be slow.\");\n",
       "        }\n",
       "    }\n",
       "\n",
       "    this.imageObj = new Image();\n",
       "\n",
       "    this.context = undefined;\n",
       "    this.message = undefined;\n",
       "    this.canvas = undefined;\n",
       "    this.rubberband_canvas = undefined;\n",
       "    this.rubberband_context = undefined;\n",
       "    this.format_dropdown = undefined;\n",
       "\n",
       "    this.image_mode = 'full';\n",
       "\n",
       "    this.root = $('<div/>');\n",
       "    this._root_extra_style(this.root)\n",
       "    this.root.attr('style', 'display: inline-block');\n",
       "\n",
       "    $(parent_element).append(this.root);\n",
       "\n",
       "    this._init_header(this);\n",
       "    this._init_canvas(this);\n",
       "    this._init_toolbar(this);\n",
       "\n",
       "    var fig = this;\n",
       "\n",
       "    this.waiting = false;\n",
       "\n",
       "    this.ws.onopen =  function () {\n",
       "            fig.send_message(\"supports_binary\", {value: fig.supports_binary});\n",
       "            fig.send_message(\"send_image_mode\", {});\n",
       "            fig.send_message(\"refresh\", {});\n",
       "        }\n",
       "\n",
       "    this.imageObj.onload = function() {\n",
       "            if (fig.image_mode == 'full') {\n",
       "                // Full images could contain transparency (where diff images\n",
       "                // almost always do), so we need to clear the canvas so that\n",
       "                // there is no ghosting.\n",
       "                fig.context.clearRect(0, 0, fig.canvas.width, fig.canvas.height);\n",
       "            }\n",
       "            fig.context.drawImage(fig.imageObj, 0, 0);\n",
       "        };\n",
       "\n",
       "    this.imageObj.onunload = function() {\n",
       "        this.ws.close();\n",
       "    }\n",
       "\n",
       "    this.ws.onmessage = this._make_on_message_function(this);\n",
       "\n",
       "    this.ondownload = ondownload;\n",
       "}\n",
       "\n",
       "mpl.figure.prototype._init_header = function() {\n",
       "    var titlebar = $(\n",
       "        '<div class=\"ui-dialog-titlebar ui-widget-header ui-corner-all ' +\n",
       "        'ui-helper-clearfix\"/>');\n",
       "    var titletext = $(\n",
       "        '<div class=\"ui-dialog-title\" style=\"width: 100%; ' +\n",
       "        'text-align: center; padding: 3px;\"/>');\n",
       "    titlebar.append(titletext)\n",
       "    this.root.append(titlebar);\n",
       "    this.header = titletext[0];\n",
       "}\n",
       "\n",
       "\n",
       "\n",
       "mpl.figure.prototype._canvas_extra_style = function(canvas_div) {\n",
       "\n",
       "}\n",
       "\n",
       "\n",
       "mpl.figure.prototype._root_extra_style = function(canvas_div) {\n",
       "\n",
       "}\n",
       "\n",
       "mpl.figure.prototype._init_canvas = function() {\n",
       "    var fig = this;\n",
       "\n",
       "    var canvas_div = $('<div/>');\n",
       "\n",
       "    canvas_div.attr('style', 'position: relative; clear: both; outline: 0');\n",
       "\n",
       "    function canvas_keyboard_event(event) {\n",
       "        return fig.key_event(event, event['data']);\n",
       "    }\n",
       "\n",
       "    canvas_div.keydown('key_press', canvas_keyboard_event);\n",
       "    canvas_div.keyup('key_release', canvas_keyboard_event);\n",
       "    this.canvas_div = canvas_div\n",
       "    this._canvas_extra_style(canvas_div)\n",
       "    this.root.append(canvas_div);\n",
       "\n",
       "    var canvas = $('<canvas/>');\n",
       "    canvas.addClass('mpl-canvas');\n",
       "    canvas.attr('style', \"left: 0; top: 0; z-index: 0; outline: 0\")\n",
       "\n",
       "    this.canvas = canvas[0];\n",
       "    this.context = canvas[0].getContext(\"2d\");\n",
       "\n",
       "    var rubberband = $('<canvas/>');\n",
       "    rubberband.attr('style', \"position: absolute; left: 0; top: 0; z-index: 1;\")\n",
       "\n",
       "    var pass_mouse_events = true;\n",
       "\n",
       "    canvas_div.resizable({\n",
       "        start: function(event, ui) {\n",
       "            pass_mouse_events = false;\n",
       "        },\n",
       "        resize: function(event, ui) {\n",
       "            fig.request_resize(ui.size.width, ui.size.height);\n",
       "        },\n",
       "        stop: function(event, ui) {\n",
       "            pass_mouse_events = true;\n",
       "            fig.request_resize(ui.size.width, ui.size.height);\n",
       "        },\n",
       "    });\n",
       "\n",
       "    function mouse_event_fn(event) {\n",
       "        if (pass_mouse_events)\n",
       "            return fig.mouse_event(event, event['data']);\n",
       "    }\n",
       "\n",
       "    rubberband.mousedown('button_press', mouse_event_fn);\n",
       "    rubberband.mouseup('button_release', mouse_event_fn);\n",
       "    // Throttle sequential mouse events to 1 every 20ms.\n",
       "    rubberband.mousemove('motion_notify', mouse_event_fn);\n",
       "\n",
       "    rubberband.mouseenter('figure_enter', mouse_event_fn);\n",
       "    rubberband.mouseleave('figure_leave', mouse_event_fn);\n",
       "\n",
       "    canvas_div.on(\"wheel\", function (event) {\n",
       "        event = event.originalEvent;\n",
       "        event['data'] = 'scroll'\n",
       "        if (event.deltaY < 0) {\n",
       "            event.step = 1;\n",
       "        } else {\n",
       "            event.step = -1;\n",
       "        }\n",
       "        mouse_event_fn(event);\n",
       "    });\n",
       "\n",
       "    canvas_div.append(canvas);\n",
       "    canvas_div.append(rubberband);\n",
       "\n",
       "    this.rubberband = rubberband;\n",
       "    this.rubberband_canvas = rubberband[0];\n",
       "    this.rubberband_context = rubberband[0].getContext(\"2d\");\n",
       "    this.rubberband_context.strokeStyle = \"#000000\";\n",
       "\n",
       "    this._resize_canvas = function(width, height) {\n",
       "        // Keep the size of the canvas, canvas container, and rubber band\n",
       "        // canvas in synch.\n",
       "        canvas_div.css('width', width)\n",
       "        canvas_div.css('height', height)\n",
       "\n",
       "        canvas.attr('width', width);\n",
       "        canvas.attr('height', height);\n",
       "\n",
       "        rubberband.attr('width', width);\n",
       "        rubberband.attr('height', height);\n",
       "    }\n",
       "\n",
       "    // Set the figure to an initial 600x600px, this will subsequently be updated\n",
       "    // upon first draw.\n",
       "    this._resize_canvas(600, 600);\n",
       "\n",
       "    // Disable right mouse context menu.\n",
       "    $(this.rubberband_canvas).bind(\"contextmenu\",function(e){\n",
       "        return false;\n",
       "    });\n",
       "\n",
       "    function set_focus () {\n",
       "        canvas.focus();\n",
       "        canvas_div.focus();\n",
       "    }\n",
       "\n",
       "    window.setTimeout(set_focus, 100);\n",
       "}\n",
       "\n",
       "mpl.figure.prototype._init_toolbar = function() {\n",
       "    var fig = this;\n",
       "\n",
       "    var nav_element = $('<div/>')\n",
       "    nav_element.attr('style', 'width: 100%');\n",
       "    this.root.append(nav_element);\n",
       "\n",
       "    // Define a callback function for later on.\n",
       "    function toolbar_event(event) {\n",
       "        return fig.toolbar_button_onclick(event['data']);\n",
       "    }\n",
       "    function toolbar_mouse_event(event) {\n",
       "        return fig.toolbar_button_onmouseover(event['data']);\n",
       "    }\n",
       "\n",
       "    for(var toolbar_ind in mpl.toolbar_items) {\n",
       "        var name = mpl.toolbar_items[toolbar_ind][0];\n",
       "        var tooltip = mpl.toolbar_items[toolbar_ind][1];\n",
       "        var image = mpl.toolbar_items[toolbar_ind][2];\n",
       "        var method_name = mpl.toolbar_items[toolbar_ind][3];\n",
       "\n",
       "        if (!name) {\n",
       "            // put a spacer in here.\n",
       "            continue;\n",
       "        }\n",
       "        var button = $('<button/>');\n",
       "        button.addClass('ui-button ui-widget ui-state-default ui-corner-all ' +\n",
       "                        'ui-button-icon-only');\n",
       "        button.attr('role', 'button');\n",
       "        button.attr('aria-disabled', 'false');\n",
       "        button.click(method_name, toolbar_event);\n",
       "        button.mouseover(tooltip, toolbar_mouse_event);\n",
       "\n",
       "        var icon_img = $('<span/>');\n",
       "        icon_img.addClass('ui-button-icon-primary ui-icon');\n",
       "        icon_img.addClass(image);\n",
       "        icon_img.addClass('ui-corner-all');\n",
       "\n",
       "        var tooltip_span = $('<span/>');\n",
       "        tooltip_span.addClass('ui-button-text');\n",
       "        tooltip_span.html(tooltip);\n",
       "\n",
       "        button.append(icon_img);\n",
       "        button.append(tooltip_span);\n",
       "\n",
       "        nav_element.append(button);\n",
       "    }\n",
       "\n",
       "    var fmt_picker_span = $('<span/>');\n",
       "\n",
       "    var fmt_picker = $('<select/>');\n",
       "    fmt_picker.addClass('mpl-toolbar-option ui-widget ui-widget-content');\n",
       "    fmt_picker_span.append(fmt_picker);\n",
       "    nav_element.append(fmt_picker_span);\n",
       "    this.format_dropdown = fmt_picker[0];\n",
       "\n",
       "    for (var ind in mpl.extensions) {\n",
       "        var fmt = mpl.extensions[ind];\n",
       "        var option = $(\n",
       "            '<option/>', {selected: fmt === mpl.default_extension}).html(fmt);\n",
       "        fmt_picker.append(option)\n",
       "    }\n",
       "\n",
       "    // Add hover states to the ui-buttons\n",
       "    $( \".ui-button\" ).hover(\n",
       "        function() { $(this).addClass(\"ui-state-hover\");},\n",
       "        function() { $(this).removeClass(\"ui-state-hover\");}\n",
       "    );\n",
       "\n",
       "    var status_bar = $('<span class=\"mpl-message\"/>');\n",
       "    nav_element.append(status_bar);\n",
       "    this.message = status_bar[0];\n",
       "}\n",
       "\n",
       "mpl.figure.prototype.request_resize = function(x_pixels, y_pixels) {\n",
       "    // Request matplotlib to resize the figure. Matplotlib will then trigger a resize in the client,\n",
       "    // which will in turn request a refresh of the image.\n",
       "    this.send_message('resize', {'width': x_pixels, 'height': y_pixels});\n",
       "}\n",
       "\n",
       "mpl.figure.prototype.send_message = function(type, properties) {\n",
       "    properties['type'] = type;\n",
       "    properties['figure_id'] = this.id;\n",
       "    this.ws.send(JSON.stringify(properties));\n",
       "}\n",
       "\n",
       "mpl.figure.prototype.send_draw_message = function() {\n",
       "    if (!this.waiting) {\n",
       "        this.waiting = true;\n",
       "        this.ws.send(JSON.stringify({type: \"draw\", figure_id: this.id}));\n",
       "    }\n",
       "}\n",
       "\n",
       "\n",
       "mpl.figure.prototype.handle_save = function(fig, msg) {\n",
       "    var format_dropdown = fig.format_dropdown;\n",
       "    var format = format_dropdown.options[format_dropdown.selectedIndex].value;\n",
       "    fig.ondownload(fig, format);\n",
       "}\n",
       "\n",
       "\n",
       "mpl.figure.prototype.handle_resize = function(fig, msg) {\n",
       "    var size = msg['size'];\n",
       "    if (size[0] != fig.canvas.width || size[1] != fig.canvas.height) {\n",
       "        fig._resize_canvas(size[0], size[1]);\n",
       "        fig.send_message(\"refresh\", {});\n",
       "    };\n",
       "}\n",
       "\n",
       "mpl.figure.prototype.handle_rubberband = function(fig, msg) {\n",
       "    var x0 = msg['x0'];\n",
       "    var y0 = fig.canvas.height - msg['y0'];\n",
       "    var x1 = msg['x1'];\n",
       "    var y1 = fig.canvas.height - msg['y1'];\n",
       "    x0 = Math.floor(x0) + 0.5;\n",
       "    y0 = Math.floor(y0) + 0.5;\n",
       "    x1 = Math.floor(x1) + 0.5;\n",
       "    y1 = Math.floor(y1) + 0.5;\n",
       "    var min_x = Math.min(x0, x1);\n",
       "    var min_y = Math.min(y0, y1);\n",
       "    var width = Math.abs(x1 - x0);\n",
       "    var height = Math.abs(y1 - y0);\n",
       "\n",
       "    fig.rubberband_context.clearRect(\n",
       "        0, 0, fig.canvas.width, fig.canvas.height);\n",
       "\n",
       "    fig.rubberband_context.strokeRect(min_x, min_y, width, height);\n",
       "}\n",
       "\n",
       "mpl.figure.prototype.handle_figure_label = function(fig, msg) {\n",
       "    // Updates the figure title.\n",
       "    fig.header.textContent = msg['label'];\n",
       "}\n",
       "\n",
       "mpl.figure.prototype.handle_cursor = function(fig, msg) {\n",
       "    var cursor = msg['cursor'];\n",
       "    switch(cursor)\n",
       "    {\n",
       "    case 0:\n",
       "        cursor = 'pointer';\n",
       "        break;\n",
       "    case 1:\n",
       "        cursor = 'default';\n",
       "        break;\n",
       "    case 2:\n",
       "        cursor = 'crosshair';\n",
       "        break;\n",
       "    case 3:\n",
       "        cursor = 'move';\n",
       "        break;\n",
       "    }\n",
       "    fig.rubberband_canvas.style.cursor = cursor;\n",
       "}\n",
       "\n",
       "mpl.figure.prototype.handle_message = function(fig, msg) {\n",
       "    fig.message.textContent = msg['message'];\n",
       "}\n",
       "\n",
       "mpl.figure.prototype.handle_draw = function(fig, msg) {\n",
       "    // Request the server to send over a new figure.\n",
       "    fig.send_draw_message();\n",
       "}\n",
       "\n",
       "mpl.figure.prototype.handle_image_mode = function(fig, msg) {\n",
       "    fig.image_mode = msg['mode'];\n",
       "}\n",
       "\n",
       "mpl.figure.prototype.updated_canvas_event = function() {\n",
       "    // Called whenever the canvas gets updated.\n",
       "    this.send_message(\"ack\", {});\n",
       "}\n",
       "\n",
       "// A function to construct a web socket function for onmessage handling.\n",
       "// Called in the figure constructor.\n",
       "mpl.figure.prototype._make_on_message_function = function(fig) {\n",
       "    return function socket_on_message(evt) {\n",
       "        if (evt.data instanceof Blob) {\n",
       "            /* FIXME: We get \"Resource interpreted as Image but\n",
       "             * transferred with MIME type text/plain:\" errors on\n",
       "             * Chrome.  But how to set the MIME type?  It doesn't seem\n",
       "             * to be part of the websocket stream */\n",
       "            evt.data.type = \"image/png\";\n",
       "\n",
       "            /* Free the memory for the previous frames */\n",
       "            if (fig.imageObj.src) {\n",
       "                (window.URL || window.webkitURL).revokeObjectURL(\n",
       "                    fig.imageObj.src);\n",
       "            }\n",
       "\n",
       "            fig.imageObj.src = (window.URL || window.webkitURL).createObjectURL(\n",
       "                evt.data);\n",
       "            fig.updated_canvas_event();\n",
       "            fig.waiting = false;\n",
       "            return;\n",
       "        }\n",
       "        else if (typeof evt.data === 'string' && evt.data.slice(0, 21) == \"data:image/png;base64\") {\n",
       "            fig.imageObj.src = evt.data;\n",
       "            fig.updated_canvas_event();\n",
       "            fig.waiting = false;\n",
       "            return;\n",
       "        }\n",
       "\n",
       "        var msg = JSON.parse(evt.data);\n",
       "        var msg_type = msg['type'];\n",
       "\n",
       "        // Call the  \"handle_{type}\" callback, which takes\n",
       "        // the figure and JSON message as its only arguments.\n",
       "        try {\n",
       "            var callback = fig[\"handle_\" + msg_type];\n",
       "        } catch (e) {\n",
       "            console.log(\"No handler for the '\" + msg_type + \"' message type: \", msg);\n",
       "            return;\n",
       "        }\n",
       "\n",
       "        if (callback) {\n",
       "            try {\n",
       "                // console.log(\"Handling '\" + msg_type + \"' message: \", msg);\n",
       "                callback(fig, msg);\n",
       "            } catch (e) {\n",
       "                console.log(\"Exception inside the 'handler_\" + msg_type + \"' callback:\", e, e.stack, msg);\n",
       "            }\n",
       "        }\n",
       "    };\n",
       "}\n",
       "\n",
       "// from http://stackoverflow.com/questions/1114465/getting-mouse-location-in-canvas\n",
       "mpl.findpos = function(e) {\n",
       "    //this section is from http://www.quirksmode.org/js/events_properties.html\n",
       "    var targ;\n",
       "    if (!e)\n",
       "        e = window.event;\n",
       "    if (e.target)\n",
       "        targ = e.target;\n",
       "    else if (e.srcElement)\n",
       "        targ = e.srcElement;\n",
       "    if (targ.nodeType == 3) // defeat Safari bug\n",
       "        targ = targ.parentNode;\n",
       "\n",
       "    // jQuery normalizes the pageX and pageY\n",
       "    // pageX,Y are the mouse positions relative to the document\n",
       "    // offset() returns the position of the element relative to the document\n",
       "    var x = e.pageX - $(targ).offset().left;\n",
       "    var y = e.pageY - $(targ).offset().top;\n",
       "\n",
       "    return {\"x\": x, \"y\": y};\n",
       "};\n",
       "\n",
       "/*\n",
       " * return a copy of an object with only non-object keys\n",
       " * we need this to avoid circular references\n",
       " * http://stackoverflow.com/a/24161582/3208463\n",
       " */\n",
       "function simpleKeys (original) {\n",
       "  return Object.keys(original).reduce(function (obj, key) {\n",
       "    if (typeof original[key] !== 'object')\n",
       "        obj[key] = original[key]\n",
       "    return obj;\n",
       "  }, {});\n",
       "}\n",
       "\n",
       "mpl.figure.prototype.mouse_event = function(event, name) {\n",
       "    var canvas_pos = mpl.findpos(event)\n",
       "\n",
       "    if (name === 'button_press')\n",
       "    {\n",
       "        this.canvas.focus();\n",
       "        this.canvas_div.focus();\n",
       "    }\n",
       "\n",
       "    var x = canvas_pos.x;\n",
       "    var y = canvas_pos.y;\n",
       "\n",
       "    this.send_message(name, {x: x, y: y, button: event.button,\n",
       "                             step: event.step,\n",
       "                             guiEvent: simpleKeys(event)});\n",
       "\n",
       "    /* This prevents the web browser from automatically changing to\n",
       "     * the text insertion cursor when the button is pressed.  We want\n",
       "     * to control all of the cursor setting manually through the\n",
       "     * 'cursor' event from matplotlib */\n",
       "    event.preventDefault();\n",
       "    return false;\n",
       "}\n",
       "\n",
       "mpl.figure.prototype._key_event_extra = function(event, name) {\n",
       "    // Handle any extra behaviour associated with a key event\n",
       "}\n",
       "\n",
       "mpl.figure.prototype.key_event = function(event, name) {\n",
       "\n",
       "    // Prevent repeat events\n",
       "    if (name == 'key_press')\n",
       "    {\n",
       "        if (event.which === this._key)\n",
       "            return;\n",
       "        else\n",
       "            this._key = event.which;\n",
       "    }\n",
       "    if (name == 'key_release')\n",
       "        this._key = null;\n",
       "\n",
       "    var value = '';\n",
       "    if (event.ctrlKey && event.which != 17)\n",
       "        value += \"ctrl+\";\n",
       "    if (event.altKey && event.which != 18)\n",
       "        value += \"alt+\";\n",
       "    if (event.shiftKey && event.which != 16)\n",
       "        value += \"shift+\";\n",
       "\n",
       "    value += 'k';\n",
       "    value += event.which.toString();\n",
       "\n",
       "    this._key_event_extra(event, name);\n",
       "\n",
       "    this.send_message(name, {key: value,\n",
       "                             guiEvent: simpleKeys(event)});\n",
       "    return false;\n",
       "}\n",
       "\n",
       "mpl.figure.prototype.toolbar_button_onclick = function(name) {\n",
       "    if (name == 'download') {\n",
       "        this.handle_save(this, null);\n",
       "    } else {\n",
       "        this.send_message(\"toolbar_button\", {name: name});\n",
       "    }\n",
       "};\n",
       "\n",
       "mpl.figure.prototype.toolbar_button_onmouseover = function(tooltip) {\n",
       "    this.message.textContent = tooltip;\n",
       "};\n",
       "mpl.toolbar_items = [[\"Home\", \"Reset original view\", \"fa fa-home icon-home\", \"home\"], [\"Back\", \"Back to  previous view\", \"fa fa-arrow-left icon-arrow-left\", \"back\"], [\"Forward\", \"Forward to next view\", \"fa fa-arrow-right icon-arrow-right\", \"forward\"], [\"\", \"\", \"\", \"\"], [\"Pan\", \"Pan axes with left mouse, zoom with right\", \"fa fa-arrows icon-move\", \"pan\"], [\"Zoom\", \"Zoom to rectangle\", \"fa fa-square-o icon-check-empty\", \"zoom\"], [\"\", \"\", \"\", \"\"], [\"Download\", \"Download plot\", \"fa fa-floppy-o icon-save\", \"download\"]];\n",
       "\n",
       "mpl.extensions = [\"eps\", \"jpeg\", \"pdf\", \"png\", \"ps\", \"raw\", \"svg\", \"tif\"];\n",
       "\n",
       "mpl.default_extension = \"png\";var comm_websocket_adapter = function(comm) {\n",
       "    // Create a \"websocket\"-like object which calls the given IPython comm\n",
       "    // object with the appropriate methods. Currently this is a non binary\n",
       "    // socket, so there is still some room for performance tuning.\n",
       "    var ws = {};\n",
       "\n",
       "    ws.close = function() {\n",
       "        comm.close()\n",
       "    };\n",
       "    ws.send = function(m) {\n",
       "        //console.log('sending', m);\n",
       "        comm.send(m);\n",
       "    };\n",
       "    // Register the callback with on_msg.\n",
       "    comm.on_msg(function(msg) {\n",
       "        //console.log('receiving', msg['content']['data'], msg);\n",
       "        // Pass the mpl event to the overriden (by mpl) onmessage function.\n",
       "        ws.onmessage(msg['content']['data'])\n",
       "    });\n",
       "    return ws;\n",
       "}\n",
       "\n",
       "mpl.mpl_figure_comm = function(comm, msg) {\n",
       "    // This is the function which gets called when the mpl process\n",
       "    // starts-up an IPython Comm through the \"matplotlib\" channel.\n",
       "\n",
       "    var id = msg.content.data.id;\n",
       "    // Get hold of the div created by the display call when the Comm\n",
       "    // socket was opened in Python.\n",
       "    var element = $(\"#\" + id);\n",
       "    var ws_proxy = comm_websocket_adapter(comm)\n",
       "\n",
       "    function ondownload(figure, format) {\n",
       "        window.open(figure.imageObj.src);\n",
       "    }\n",
       "\n",
       "    var fig = new mpl.figure(id, ws_proxy,\n",
       "                           ondownload,\n",
       "                           element.get(0));\n",
       "\n",
       "    // Call onopen now - mpl needs it, as it is assuming we've passed it a real\n",
       "    // web socket which is closed, not our websocket->open comm proxy.\n",
       "    ws_proxy.onopen();\n",
       "\n",
       "    fig.parent_element = element.get(0);\n",
       "    fig.cell_info = mpl.find_output_cell(\"<div id='\" + id + \"'></div>\");\n",
       "    if (!fig.cell_info) {\n",
       "        console.error(\"Failed to find cell for figure\", id, fig);\n",
       "        return;\n",
       "    }\n",
       "\n",
       "    var output_index = fig.cell_info[2]\n",
       "    var cell = fig.cell_info[0];\n",
       "\n",
       "};\n",
       "\n",
       "mpl.figure.prototype.handle_close = function(fig, msg) {\n",
       "    fig.root.unbind('remove')\n",
       "\n",
       "    // Update the output cell to use the data from the current canvas.\n",
       "    fig.push_to_output();\n",
       "    var dataURL = fig.canvas.toDataURL();\n",
       "    // Re-enable the keyboard manager in IPython - without this line, in FF,\n",
       "    // the notebook keyboard shortcuts fail.\n",
       "    IPython.keyboard_manager.enable()\n",
       "    $(fig.parent_element).html('<img src=\"' + dataURL + '\">');\n",
       "    fig.close_ws(fig, msg);\n",
       "}\n",
       "\n",
       "mpl.figure.prototype.close_ws = function(fig, msg){\n",
       "    fig.send_message('closing', msg);\n",
       "    // fig.ws.close()\n",
       "}\n",
       "\n",
       "mpl.figure.prototype.push_to_output = function(remove_interactive) {\n",
       "    // Turn the data on the canvas into data in the output cell.\n",
       "    var dataURL = this.canvas.toDataURL();\n",
       "    this.cell_info[1]['text/html'] = '<img src=\"' + dataURL + '\">';\n",
       "}\n",
       "\n",
       "mpl.figure.prototype.updated_canvas_event = function() {\n",
       "    // Tell IPython that the notebook contents must change.\n",
       "    IPython.notebook.set_dirty(true);\n",
       "    this.send_message(\"ack\", {});\n",
       "    var fig = this;\n",
       "    // Wait a second, then push the new image to the DOM so\n",
       "    // that it is saved nicely (might be nice to debounce this).\n",
       "    setTimeout(function () { fig.push_to_output() }, 1000);\n",
       "}\n",
       "\n",
       "mpl.figure.prototype._init_toolbar = function() {\n",
       "    var fig = this;\n",
       "\n",
       "    var nav_element = $('<div/>')\n",
       "    nav_element.attr('style', 'width: 100%');\n",
       "    this.root.append(nav_element);\n",
       "\n",
       "    // Define a callback function for later on.\n",
       "    function toolbar_event(event) {\n",
       "        return fig.toolbar_button_onclick(event['data']);\n",
       "    }\n",
       "    function toolbar_mouse_event(event) {\n",
       "        return fig.toolbar_button_onmouseover(event['data']);\n",
       "    }\n",
       "\n",
       "    for(var toolbar_ind in mpl.toolbar_items){\n",
       "        var name = mpl.toolbar_items[toolbar_ind][0];\n",
       "        var tooltip = mpl.toolbar_items[toolbar_ind][1];\n",
       "        var image = mpl.toolbar_items[toolbar_ind][2];\n",
       "        var method_name = mpl.toolbar_items[toolbar_ind][3];\n",
       "\n",
       "        if (!name) { continue; };\n",
       "\n",
       "        var button = $('<button class=\"btn btn-default\" href=\"#\" title=\"' + name + '\"><i class=\"fa ' + image + ' fa-lg\"></i></button>');\n",
       "        button.click(method_name, toolbar_event);\n",
       "        button.mouseover(tooltip, toolbar_mouse_event);\n",
       "        nav_element.append(button);\n",
       "    }\n",
       "\n",
       "    // Add the status bar.\n",
       "    var status_bar = $('<span class=\"mpl-message\" style=\"text-align:right; float: right;\"/>');\n",
       "    nav_element.append(status_bar);\n",
       "    this.message = status_bar[0];\n",
       "\n",
       "    // Add the close button to the window.\n",
       "    var buttongrp = $('<div class=\"btn-group inline pull-right\"></div>');\n",
       "    var button = $('<button class=\"btn btn-mini btn-primary\" href=\"#\" title=\"Stop Interaction\"><i class=\"fa fa-power-off icon-remove icon-large\"></i></button>');\n",
       "    button.click(function (evt) { fig.handle_close(fig, {}); } );\n",
       "    button.mouseover('Stop Interaction', toolbar_mouse_event);\n",
       "    buttongrp.append(button);\n",
       "    var titlebar = this.root.find($('.ui-dialog-titlebar'));\n",
       "    titlebar.prepend(buttongrp);\n",
       "}\n",
       "\n",
       "mpl.figure.prototype._root_extra_style = function(el){\n",
       "    var fig = this\n",
       "    el.on(\"remove\", function(){\n",
       "\tfig.close_ws(fig, {});\n",
       "    });\n",
       "}\n",
       "\n",
       "mpl.figure.prototype._canvas_extra_style = function(el){\n",
       "    // this is important to make the div 'focusable\n",
       "    el.attr('tabindex', 0)\n",
       "    // reach out to IPython and tell the keyboard manager to turn it's self\n",
       "    // off when our div gets focus\n",
       "\n",
       "    // location in version 3\n",
       "    if (IPython.notebook.keyboard_manager) {\n",
       "        IPython.notebook.keyboard_manager.register_events(el);\n",
       "    }\n",
       "    else {\n",
       "        // location in version 2\n",
       "        IPython.keyboard_manager.register_events(el);\n",
       "    }\n",
       "\n",
       "}\n",
       "\n",
       "mpl.figure.prototype._key_event_extra = function(event, name) {\n",
       "    var manager = IPython.notebook.keyboard_manager;\n",
       "    if (!manager)\n",
       "        manager = IPython.keyboard_manager;\n",
       "\n",
       "    // Check for shift+enter\n",
       "    if (event.shiftKey && event.which == 13) {\n",
       "        this.canvas_div.blur();\n",
       "        event.shiftKey = false;\n",
       "        // Send a \"J\" for go to next cell\n",
       "        event.which = 74;\n",
       "        event.keyCode = 74;\n",
       "        manager.command_mode();\n",
       "        manager.handle_keydown(event);\n",
       "    }\n",
       "}\n",
       "\n",
       "mpl.figure.prototype.handle_save = function(fig, msg) {\n",
       "    fig.ondownload(fig, null);\n",
       "}\n",
       "\n",
       "\n",
       "mpl.find_output_cell = function(html_output) {\n",
       "    // Return the cell and output element which can be found *uniquely* in the notebook.\n",
       "    // Note - this is a bit hacky, but it is done because the \"notebook_saving.Notebook\"\n",
       "    // IPython event is triggered only after the cells have been serialised, which for\n",
       "    // our purposes (turning an active figure into a static one), is too late.\n",
       "    var cells = IPython.notebook.get_cells();\n",
       "    var ncells = cells.length;\n",
       "    for (var i=0; i<ncells; i++) {\n",
       "        var cell = cells[i];\n",
       "        if (cell.cell_type === 'code'){\n",
       "            for (var j=0; j<cell.output_area.outputs.length; j++) {\n",
       "                var data = cell.output_area.outputs[j];\n",
       "                if (data.data) {\n",
       "                    // IPython >= 3 moved mimebundle to data attribute of output\n",
       "                    data = data.data;\n",
       "                }\n",
       "                if (data['text/html'] == html_output) {\n",
       "                    return [cell, data, j];\n",
       "                }\n",
       "            }\n",
       "        }\n",
       "    }\n",
       "}\n",
       "\n",
       "// Register the function which deals with the matplotlib target/channel.\n",
       "// The kernel may be null if the page has been refreshed.\n",
       "if (IPython.notebook.kernel != null) {\n",
       "    IPython.notebook.kernel.comm_manager.register_target('matplotlib', mpl.mpl_figure_comm);\n",
       "}\n"
      ],
      "text/plain": [
       "<IPython.core.display.Javascript object>"
      ]
     },
     "metadata": {},
     "output_type": "display_data"
    },
    {
     "data": {
      "text/html": [
       "<img src=\"data:image/png;base64,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\">"
      ],
      "text/plain": [
       "<IPython.core.display.HTML object>"
      ]
     },
     "metadata": {},
     "output_type": "display_data"
    },
    {
     "data": {
      "text/plain": [
       "[<matplotlib.lines.Line2D at 0x1da4d7a5b00>]"
      ]
     },
     "execution_count": 24,
     "metadata": {},
     "output_type": "execute_result"
    }
   ],
   "source": [
    "plt.plot(t, t**2*np.exp(-t**2), 'k-')"
   ]
  },
  {
   "cell_type": "markdown",
   "metadata": {},
   "source": [
    "Note that you can interact with the plot. You can resize it, you can pan left or right, you can zoom in and out and you can save it."
   ]
  },
  {
   "cell_type": "markdown",
   "metadata": {
    "slideshow": {
     "slide_type": "subslide"
    }
   },
   "source": [
    "Once you create an interactive figure, it is your active figure. Any commands relating to plotting you issue will apply to that figure. If I were to call:\n",
    "\n",
    "    plt.xlabel(\"t\")\n",
    "    plt.ylabel(\"y(t)\")\n",
    "    plt.title(\"Interactive plot\")\n",
    "    \n",
    "then the previous plot would all of a sudden have those labels and title."
   ]
  },
  {
   "cell_type": "markdown",
   "metadata": {
    "slideshow": {
     "slide_type": "subslide"
    }
   },
   "source": [
    "You can create a new interactive figure by using the `figure` command."
   ]
  },
  {
   "cell_type": "code",
   "execution_count": 25,
   "metadata": {
    "collapsed": false
   },
   "outputs": [
    {
     "data": {
      "application/javascript": [
       "/* Put everything inside the global mpl namespace */\n",
       "window.mpl = {};\n",
       "\n",
       "mpl.get_websocket_type = function() {\n",
       "    if (typeof(WebSocket) !== 'undefined') {\n",
       "        return WebSocket;\n",
       "    } else if (typeof(MozWebSocket) !== 'undefined') {\n",
       "        return MozWebSocket;\n",
       "    } else {\n",
       "        alert('Your browser does not have WebSocket support.' +\n",
       "              'Please try Chrome, Safari or Firefox ≥ 6. ' +\n",
       "              'Firefox 4 and 5 are also supported but you ' +\n",
       "              'have to enable WebSockets in about:config.');\n",
       "    };\n",
       "}\n",
       "\n",
       "mpl.figure = function(figure_id, websocket, ondownload, parent_element) {\n",
       "    this.id = figure_id;\n",
       "\n",
       "    this.ws = websocket;\n",
       "\n",
       "    this.supports_binary = (this.ws.binaryType != undefined);\n",
       "\n",
       "    if (!this.supports_binary) {\n",
       "        var warnings = document.getElementById(\"mpl-warnings\");\n",
       "        if (warnings) {\n",
       "            warnings.style.display = 'block';\n",
       "            warnings.textContent = (\n",
       "                \"This browser does not support binary websocket messages. \" +\n",
       "                    \"Performance may be slow.\");\n",
       "        }\n",
       "    }\n",
       "\n",
       "    this.imageObj = new Image();\n",
       "\n",
       "    this.context = undefined;\n",
       "    this.message = undefined;\n",
       "    this.canvas = undefined;\n",
       "    this.rubberband_canvas = undefined;\n",
       "    this.rubberband_context = undefined;\n",
       "    this.format_dropdown = undefined;\n",
       "\n",
       "    this.image_mode = 'full';\n",
       "\n",
       "    this.root = $('<div/>');\n",
       "    this._root_extra_style(this.root)\n",
       "    this.root.attr('style', 'display: inline-block');\n",
       "\n",
       "    $(parent_element).append(this.root);\n",
       "\n",
       "    this._init_header(this);\n",
       "    this._init_canvas(this);\n",
       "    this._init_toolbar(this);\n",
       "\n",
       "    var fig = this;\n",
       "\n",
       "    this.waiting = false;\n",
       "\n",
       "    this.ws.onopen =  function () {\n",
       "            fig.send_message(\"supports_binary\", {value: fig.supports_binary});\n",
       "            fig.send_message(\"send_image_mode\", {});\n",
       "            fig.send_message(\"refresh\", {});\n",
       "        }\n",
       "\n",
       "    this.imageObj.onload = function() {\n",
       "            if (fig.image_mode == 'full') {\n",
       "                // Full images could contain transparency (where diff images\n",
       "                // almost always do), so we need to clear the canvas so that\n",
       "                // there is no ghosting.\n",
       "                fig.context.clearRect(0, 0, fig.canvas.width, fig.canvas.height);\n",
       "            }\n",
       "            fig.context.drawImage(fig.imageObj, 0, 0);\n",
       "        };\n",
       "\n",
       "    this.imageObj.onunload = function() {\n",
       "        this.ws.close();\n",
       "    }\n",
       "\n",
       "    this.ws.onmessage = this._make_on_message_function(this);\n",
       "\n",
       "    this.ondownload = ondownload;\n",
       "}\n",
       "\n",
       "mpl.figure.prototype._init_header = function() {\n",
       "    var titlebar = $(\n",
       "        '<div class=\"ui-dialog-titlebar ui-widget-header ui-corner-all ' +\n",
       "        'ui-helper-clearfix\"/>');\n",
       "    var titletext = $(\n",
       "        '<div class=\"ui-dialog-title\" style=\"width: 100%; ' +\n",
       "        'text-align: center; padding: 3px;\"/>');\n",
       "    titlebar.append(titletext)\n",
       "    this.root.append(titlebar);\n",
       "    this.header = titletext[0];\n",
       "}\n",
       "\n",
       "\n",
       "\n",
       "mpl.figure.prototype._canvas_extra_style = function(canvas_div) {\n",
       "\n",
       "}\n",
       "\n",
       "\n",
       "mpl.figure.prototype._root_extra_style = function(canvas_div) {\n",
       "\n",
       "}\n",
       "\n",
       "mpl.figure.prototype._init_canvas = function() {\n",
       "    var fig = this;\n",
       "\n",
       "    var canvas_div = $('<div/>');\n",
       "\n",
       "    canvas_div.attr('style', 'position: relative; clear: both; outline: 0');\n",
       "\n",
       "    function canvas_keyboard_event(event) {\n",
       "        return fig.key_event(event, event['data']);\n",
       "    }\n",
       "\n",
       "    canvas_div.keydown('key_press', canvas_keyboard_event);\n",
       "    canvas_div.keyup('key_release', canvas_keyboard_event);\n",
       "    this.canvas_div = canvas_div\n",
       "    this._canvas_extra_style(canvas_div)\n",
       "    this.root.append(canvas_div);\n",
       "\n",
       "    var canvas = $('<canvas/>');\n",
       "    canvas.addClass('mpl-canvas');\n",
       "    canvas.attr('style', \"left: 0; top: 0; z-index: 0; outline: 0\")\n",
       "\n",
       "    this.canvas = canvas[0];\n",
       "    this.context = canvas[0].getContext(\"2d\");\n",
       "\n",
       "    var rubberband = $('<canvas/>');\n",
       "    rubberband.attr('style', \"position: absolute; left: 0; top: 0; z-index: 1;\")\n",
       "\n",
       "    var pass_mouse_events = true;\n",
       "\n",
       "    canvas_div.resizable({\n",
       "        start: function(event, ui) {\n",
       "            pass_mouse_events = false;\n",
       "        },\n",
       "        resize: function(event, ui) {\n",
       "            fig.request_resize(ui.size.width, ui.size.height);\n",
       "        },\n",
       "        stop: function(event, ui) {\n",
       "            pass_mouse_events = true;\n",
       "            fig.request_resize(ui.size.width, ui.size.height);\n",
       "        },\n",
       "    });\n",
       "\n",
       "    function mouse_event_fn(event) {\n",
       "        if (pass_mouse_events)\n",
       "            return fig.mouse_event(event, event['data']);\n",
       "    }\n",
       "\n",
       "    rubberband.mousedown('button_press', mouse_event_fn);\n",
       "    rubberband.mouseup('button_release', mouse_event_fn);\n",
       "    // Throttle sequential mouse events to 1 every 20ms.\n",
       "    rubberband.mousemove('motion_notify', mouse_event_fn);\n",
       "\n",
       "    rubberband.mouseenter('figure_enter', mouse_event_fn);\n",
       "    rubberband.mouseleave('figure_leave', mouse_event_fn);\n",
       "\n",
       "    canvas_div.on(\"wheel\", function (event) {\n",
       "        event = event.originalEvent;\n",
       "        event['data'] = 'scroll'\n",
       "        if (event.deltaY < 0) {\n",
       "            event.step = 1;\n",
       "        } else {\n",
       "            event.step = -1;\n",
       "        }\n",
       "        mouse_event_fn(event);\n",
       "    });\n",
       "\n",
       "    canvas_div.append(canvas);\n",
       "    canvas_div.append(rubberband);\n",
       "\n",
       "    this.rubberband = rubberband;\n",
       "    this.rubberband_canvas = rubberband[0];\n",
       "    this.rubberband_context = rubberband[0].getContext(\"2d\");\n",
       "    this.rubberband_context.strokeStyle = \"#000000\";\n",
       "\n",
       "    this._resize_canvas = function(width, height) {\n",
       "        // Keep the size of the canvas, canvas container, and rubber band\n",
       "        // canvas in synch.\n",
       "        canvas_div.css('width', width)\n",
       "        canvas_div.css('height', height)\n",
       "\n",
       "        canvas.attr('width', width);\n",
       "        canvas.attr('height', height);\n",
       "\n",
       "        rubberband.attr('width', width);\n",
       "        rubberband.attr('height', height);\n",
       "    }\n",
       "\n",
       "    // Set the figure to an initial 600x600px, this will subsequently be updated\n",
       "    // upon first draw.\n",
       "    this._resize_canvas(600, 600);\n",
       "\n",
       "    // Disable right mouse context menu.\n",
       "    $(this.rubberband_canvas).bind(\"contextmenu\",function(e){\n",
       "        return false;\n",
       "    });\n",
       "\n",
       "    function set_focus () {\n",
       "        canvas.focus();\n",
       "        canvas_div.focus();\n",
       "    }\n",
       "\n",
       "    window.setTimeout(set_focus, 100);\n",
       "}\n",
       "\n",
       "mpl.figure.prototype._init_toolbar = function() {\n",
       "    var fig = this;\n",
       "\n",
       "    var nav_element = $('<div/>')\n",
       "    nav_element.attr('style', 'width: 100%');\n",
       "    this.root.append(nav_element);\n",
       "\n",
       "    // Define a callback function for later on.\n",
       "    function toolbar_event(event) {\n",
       "        return fig.toolbar_button_onclick(event['data']);\n",
       "    }\n",
       "    function toolbar_mouse_event(event) {\n",
       "        return fig.toolbar_button_onmouseover(event['data']);\n",
       "    }\n",
       "\n",
       "    for(var toolbar_ind in mpl.toolbar_items) {\n",
       "        var name = mpl.toolbar_items[toolbar_ind][0];\n",
       "        var tooltip = mpl.toolbar_items[toolbar_ind][1];\n",
       "        var image = mpl.toolbar_items[toolbar_ind][2];\n",
       "        var method_name = mpl.toolbar_items[toolbar_ind][3];\n",
       "\n",
       "        if (!name) {\n",
       "            // put a spacer in here.\n",
       "            continue;\n",
       "        }\n",
       "        var button = $('<button/>');\n",
       "        button.addClass('ui-button ui-widget ui-state-default ui-corner-all ' +\n",
       "                        'ui-button-icon-only');\n",
       "        button.attr('role', 'button');\n",
       "        button.attr('aria-disabled', 'false');\n",
       "        button.click(method_name, toolbar_event);\n",
       "        button.mouseover(tooltip, toolbar_mouse_event);\n",
       "\n",
       "        var icon_img = $('<span/>');\n",
       "        icon_img.addClass('ui-button-icon-primary ui-icon');\n",
       "        icon_img.addClass(image);\n",
       "        icon_img.addClass('ui-corner-all');\n",
       "\n",
       "        var tooltip_span = $('<span/>');\n",
       "        tooltip_span.addClass('ui-button-text');\n",
       "        tooltip_span.html(tooltip);\n",
       "\n",
       "        button.append(icon_img);\n",
       "        button.append(tooltip_span);\n",
       "\n",
       "        nav_element.append(button);\n",
       "    }\n",
       "\n",
       "    var fmt_picker_span = $('<span/>');\n",
       "\n",
       "    var fmt_picker = $('<select/>');\n",
       "    fmt_picker.addClass('mpl-toolbar-option ui-widget ui-widget-content');\n",
       "    fmt_picker_span.append(fmt_picker);\n",
       "    nav_element.append(fmt_picker_span);\n",
       "    this.format_dropdown = fmt_picker[0];\n",
       "\n",
       "    for (var ind in mpl.extensions) {\n",
       "        var fmt = mpl.extensions[ind];\n",
       "        var option = $(\n",
       "            '<option/>', {selected: fmt === mpl.default_extension}).html(fmt);\n",
       "        fmt_picker.append(option)\n",
       "    }\n",
       "\n",
       "    // Add hover states to the ui-buttons\n",
       "    $( \".ui-button\" ).hover(\n",
       "        function() { $(this).addClass(\"ui-state-hover\");},\n",
       "        function() { $(this).removeClass(\"ui-state-hover\");}\n",
       "    );\n",
       "\n",
       "    var status_bar = $('<span class=\"mpl-message\"/>');\n",
       "    nav_element.append(status_bar);\n",
       "    this.message = status_bar[0];\n",
       "}\n",
       "\n",
       "mpl.figure.prototype.request_resize = function(x_pixels, y_pixels) {\n",
       "    // Request matplotlib to resize the figure. Matplotlib will then trigger a resize in the client,\n",
       "    // which will in turn request a refresh of the image.\n",
       "    this.send_message('resize', {'width': x_pixels, 'height': y_pixels});\n",
       "}\n",
       "\n",
       "mpl.figure.prototype.send_message = function(type, properties) {\n",
       "    properties['type'] = type;\n",
       "    properties['figure_id'] = this.id;\n",
       "    this.ws.send(JSON.stringify(properties));\n",
       "}\n",
       "\n",
       "mpl.figure.prototype.send_draw_message = function() {\n",
       "    if (!this.waiting) {\n",
       "        this.waiting = true;\n",
       "        this.ws.send(JSON.stringify({type: \"draw\", figure_id: this.id}));\n",
       "    }\n",
       "}\n",
       "\n",
       "\n",
       "mpl.figure.prototype.handle_save = function(fig, msg) {\n",
       "    var format_dropdown = fig.format_dropdown;\n",
       "    var format = format_dropdown.options[format_dropdown.selectedIndex].value;\n",
       "    fig.ondownload(fig, format);\n",
       "}\n",
       "\n",
       "\n",
       "mpl.figure.prototype.handle_resize = function(fig, msg) {\n",
       "    var size = msg['size'];\n",
       "    if (size[0] != fig.canvas.width || size[1] != fig.canvas.height) {\n",
       "        fig._resize_canvas(size[0], size[1]);\n",
       "        fig.send_message(\"refresh\", {});\n",
       "    };\n",
       "}\n",
       "\n",
       "mpl.figure.prototype.handle_rubberband = function(fig, msg) {\n",
       "    var x0 = msg['x0'];\n",
       "    var y0 = fig.canvas.height - msg['y0'];\n",
       "    var x1 = msg['x1'];\n",
       "    var y1 = fig.canvas.height - msg['y1'];\n",
       "    x0 = Math.floor(x0) + 0.5;\n",
       "    y0 = Math.floor(y0) + 0.5;\n",
       "    x1 = Math.floor(x1) + 0.5;\n",
       "    y1 = Math.floor(y1) + 0.5;\n",
       "    var min_x = Math.min(x0, x1);\n",
       "    var min_y = Math.min(y0, y1);\n",
       "    var width = Math.abs(x1 - x0);\n",
       "    var height = Math.abs(y1 - y0);\n",
       "\n",
       "    fig.rubberband_context.clearRect(\n",
       "        0, 0, fig.canvas.width, fig.canvas.height);\n",
       "\n",
       "    fig.rubberband_context.strokeRect(min_x, min_y, width, height);\n",
       "}\n",
       "\n",
       "mpl.figure.prototype.handle_figure_label = function(fig, msg) {\n",
       "    // Updates the figure title.\n",
       "    fig.header.textContent = msg['label'];\n",
       "}\n",
       "\n",
       "mpl.figure.prototype.handle_cursor = function(fig, msg) {\n",
       "    var cursor = msg['cursor'];\n",
       "    switch(cursor)\n",
       "    {\n",
       "    case 0:\n",
       "        cursor = 'pointer';\n",
       "        break;\n",
       "    case 1:\n",
       "        cursor = 'default';\n",
       "        break;\n",
       "    case 2:\n",
       "        cursor = 'crosshair';\n",
       "        break;\n",
       "    case 3:\n",
       "        cursor = 'move';\n",
       "        break;\n",
       "    }\n",
       "    fig.rubberband_canvas.style.cursor = cursor;\n",
       "}\n",
       "\n",
       "mpl.figure.prototype.handle_message = function(fig, msg) {\n",
       "    fig.message.textContent = msg['message'];\n",
       "}\n",
       "\n",
       "mpl.figure.prototype.handle_draw = function(fig, msg) {\n",
       "    // Request the server to send over a new figure.\n",
       "    fig.send_draw_message();\n",
       "}\n",
       "\n",
       "mpl.figure.prototype.handle_image_mode = function(fig, msg) {\n",
       "    fig.image_mode = msg['mode'];\n",
       "}\n",
       "\n",
       "mpl.figure.prototype.updated_canvas_event = function() {\n",
       "    // Called whenever the canvas gets updated.\n",
       "    this.send_message(\"ack\", {});\n",
       "}\n",
       "\n",
       "// A function to construct a web socket function for onmessage handling.\n",
       "// Called in the figure constructor.\n",
       "mpl.figure.prototype._make_on_message_function = function(fig) {\n",
       "    return function socket_on_message(evt) {\n",
       "        if (evt.data instanceof Blob) {\n",
       "            /* FIXME: We get \"Resource interpreted as Image but\n",
       "             * transferred with MIME type text/plain:\" errors on\n",
       "             * Chrome.  But how to set the MIME type?  It doesn't seem\n",
       "             * to be part of the websocket stream */\n",
       "            evt.data.type = \"image/png\";\n",
       "\n",
       "            /* Free the memory for the previous frames */\n",
       "            if (fig.imageObj.src) {\n",
       "                (window.URL || window.webkitURL).revokeObjectURL(\n",
       "                    fig.imageObj.src);\n",
       "            }\n",
       "\n",
       "            fig.imageObj.src = (window.URL || window.webkitURL).createObjectURL(\n",
       "                evt.data);\n",
       "            fig.updated_canvas_event();\n",
       "            fig.waiting = false;\n",
       "            return;\n",
       "        }\n",
       "        else if (typeof evt.data === 'string' && evt.data.slice(0, 21) == \"data:image/png;base64\") {\n",
       "            fig.imageObj.src = evt.data;\n",
       "            fig.updated_canvas_event();\n",
       "            fig.waiting = false;\n",
       "            return;\n",
       "        }\n",
       "\n",
       "        var msg = JSON.parse(evt.data);\n",
       "        var msg_type = msg['type'];\n",
       "\n",
       "        // Call the  \"handle_{type}\" callback, which takes\n",
       "        // the figure and JSON message as its only arguments.\n",
       "        try {\n",
       "            var callback = fig[\"handle_\" + msg_type];\n",
       "        } catch (e) {\n",
       "            console.log(\"No handler for the '\" + msg_type + \"' message type: \", msg);\n",
       "            return;\n",
       "        }\n",
       "\n",
       "        if (callback) {\n",
       "            try {\n",
       "                // console.log(\"Handling '\" + msg_type + \"' message: \", msg);\n",
       "                callback(fig, msg);\n",
       "            } catch (e) {\n",
       "                console.log(\"Exception inside the 'handler_\" + msg_type + \"' callback:\", e, e.stack, msg);\n",
       "            }\n",
       "        }\n",
       "    };\n",
       "}\n",
       "\n",
       "// from http://stackoverflow.com/questions/1114465/getting-mouse-location-in-canvas\n",
       "mpl.findpos = function(e) {\n",
       "    //this section is from http://www.quirksmode.org/js/events_properties.html\n",
       "    var targ;\n",
       "    if (!e)\n",
       "        e = window.event;\n",
       "    if (e.target)\n",
       "        targ = e.target;\n",
       "    else if (e.srcElement)\n",
       "        targ = e.srcElement;\n",
       "    if (targ.nodeType == 3) // defeat Safari bug\n",
       "        targ = targ.parentNode;\n",
       "\n",
       "    // jQuery normalizes the pageX and pageY\n",
       "    // pageX,Y are the mouse positions relative to the document\n",
       "    // offset() returns the position of the element relative to the document\n",
       "    var x = e.pageX - $(targ).offset().left;\n",
       "    var y = e.pageY - $(targ).offset().top;\n",
       "\n",
       "    return {\"x\": x, \"y\": y};\n",
       "};\n",
       "\n",
       "/*\n",
       " * return a copy of an object with only non-object keys\n",
       " * we need this to avoid circular references\n",
       " * http://stackoverflow.com/a/24161582/3208463\n",
       " */\n",
       "function simpleKeys (original) {\n",
       "  return Object.keys(original).reduce(function (obj, key) {\n",
       "    if (typeof original[key] !== 'object')\n",
       "        obj[key] = original[key]\n",
       "    return obj;\n",
       "  }, {});\n",
       "}\n",
       "\n",
       "mpl.figure.prototype.mouse_event = function(event, name) {\n",
       "    var canvas_pos = mpl.findpos(event)\n",
       "\n",
       "    if (name === 'button_press')\n",
       "    {\n",
       "        this.canvas.focus();\n",
       "        this.canvas_div.focus();\n",
       "    }\n",
       "\n",
       "    var x = canvas_pos.x;\n",
       "    var y = canvas_pos.y;\n",
       "\n",
       "    this.send_message(name, {x: x, y: y, button: event.button,\n",
       "                             step: event.step,\n",
       "                             guiEvent: simpleKeys(event)});\n",
       "\n",
       "    /* This prevents the web browser from automatically changing to\n",
       "     * the text insertion cursor when the button is pressed.  We want\n",
       "     * to control all of the cursor setting manually through the\n",
       "     * 'cursor' event from matplotlib */\n",
       "    event.preventDefault();\n",
       "    return false;\n",
       "}\n",
       "\n",
       "mpl.figure.prototype._key_event_extra = function(event, name) {\n",
       "    // Handle any extra behaviour associated with a key event\n",
       "}\n",
       "\n",
       "mpl.figure.prototype.key_event = function(event, name) {\n",
       "\n",
       "    // Prevent repeat events\n",
       "    if (name == 'key_press')\n",
       "    {\n",
       "        if (event.which === this._key)\n",
       "            return;\n",
       "        else\n",
       "            this._key = event.which;\n",
       "    }\n",
       "    if (name == 'key_release')\n",
       "        this._key = null;\n",
       "\n",
       "    var value = '';\n",
       "    if (event.ctrlKey && event.which != 17)\n",
       "        value += \"ctrl+\";\n",
       "    if (event.altKey && event.which != 18)\n",
       "        value += \"alt+\";\n",
       "    if (event.shiftKey && event.which != 16)\n",
       "        value += \"shift+\";\n",
       "\n",
       "    value += 'k';\n",
       "    value += event.which.toString();\n",
       "\n",
       "    this._key_event_extra(event, name);\n",
       "\n",
       "    this.send_message(name, {key: value,\n",
       "                             guiEvent: simpleKeys(event)});\n",
       "    return false;\n",
       "}\n",
       "\n",
       "mpl.figure.prototype.toolbar_button_onclick = function(name) {\n",
       "    if (name == 'download') {\n",
       "        this.handle_save(this, null);\n",
       "    } else {\n",
       "        this.send_message(\"toolbar_button\", {name: name});\n",
       "    }\n",
       "};\n",
       "\n",
       "mpl.figure.prototype.toolbar_button_onmouseover = function(tooltip) {\n",
       "    this.message.textContent = tooltip;\n",
       "};\n",
       "mpl.toolbar_items = [[\"Home\", \"Reset original view\", \"fa fa-home icon-home\", \"home\"], [\"Back\", \"Back to  previous view\", \"fa fa-arrow-left icon-arrow-left\", \"back\"], [\"Forward\", \"Forward to next view\", \"fa fa-arrow-right icon-arrow-right\", \"forward\"], [\"\", \"\", \"\", \"\"], [\"Pan\", \"Pan axes with left mouse, zoom with right\", \"fa fa-arrows icon-move\", \"pan\"], [\"Zoom\", \"Zoom to rectangle\", \"fa fa-square-o icon-check-empty\", \"zoom\"], [\"\", \"\", \"\", \"\"], [\"Download\", \"Download plot\", \"fa fa-floppy-o icon-save\", \"download\"]];\n",
       "\n",
       "mpl.extensions = [\"eps\", \"jpeg\", \"pdf\", \"png\", \"ps\", \"raw\", \"svg\", \"tif\"];\n",
       "\n",
       "mpl.default_extension = \"png\";var comm_websocket_adapter = function(comm) {\n",
       "    // Create a \"websocket\"-like object which calls the given IPython comm\n",
       "    // object with the appropriate methods. Currently this is a non binary\n",
       "    // socket, so there is still some room for performance tuning.\n",
       "    var ws = {};\n",
       "\n",
       "    ws.close = function() {\n",
       "        comm.close()\n",
       "    };\n",
       "    ws.send = function(m) {\n",
       "        //console.log('sending', m);\n",
       "        comm.send(m);\n",
       "    };\n",
       "    // Register the callback with on_msg.\n",
       "    comm.on_msg(function(msg) {\n",
       "        //console.log('receiving', msg['content']['data'], msg);\n",
       "        // Pass the mpl event to the overriden (by mpl) onmessage function.\n",
       "        ws.onmessage(msg['content']['data'])\n",
       "    });\n",
       "    return ws;\n",
       "}\n",
       "\n",
       "mpl.mpl_figure_comm = function(comm, msg) {\n",
       "    // This is the function which gets called when the mpl process\n",
       "    // starts-up an IPython Comm through the \"matplotlib\" channel.\n",
       "\n",
       "    var id = msg.content.data.id;\n",
       "    // Get hold of the div created by the display call when the Comm\n",
       "    // socket was opened in Python.\n",
       "    var element = $(\"#\" + id);\n",
       "    var ws_proxy = comm_websocket_adapter(comm)\n",
       "\n",
       "    function ondownload(figure, format) {\n",
       "        window.open(figure.imageObj.src);\n",
       "    }\n",
       "\n",
       "    var fig = new mpl.figure(id, ws_proxy,\n",
       "                           ondownload,\n",
       "                           element.get(0));\n",
       "\n",
       "    // Call onopen now - mpl needs it, as it is assuming we've passed it a real\n",
       "    // web socket which is closed, not our websocket->open comm proxy.\n",
       "    ws_proxy.onopen();\n",
       "\n",
       "    fig.parent_element = element.get(0);\n",
       "    fig.cell_info = mpl.find_output_cell(\"<div id='\" + id + \"'></div>\");\n",
       "    if (!fig.cell_info) {\n",
       "        console.error(\"Failed to find cell for figure\", id, fig);\n",
       "        return;\n",
       "    }\n",
       "\n",
       "    var output_index = fig.cell_info[2]\n",
       "    var cell = fig.cell_info[0];\n",
       "\n",
       "};\n",
       "\n",
       "mpl.figure.prototype.handle_close = function(fig, msg) {\n",
       "    fig.root.unbind('remove')\n",
       "\n",
       "    // Update the output cell to use the data from the current canvas.\n",
       "    fig.push_to_output();\n",
       "    var dataURL = fig.canvas.toDataURL();\n",
       "    // Re-enable the keyboard manager in IPython - without this line, in FF,\n",
       "    // the notebook keyboard shortcuts fail.\n",
       "    IPython.keyboard_manager.enable()\n",
       "    $(fig.parent_element).html('<img src=\"' + dataURL + '\">');\n",
       "    fig.close_ws(fig, msg);\n",
       "}\n",
       "\n",
       "mpl.figure.prototype.close_ws = function(fig, msg){\n",
       "    fig.send_message('closing', msg);\n",
       "    // fig.ws.close()\n",
       "}\n",
       "\n",
       "mpl.figure.prototype.push_to_output = function(remove_interactive) {\n",
       "    // Turn the data on the canvas into data in the output cell.\n",
       "    var dataURL = this.canvas.toDataURL();\n",
       "    this.cell_info[1]['text/html'] = '<img src=\"' + dataURL + '\">';\n",
       "}\n",
       "\n",
       "mpl.figure.prototype.updated_canvas_event = function() {\n",
       "    // Tell IPython that the notebook contents must change.\n",
       "    IPython.notebook.set_dirty(true);\n",
       "    this.send_message(\"ack\", {});\n",
       "    var fig = this;\n",
       "    // Wait a second, then push the new image to the DOM so\n",
       "    // that it is saved nicely (might be nice to debounce this).\n",
       "    setTimeout(function () { fig.push_to_output() }, 1000);\n",
       "}\n",
       "\n",
       "mpl.figure.prototype._init_toolbar = function() {\n",
       "    var fig = this;\n",
       "\n",
       "    var nav_element = $('<div/>')\n",
       "    nav_element.attr('style', 'width: 100%');\n",
       "    this.root.append(nav_element);\n",
       "\n",
       "    // Define a callback function for later on.\n",
       "    function toolbar_event(event) {\n",
       "        return fig.toolbar_button_onclick(event['data']);\n",
       "    }\n",
       "    function toolbar_mouse_event(event) {\n",
       "        return fig.toolbar_button_onmouseover(event['data']);\n",
       "    }\n",
       "\n",
       "    for(var toolbar_ind in mpl.toolbar_items){\n",
       "        var name = mpl.toolbar_items[toolbar_ind][0];\n",
       "        var tooltip = mpl.toolbar_items[toolbar_ind][1];\n",
       "        var image = mpl.toolbar_items[toolbar_ind][2];\n",
       "        var method_name = mpl.toolbar_items[toolbar_ind][3];\n",
       "\n",
       "        if (!name) { continue; };\n",
       "\n",
       "        var button = $('<button class=\"btn btn-default\" href=\"#\" title=\"' + name + '\"><i class=\"fa ' + image + ' fa-lg\"></i></button>');\n",
       "        button.click(method_name, toolbar_event);\n",
       "        button.mouseover(tooltip, toolbar_mouse_event);\n",
       "        nav_element.append(button);\n",
       "    }\n",
       "\n",
       "    // Add the status bar.\n",
       "    var status_bar = $('<span class=\"mpl-message\" style=\"text-align:right; float: right;\"/>');\n",
       "    nav_element.append(status_bar);\n",
       "    this.message = status_bar[0];\n",
       "\n",
       "    // Add the close button to the window.\n",
       "    var buttongrp = $('<div class=\"btn-group inline pull-right\"></div>');\n",
       "    var button = $('<button class=\"btn btn-mini btn-primary\" href=\"#\" title=\"Stop Interaction\"><i class=\"fa fa-power-off icon-remove icon-large\"></i></button>');\n",
       "    button.click(function (evt) { fig.handle_close(fig, {}); } );\n",
       "    button.mouseover('Stop Interaction', toolbar_mouse_event);\n",
       "    buttongrp.append(button);\n",
       "    var titlebar = this.root.find($('.ui-dialog-titlebar'));\n",
       "    titlebar.prepend(buttongrp);\n",
       "}\n",
       "\n",
       "mpl.figure.prototype._root_extra_style = function(el){\n",
       "    var fig = this\n",
       "    el.on(\"remove\", function(){\n",
       "\tfig.close_ws(fig, {});\n",
       "    });\n",
       "}\n",
       "\n",
       "mpl.figure.prototype._canvas_extra_style = function(el){\n",
       "    // this is important to make the div 'focusable\n",
       "    el.attr('tabindex', 0)\n",
       "    // reach out to IPython and tell the keyboard manager to turn it's self\n",
       "    // off when our div gets focus\n",
       "\n",
       "    // location in version 3\n",
       "    if (IPython.notebook.keyboard_manager) {\n",
       "        IPython.notebook.keyboard_manager.register_events(el);\n",
       "    }\n",
       "    else {\n",
       "        // location in version 2\n",
       "        IPython.keyboard_manager.register_events(el);\n",
       "    }\n",
       "\n",
       "}\n",
       "\n",
       "mpl.figure.prototype._key_event_extra = function(event, name) {\n",
       "    var manager = IPython.notebook.keyboard_manager;\n",
       "    if (!manager)\n",
       "        manager = IPython.keyboard_manager;\n",
       "\n",
       "    // Check for shift+enter\n",
       "    if (event.shiftKey && event.which == 13) {\n",
       "        this.canvas_div.blur();\n",
       "        event.shiftKey = false;\n",
       "        // Send a \"J\" for go to next cell\n",
       "        event.which = 74;\n",
       "        event.keyCode = 74;\n",
       "        manager.command_mode();\n",
       "        manager.handle_keydown(event);\n",
       "    }\n",
       "}\n",
       "\n",
       "mpl.figure.prototype.handle_save = function(fig, msg) {\n",
       "    fig.ondownload(fig, null);\n",
       "}\n",
       "\n",
       "\n",
       "mpl.find_output_cell = function(html_output) {\n",
       "    // Return the cell and output element which can be found *uniquely* in the notebook.\n",
       "    // Note - this is a bit hacky, but it is done because the \"notebook_saving.Notebook\"\n",
       "    // IPython event is triggered only after the cells have been serialised, which for\n",
       "    // our purposes (turning an active figure into a static one), is too late.\n",
       "    var cells = IPython.notebook.get_cells();\n",
       "    var ncells = cells.length;\n",
       "    for (var i=0; i<ncells; i++) {\n",
       "        var cell = cells[i];\n",
       "        if (cell.cell_type === 'code'){\n",
       "            for (var j=0; j<cell.output_area.outputs.length; j++) {\n",
       "                var data = cell.output_area.outputs[j];\n",
       "                if (data.data) {\n",
       "                    // IPython >= 3 moved mimebundle to data attribute of output\n",
       "                    data = data.data;\n",
       "                }\n",
       "                if (data['text/html'] == html_output) {\n",
       "                    return [cell, data, j];\n",
       "                }\n",
       "            }\n",
       "        }\n",
       "    }\n",
       "}\n",
       "\n",
       "// Register the function which deals with the matplotlib target/channel.\n",
       "// The kernel may be null if the page has been refreshed.\n",
       "if (IPython.notebook.kernel != null) {\n",
       "    IPython.notebook.kernel.comm_manager.register_target('matplotlib', mpl.mpl_figure_comm);\n",
       "}\n"
      ],
      "text/plain": [
       "<IPython.core.display.Javascript object>"
      ]
     },
     "metadata": {},
     "output_type": "display_data"
    },
    {
     "data": {
      "text/html": [
       "<img src=\"data:image/png;base64,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\">"
      ],
      "text/plain": [
       "<IPython.core.display.HTML object>"
      ]
     },
     "metadata": {},
     "output_type": "display_data"
    },
    {
     "data": {
      "text/plain": [
       "<matplotlib.text.Text at 0x1da4da6b438>"
      ]
     },
     "execution_count": 25,
     "metadata": {},
     "output_type": "execute_result"
    }
   ],
   "source": [
    "plt.figure()\n",
    "plt.plot(t, t**2*np.exp(-t**2), 'c-')\n",
    "plt.xlabel(\"t\")\n",
    "plt.ylabel(\"y(t)\")"
   ]
  },
  {
   "cell_type": "markdown",
   "metadata": {
    "slideshow": {
     "slide_type": "subslide"
    }
   },
   "source": [
    "Whether you work with inline plots or interactive plots is up to you."
   ]
  },
  {
   "cell_type": "code",
   "execution_count": 21,
   "metadata": {
    "collapsed": true
   },
   "outputs": [],
   "source": [
    "plt.savefig(\"first_plot.png\")"
   ]
  },
  {
   "cell_type": "code",
   "execution_count": null,
   "metadata": {
    "collapsed": true
   },
   "outputs": [],
   "source": []
  }
 ],
 "metadata": {
  "anaconda-cloud": {},
  "celltoolbar": "Slideshow",
  "kernelspec": {
   "display_name": "Python [Root]",
   "language": "python",
   "name": "Python [Root]"
  },
  "language_info": {
   "codemirror_mode": {
    "name": "ipython",
    "version": 3
   },
   "file_extension": ".py",
   "mimetype": "text/x-python",
   "name": "python",
   "nbconvert_exporter": "python",
   "pygments_lexer": "ipython3",
   "version": "3.5.2"
  }
 },
 "nbformat": 4,
 "nbformat_minor": 0
}
