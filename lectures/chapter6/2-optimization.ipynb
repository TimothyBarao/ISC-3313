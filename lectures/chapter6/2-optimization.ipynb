{
 "cells": [
  {
   "cell_type": "markdown",
   "metadata": {
    "slideshow": {
     "slide_type": "slide"
    }
   },
   "source": [
    "<p style=\"text-align: center;\"><font size=\"8\"><b>Optimization</b></font><br>"
   ]
  },
  {
   "cell_type": "markdown",
   "metadata": {
    "slideshow": {
     "slide_type": "slide"
    }
   },
   "source": [
    "A common task in science and engineering is to find the minimum (or maximum) of a function. For example we may want to find the shape of a wing that minimizes drag. Problems like these are called *optimization* problems. "
   ]
  },
  {
   "cell_type": "markdown",
   "metadata": {
    "slideshow": {
     "slide_type": "slide"
    }
   },
   "source": [
    "The formal definition of a minimization problem is:\n",
    "$$\\text{find } \\mathbf{x} \\text{ such that } f(\\mathbf{x}) \\text{ is as small as it can be.}$$\n",
    "That is for all $\\mathbf{y}$, $f(\\mathbf{y}) \\geq f(\\mathbf{x})$.\n",
    "\n",
    "For example the minimum of $f(x) = 1 + x^2$ is $x = 0$. "
   ]
  },
  {
   "cell_type": "markdown",
   "metadata": {
    "slideshow": {
     "slide_type": "slide"
    }
   },
   "source": [
    "## Global vs. Local Minimuma\n",
    "\n",
    "An important concept in optimization is that of global minimum vs. local minimuma. "
   ]
  },
  {
   "cell_type": "markdown",
   "metadata": {
    "slideshow": {
     "slide_type": "slide"
    }
   },
   "source": [
    "## Steepest Descent\n",
    "\n",
    "One method to compute a local minimum is known as the method of steepest descent. This method uses derivative information to iterate to the local mimimum of a function $f(x)$. Loosely speaking, starting from a point $x_0$, we take a step in the direction that the function is decreasing. The step size is somehow related to the size of the dirivative. If the derivative is large we take a large step, if it is small we take a small step.\n",
    "\n",
    "Starting from a point $x_0$, the sequence of iterates:\n",
    "$$ x_{k+1} = x_k - \\gamma_k f'(x_k)$$\n",
    "converges to the local minimum $x^*$, provided $\\gamma^k$ satisfies certain conditions. "
   ]
  },
  {
   "cell_type": "markdown",
   "metadata": {
    "slideshow": {
     "slide_type": "subslide"
    }
   },
   "source": [
    "How do we choose $\\gamma_k$? \n",
    "\n",
    "There are several methods we can use. We will use a backtracking line search. "
   ]
  },
  {
   "cell_type": "code",
   "execution_count": 1,
   "metadata": {
    "collapsed": true
   },
   "outputs": [],
   "source": [
    "import numpy as np\n",
    "import matplotlib.pyplot as plt\n",
    "%matplotlib inline"
   ]
  },
  {
   "cell_type": "code",
   "execution_count": 2,
   "metadata": {
    "collapsed": false
   },
   "outputs": [],
   "source": [
    "def backtrack_search(f, df, p, x, gamma = 10, c = 0.5, max_it = 100):\n",
    "    it_count = 0\n",
    "    while f(x + gamma*p) > f(x) + 0.5*gamma*np.dot(p,df(x)) and it_count < max_it:\n",
    "        it_count += 1\n",
    "        gamma = c*gamma\n",
    "\n",
    "    return gamma"
   ]
  },
  {
   "cell_type": "code",
   "execution_count": 3,
   "metadata": {
    "collapsed": false
   },
   "outputs": [],
   "source": [
    "f = lambda x: x**3 - 2*x**2 + 2\n",
    "df = lambda x: 3*x**2 - 4*x\n",
    "x = 2\n",
    "p = -df(x)/np.linalg.norm(df(x))\n",
    "gamma = backtrack_search(f, df, p, x)"
   ]
  },
  {
   "cell_type": "code",
   "execution_count": 4,
   "metadata": {
    "collapsed": false,
    "slideshow": {
     "slide_type": "slide"
    }
   },
   "outputs": [],
   "source": [
    "def steepest_descent(f, df, x0, gamma0 = 10, max_it = 1000, tol = 1e-6):\n",
    "    \n",
    "    # we'll keep track of our steps here, this is not really necessary\n",
    "    x = []\n",
    "    gamma = []\n",
    "    m = []\n",
    "    \n",
    "    x.append(x0)  \n",
    "    m.append(df(x0))\n",
    "    \n",
    "    it_count = 0\n",
    "    \n",
    "    while np.linalg.norm(m[-1]) > tol and it_count < max_it:\n",
    "        it_count += 1\n",
    "        xk = x[-1]\n",
    "        \n",
    "        # compute search direction\n",
    "        p = -df(xk)/np.linalg.norm(df(xk))\n",
    "\n",
    "        # compute step size\n",
    "        gamma.append(backtrack_search(f, df, p, xk)) \n",
    "        \n",
    "        # compute new approximation\n",
    "        x.append(xk + gamma[-1]*p)\n",
    "        m.append(df(x[-1]))\n",
    "     \n",
    "    return x, gamma, m"
   ]
  },
  {
   "cell_type": "code",
   "execution_count": 5,
   "metadata": {
    "collapsed": false
   },
   "outputs": [
    {
     "data": {
      "text/plain": [
       "[<matplotlib.lines.Line2D at 0x196702caa58>]"
      ]
     },
     "execution_count": 5,
     "metadata": {},
     "output_type": "execute_result"
    },
    {
     "data": {
      "image/png": "[encoded data removed]",
      "text/plain": [
       "<matplotlib.figure.Figure at 0x1966fefe940>"
      ]
     },
     "metadata": {},
     "output_type": "display_data"
    }
   ],
   "source": [
    "f = lambda x: np.cos(x)\n",
    "df = lambda x: -np.sin(x)\n",
    "\n",
    "x1, gamma1, m1 = steepest_descent(f, df, 0.01)\n",
    "x2, gamma2, m2 = steepest_descent(f, df, 4)\n",
    "\n",
    "plt.plot(np.linspace(0,4*np.pi), f(np.linspace(0,4*np.pi)), 'b')\n",
    "plt.plot(x1[0:3], f(np.array(x1[0:3])), '-ro')\n",
    "plt.plot(x2, f(np.array(x2)), '-go')"
   ]
  },
  {
   "cell_type": "code",
   "execution_count": 6,
   "metadata": {
    "collapsed": false
   },
   "outputs": [
    {
     "data": {
      "text/plain": [
       "<matplotlib.text.Text at 0x196702e3198>"
      ]
     },
     "execution_count": 6,
     "metadata": {},
     "output_type": "execute_result"
    },
    {
     "data": {
      "image/png": "[encoded data removed]",
      "text/plain": [
       "<matplotlib.figure.Figure at 0x1966ff089e8>"
      ]
     },
     "metadata": {},
     "output_type": "display_data"
    }
   ],
   "source": [
    "plt.semilogy(m1, 'r')\n",
    "plt.semilogy(m2, 'g')\n",
    "plt.xlabel(\"iteration\")\n",
    "plt.ylabel(\"slope\")"
   ]
  },
  {
   "cell_type": "markdown",
   "metadata": {
    "slideshow": {
     "slide_type": "subslide"
    }
   },
   "source": [
    "## Higher Dimensions\n",
    "\n",
    "In higher dimensions the derivative becomes a gradient. The method of steepest descent now looks like:\n",
    "\n",
    "$$ \\mathbf{x}_{k+1} =\\mathbf{x}_k - \\gamma_k \\nabla f(\\mathbf{x}_k). $$ \n",
    "\n"
   ]
  },
  {
   "cell_type": "code",
   "execution_count": 7,
   "metadata": {
    "collapsed": false
   },
   "outputs": [
    {
     "data": {
      "text/plain": [
       "[<matplotlib.lines.Line2D at 0x1966ff08470>]"
      ]
     },
     "execution_count": 7,
     "metadata": {},
     "output_type": "execute_result"
    },
    {
     "data": {
      "image/png": "[encoded data removed]",
      "text/plain": [
       "<matplotlib.figure.Figure at 0x19671c26f28>"
      ]
     },
     "metadata": {},
     "output_type": "display_data"
    }
   ],
   "source": [
    "#f = lambda x: 100*(x[1] - x[0]**2)**2 + (x[0] - 1)**2\n",
    "#df = lambda x: np.array([-400*(x[1] - x[0]**2)*x[0] + 2*(x[0] - 1), 200*(x[1]-x[0]**2)])\n",
    "\n",
    "#f = lambda x: 20 + x[0]**2 - 20*np.cos(2*np.pi*x[0]) +  x[1]**2 - 20*np.cos(2*np.pi*x[1])\n",
    "#df = lambda x: np.array([2*x[0] + 20*np.pi*np.sin(2*np.pi*x[0]), 2*x[1] + 20*np.pi*np.sin(2*np.pi*x[1])])\n",
    "\n",
    "f = lambda x: 8*x[0]**2 + x[1]**2 + 2*x[0]*x[1]\n",
    "df = lambda x: np.array([16*x[0] + 2*x[1],2*x[1] + 2*x[0]])\n",
    "\n",
    "a = np.array([2.4,2.5])\n",
    "b = np.array([-2.8,-3.8])\n",
    "\n",
    "x1, gamma1, grad1 = steepest_descent(f, df, a)\n",
    "\n",
    "x = np.linspace(-4,4)\n",
    "y = np.linspace(-4,4)\n",
    "X, Y = np.meshgrid(x,y)\n",
    "plt.contourf(X,Y,f(np.array([X,Y])),10)\n",
    "\n",
    "xa = np.array(x1)\n",
    "plt.plot(xa[:,0],xa[:,1], '-ro')"
   ]
  },
  {
   "cell_type": "code",
   "execution_count": 8,
   "metadata": {
    "collapsed": false
   },
   "outputs": [
    {
     "data": {
      "text/plain": [
       "<matplotlib.text.Text at 0x19671c26b00>"
      ]
     },
     "execution_count": 8,
     "metadata": {},
     "output_type": "execute_result"
    },
    {
     "data": {
      "image/png": "[encoded data removed]",
      "text/plain": [
       "<matplotlib.figure.Figure at 0x19670a8e710>"
      ]
     },
     "metadata": {},
     "output_type": "display_data"
    }
   ],
   "source": [
    "plt.semilogy(np.linalg.norm(np.array(grad1), axis=1))\n",
    "plt.xlabel(\"iteration\")\n",
    "plt.ylabel(\"norm of gradient\")"
   ]
  },
  {
   "cell_type": "markdown",
   "metadata": {
    "slideshow": {
     "slide_type": "slide"
    }
   },
   "source": [
    "## Simulated Annealing\n",
    "\n",
    "Another method for optimization is the stochastic simulated annealing. Unlike gradient based methods, this method does not require any gradient information. It can be used to find the global minimum."
   ]
  },
  {
   "cell_type": "markdown",
   "metadata": {
    "slideshow": {
     "slide_type": "subslide"
    }
   },
   "source": [
    "The basic idea behind simulated annealing is to take a step in a random direction starting from a point $x_0$ to a point $x_1$. If the objective function decreases, we'll accept the step with probability $P_1$, set $x_0$ to $x_1$ and repeat the process. Otherwise we'll reject the step and try another step from $x_0$. \n",
    "\n",
    "If the function value increases, we may still accept this step with probability $P_2$\n",
    "\n",
    "Thus we will be hopefully in general decreasing the function, however we may increase the function occasionally. This prevents us from becoming stuck in a local minimum."
   ]
  },
  {
   "cell_type": "code",
   "execution_count": 9,
   "metadata": {
    "collapsed": true
   },
   "outputs": [],
   "source": [
    "def temperature(k, T0):\n",
    "    return T0*0.9**k"
   ]
  },
  {
   "cell_type": "code",
   "execution_count": 10,
   "metadata": {
    "collapsed": true
   },
   "outputs": [],
   "source": [
    "def accept(T, df):\n",
    "    p_accept = np.exp(-df/T)\n",
    "    return p_accept > np.random.rand()"
   ]
  },
  {
   "cell_type": "code",
   "execution_count": 11,
   "metadata": {
    "collapsed": false
   },
   "outputs": [],
   "source": [
    "def annealing_step(x, T):\n",
    "    direction = np.random.randint(0,2)\n",
    "    if direction == 0: # step to the right\n",
    "        x_tmp = x + T\n",
    "    else: # step to the left\n",
    "        x_tmp = x - T\n",
    "        \n",
    "    return x_tmp"
   ]
  },
  {
   "cell_type": "code",
   "execution_count": 12,
   "metadata": {
    "collapsed": false
   },
   "outputs": [],
   "source": [
    "def simulated_annealing(f, x0, T0 = 30, max_it = 1000, tol = 1e-8):\n",
    "    \n",
    "    k = 0\n",
    "    diff = 2*tol\n",
    "    \n",
    "    x = []\n",
    "    fx = []\n",
    "    \n",
    "    x.append(x0)\n",
    "    fx.append(f(x0))\n",
    "    min_so_far = fx[-1]\n",
    "    x_best = x[-1]\n",
    "    restarts = 0\n",
    "    \n",
    "    while diff > tol and k < max_it:\n",
    "        \n",
    "        k = k + 1\n",
    "        \n",
    "        # update temperature\n",
    "        T = temperature(k, T0)\n",
    "            \n",
    "        # take step\n",
    "        x_tmp = annealing_step(x[-1], T)      \n",
    " \n",
    "        # compute difference in objective function\n",
    "        df = f(x_tmp) - f(x[-1])\n",
    "        \n",
    "        # decide whether to accept or reject the step\n",
    "        if df < 0: # accept step\n",
    "            x.append(x_tmp)\n",
    "            fx.append(f(x_tmp))\n",
    "        else: # accept with probability P\n",
    "            if accept(T, df):\n",
    "                x.append(x_tmp)\n",
    "                fx.append(f(x_tmp))\n",
    "                \n",
    "        if fx[-1] < min_so_far:\n",
    "            min_so_far = fx[-1]\n",
    "            x_best = x[-1]\n",
    "       \n",
    "        # every 20 steps go back to the best x so far\n",
    "        if k % 20 == 0:\n",
    "            restarts += 1\n",
    "            x[-1] = x_best\n",
    "            T = T0/restarts**2\n",
    "            \n",
    "        if len(x) > 1:\n",
    "            diff = abs(x[-2] - x[-1])\n",
    "                \n",
    "    return x, fx"
   ]
  },
  {
   "cell_type": "code",
   "execution_count": 18,
   "metadata": {
    "collapsed": false
   },
   "outputs": [
    {
     "data": {
      "text/plain": [
       "[<matplotlib.lines.Line2D at 0x19671ed1208>]"
      ]
     },
     "execution_count": 18,
     "metadata": {},
     "output_type": "execute_result"
    },
    {
     "data": {
      "image/png": "[encoded data removed]",
      "text/plain": [
       "<matplotlib.figure.Figure at 0x19671ecdef0>"
      ]
     },
     "metadata": {},
     "output_type": "display_data"
    }
   ],
   "source": [
    "f = lambda x: np.cos(x)*np.exp(-x**2/100)\n",
    "\n",
    "xa, fx = simulated_annealing(f, 15)\n",
    "x= np.linspace(min(xa), max(xa), 1000)\n",
    "\n",
    "plt.plot(x, f(x))\n",
    "plt.plot(xa, f(np.array(xa)), 'r.')"
   ]
  },
  {
   "cell_type": "code",
   "execution_count": 19,
   "metadata": {
    "collapsed": false
   },
   "outputs": [
    {
     "data": {
      "image/png": "[encoded data removed]",
      "text/plain": [
       "<matplotlib.figure.Figure at 0x19671ef8860>"
      ]
     },
     "metadata": {},
     "output_type": "display_data"
    }
   ],
   "source": [
    "from matplotlib.animation import FuncAnimation\n",
    "from matplotlib import rc\n",
    "\n",
    "# configure matplotlib animations to display in notebook\n",
    "rc('animation', html='html5')\n",
    "\n",
    "# create an empty figure and axis\n",
    "fig, ax = plt.subplots()\n",
    "\n",
    "# set axis limits, these will not change during the animation\n",
    "ax.set_xlim((min(xa),max(xa)))\n",
    "ax.set_ylim((-1,1))\n",
    "\n",
    "# plot f(x), this will be on every frame\n",
    "x= np.linspace(min(xa), max(xa), 1000)\n",
    "plt.plot(x, f(x))\n",
    "\n",
    "# add blank line for annealing data, we will edit this every frame\n",
    "line_annealing, = ax.plot([],[],'-r')\n",
    "\n",
    "# at this point since we matplotlib is in inline mode, it prints a blank figure"
   ]
  },
  {
   "cell_type": "code",
   "execution_count": 22,
   "metadata": {
    "collapsed": false,
    "scrolled": true
   },
   "outputs": [
    {
     "data": {
      "text/html": [
       "<video width=\"600.0\" height=\"400.0\" controls autoplay loop>\n",
       "  <source type=\"video/mp4\" src=\"data:video/mp4;base64,AAAAHGZ0eXBNNFYgAAACAGlzb21pc28yYXZjMQAAAAhmcmVlAABsKm1kYXQAAAKuBgX//6rcRem9\n",
       "5tlIt5Ys2CDZI+7veDI2NCAtIGNvcmUgMTQ4IHIyNjM4IDc1OTkyMTAgLSBILjI2NC9NUEVHLTQg\n",
       "QVZDIGNvZGVjIC0gQ29weWxlZnQgMjAwMy0yMDE1IC0gaHR0cDovL3d3dy52aWRlb2xhbi5vcmcv\n",
       "eDI2NC5odG1sIC0gb3B0aW9uczogY2FiYWM9MSByZWY9MyBkZWJsb2NrPTE6MDowIGFuYWx5c2U9\n",
       "MHgzOjB4MTEzIG1lPWhleCBzdWJtZT03IHBzeT0xIHBzeV9yZD0xLjAwOjAuMDAgbWl4ZWRfcmVm\n",
       "PTEgbWVfcmFuZ2U9MTYgY2hyb21hX21lPTEgdHJlbGxpcz0xIDh4OGRjdD0xIGNxbT0wIGRlYWR6\n",
       "b25lPTIxLDExIGZhc3RfcHNraXA9MSBjaHJvbWFfcXBfb2Zmc2V0PS0yIHRocmVhZHM9NiBsb29r\n",
       "YWhlYWRfdGhyZWFkcz0xIHNsaWNlZF90aHJlYWRzPTAgbnI9MCBkZWNpbWF0ZT0xIGludGVybGFj\n",
       "ZWQ9MCBibHVyYXlfY29tcGF0PTAgY29uc3RyYWluZWRfaW50cmE9MCBiZnJhbWVzPTMgYl9weXJh\n",
       "bWlkPTIgYl9hZGFwdD0xIGJfYmlhcz0wIGRpcmVjdD0xIHdlaWdodGI9MSBvcGVuX2dvcD0wIHdl\n",
       "aWdodHA9MiBrZXlpbnQ9MjUwIGtleWludF9taW49MTAgc2NlbmVjdXQ9NDAgaW50cmFfcmVmcmVz\n",
       "aD0wIHJjX2xvb2thaGVhZD00MCByYz1jcmYgbWJ0cmVlPTEgY3JmPTIzLjAgcWNvbXA9MC42MCBx\n",
       "cG1pbj0wIHFwbWF4PTY5IHFwc3RlcD00IGlwX3JhdGlvPTEuNDAgYXE9MToxLjAwAIAAAB9mZYiE\n",
       "AD///vdonwKbWkN6gOSVxSXbT4H/q2dwfI/pAwAAAwAAAwAAFbekZYZCdC/yYgAABZdUjkidarTP\n",
       "MAiPxaTJQ0jOj5p2UcAQE81GAtmj3V/ZqRrUcRgGRi4VFtaHxMrjQBabB2fMTy3ic7j8QDPjWpDt\n",
       "F+6n15I5DU/1wb6iZ1CO1MgNAZeKP79CsYq0ofv8jAm601INoTjHw7jvKM2qThXOfJ9aO6aYUI8p\n",
       "y/AuvvH5cTf0U3g/R9LjwFHW6tiWrHthlhc2WBY5Rs3rcOr4DtT8dKRhXz9++LSaGsniG3j8vhHP\n",
       "mQ0KSxSFyJX/pYJIxhObKaG8xTkz/hwY0JqApU1UtB5WoaOhXpOFDuSQJ//1EOC+Bdq0oN5R+IEZ\n",
       "EbH+muvvGK8TPfZuBVgrNMIUDjB2+EPG0pw6WgfVsS6gzhakTBUwXRJOpbd0DpYnRVz7U8RI/xR0\n",
       "G3xea8ho9aGbqvV+opEiURS7rtibKn0/ai2ILfIHTHNNmlFeJTxqBJDSmiOCCgIclkXn9UNM6W8s\n",
       "gxAciEaT2Y8HhuAE1oAyVXtnPwHXFja5kMzDilNDdlo/tTFyeWPuDNKYrP0Tf1TzNRRC8TlKmaXE\n",
       "SCd3J+1EoB9ogoqSaCZ9KuZgCtHGCPsX+AhNtPASIfAAc2FULhaI+nHF2oLlkSKrQOIb629Nf2y+\n",
       "Rfz5Bdz/BQQNk23LG0cEwB5M6wg3BmoTcNQDwsBET7FrrTVVTdcvAC1roBQVCLn6JLL5DZ4VkEYH\n",
       "QPSkZ/VHu+2MTt95KmTrif7IZForF8rdgwAHQHLJPQQEz5PDzg/6kdmPdbMYU4Psy3XogOWm/guf\n",
       "t47/d3OxMLwWtkbQwFJlPFhMZLe1MNGS5VSgS3j+F9ZLWK1JhYb3KVfriH3rIPC4fdsD7xnH4XOI\n",
       "Sf6Ppgb0UAZRXTfLQLU5NyrwWPFZC7wen4CD++08d/GSpbYKgy9MxYs7vNq8feefkkO9aq1CJL2l\n",
       "uIatXRrakJ4Vy9dLOPHkBAfNWNV+PtiVPp+vyoBvpvQHb3RBrh+DpLGK6XggWq/DXVneIOvIVmKm\n",
       "iBNYcWS1IpwK4TeKLKixjXBoXkxMGvbccw2/CX+WczfPSgzFAu/pB5aim5pH9sftTxkPCitD23et\n",
       "c1SK90l30enpsT0q7Ibk7AfKLlF57j0E0I1snpwoFzh7zZ+AhNo2Fc9co3FIDeLY6KJ4ffOAxeQ1\n",
       "ZPny+3jDc678W3hHuX2AVEPKkHtgLaK5hwB1cImBo+6gCQDqVKNIrwNGNJxhekJD5nOGgS0Tjgw8\n",
       "4oUU8pnxkXwqXV8V7Abrr/QGI68EU+WqP40kPX5U2C1sngf1zDxdSzwPKcgLS34hAT88Z3+sWCrf\n",
       "+sfkToqFnOhjxUqkfRY7miXPHMGpF7BWSEll5f8IKSusU8LAIUfb8dsziIr0Z9VrAUcyGFJPCMlM\n",
       "ArF46g+pSFDdwqrahJckYIcWZI5c9uBrh8pYN9Vd8mdD6RekXv7tLviNWJqc4bh9GvhdGYYpFBDN\n",
       "plSCkCwUnTg/g0fP3m4Ge0OZs+1DtojCAuX1omCrvYR3z+jCr1bDXwNI2nqKdxXpT8ecCPF+rWGW\n",
       "CA42KxPPtpAvh8TSirKCPKJImJyLKUSTTm/0Ephzs0cr8/g27QoV8nS0ZIeR7rsQ4L5ZKGXm1TJM\n",
       "wDtKtjObGnSZrT1PjjWTa7e2vfXCpnyvUpdhdZ3gbajAflMNMO8n1ZjvsHVPOxuAWtf8JYXyG/VV\n",
       "kBNtA3jk3TBOGwLXACxgO7lum73JjhgP0aaqzLqr2m6Rcy0Lb7Xiz8fJRpstEXI3xkVEMgvJtZcH\n",
       "2/WoWUVWeUe8D8veu2nT3hpW+1ViiTyNliJXMjRWqlSSwwbcJT77sQMfXEQOiNve7JqU3SQsOJ5C\n",
       "Fs3w3tH7joHMwoKYona9hFI/uXLrmR/P9qW3iDgxmzGi9otkX6cYBEYEiWhPM5rhzQOZ/6uiFeLD\n",
       "fPGhmwSso+bgD6V4RuF1c6qAjMXEQ5IUE0bq19JVcNvgQ3kZOs9185ZDhxucGVAvqYBQcQlfG4u7\n",
       "ay8fLOJ1/r3+6aJQpNca7qCdd7CcOHfUD30FlYxXQuTzQgZeX5U94svj3MghUgaQfrOZ4fVRpvXJ\n",
       "nVo/u0NvsKW9X3fIXi0zaVM9ByqVKDwJ1kcYFIM+KnHnxVkv1UljHO4GQxBlqH3oYgzszFRRqQxv\n",
       "WaaN4xWwPGVOFYPTeYeW3X4V5dVqZ6LtPnIKxXpOf+gbrDBMVYZ8rgvzRsHs5IJTi9tP7o/sfOyx\n",
       "YfFR5uaGU6VVgJdHCJTX+mcuXdkZDOmLO6pjl1VruSCwtLXyni/mN+E2crzsbwqRx8qR6F0t7Ge/\n",
       "adBKD+6088G3SZp1fBy7gzFwOrch7sYYFAt8L7N9xrHjU82bBnLyG/6XTZKgfpJP6QOpkKYnBwap\n",
       "LwFIRSKls63LLTft2KaLY7Iy3u2VjbU2e8ITSlLdS9FV5mFjklTlhrqICOWemGycbQOYiQ4vkZJM\n",
       "FV9Do0OXl8i5zYohOQ11sP8oYrvenwdV1e515UYF9zLVp2U51FkGNgyVztlGJyO9pP4yT7iZTtL4\n",
       "xeh7E6dKQJp/v7p9HGLvx3FdMhkg/XWR8lLehCfOXDBo1V4tzVIrroBuDQTeepYPMct+9WotXFLM\n",
       "UiFGDsgOX9oXU+3dVmI80h8W+u9S4EauXhCUq7w0JT+qcMFTGlBTjOO8rfsyfl77TsHILn9FXAXq\n",
       "4r2uTg9fNu8pO3QgMRpNXiXkBKrHnh5jSrN9akvkhgmy1BSmAOVkxpyRVUDFIKEo/90AXgevdxYS\n",
       "8QVAOp0yzaCcTtbfuATl25/O5JoK1h9RtVpWjX22aDyJIgJVvcue/a4TgM4oEu2jamxMTxIbjjy9\n",
       "0vJuESBpEIxKhqHD/zYQ0aUky2U8LW+fJfOnFIh+3Pv+M2qykGMHLMEePWk2SZmyoqV2tiihyCSL\n",
       "zyOZn1b67jnfD9ekNnAm+O5N9fJE0q46ES/xHHA2ZPsfnzBX7qpttXAfDz0P3feHCG9QJECF7sHc\n",
       "7kpnwpcaOudL+U5nzxLpKFG25/G0owBd3odC13gTjV9GpfXDa84ZOfR/vWOQ5uFeXwP1OAMaOJYS\n",
       "s3L6t9E2F4CMbeKZWGqZiw2l6n/5PkFbFi+VhqS/ZtvoohNj2ZXTYn2ahkNEmInQwPYX+smppK80\n",
       "M03CSgNt+FVcUVDNjLs4m1wpqzuH7Ax8pQKLgbwLue5S6al1hwUvbuGqEspvC6iUnjSimhnhrq42\n",
       "Td3aG8UpSLUaLAfXASpTD0eQ/Xc3BmfEgWhY8VhjyN7G4mOnjfyFmI3cFkKbzr9opzC6SJ+B4jVB\n",
       "b6aBk2KfWtq6JoCgNaklnyGvzim9OZVKZ+QWRO0WuZj35AnSCPNEHsLC/5d8moxUNh2MycRn0ISg\n",
       "CDb+nyktnBytLIN1RKg1K8Z+c+NkoABSf4qcNuR1C97/ndj0PW5rxqiZgSsqXtodahFSUCysicKC\n",
       "gRwlrxXaPpBBQOPmy9X+yVEhbQ95Kv/67J21MWccPbLTH2EGv0J+pLxbnuYkuPa0ghUSPSrTpI+n\n",
       "WqRNnY7BeEdjt1wUEpOqQYgsMHcgOzx0nt6P1cvJY8aj0iPU1oUFOxRLCIlYnnOi8/vXp4hlyY4t\n",
       "YDFPP5n6DzEAzF3Gb93GSx2GJM0ewhISmGgF/PfQ5iVQ143kczYUCiw0ziwShG/tQ7Om6USGY1jR\n",
       "OfJ0XOQK+Pc81faVc3R1x/yuI8AkLrshSwqSPy4FmQnZ9ocyCOEAli40b93MFdOUKHeityGGqoOv\n",
       "V81XiVujNJQfwGP0J7ebLaDZYePCUJrcgI2qQTVk55QOfcsdhZNAA6q48e3JAzRg2m5dB6/37Q6/\n",
       "QdU31nHacrQMZBUfEAUXKKNRSicEsa6MTXqXGLa8Wj06pkIlLemH1q73B9wlImg3Xx4GJr2nSObw\n",
       "8ZKzTFsrfqrX/pXpENtfHOXI1/XNdq90P9Zj8XhSuEXADWCPEeYGCW3JevOcpBPL9BvSuWSedlgC\n",
       "aJ8y5akn7CMR6c5NJSwGvwMA3MnREVV5SbYWbqKSgAT1ptFPp7J+4U/yBq//7z6vwrDwUspbAP1W\n",
       "VQGzikclawSaKEY669wQoo1/kKgbsrzJ59//dew+p6KzcMpnnyfI6iVg4ajcMLku4hfi6M8xkUrY\n",
       "mX/3dQ5REiLq0zCKMuaFGQX0KVQtmYUpjlykV83Io2/yA7KNbVuHtlSByE33m1Skv+Z7ra/b0++C\n",
       "A6hMjJ2BJCnZ2suLUB88cZsy9IhtdQ5+79/FTnm2ILC5akn2hg/SwtVrYfVwHXh5Y5BXwrN+va+2\n",
       "MJ6Qfe4GKLMPh6DqZsDAFwubbnqraZwwNEPnrw4btJL41igDamxdO+++7IF4T2QpGmeUcY+gN4Yn\n",
       "tmXqCL+yKV2xZhImuLJykvtGh6PKzhUZl9Djd7skGIlOdMrTEni4ciTflemZJcy41LlqFMFIYJUd\n",
       "fGJMu6zYwJdbWaIo9AfxY8zoX+xLM1U4YO7lJF9ZByJbalkCX+yRNE0L9Fz7qxEjtWmT30YfrhSq\n",
       "rsCFI1cOi9oMF+Vi/lhfV2meXnCe2z+0nzTQ8Mj0pOYGb///q7wqvukjPgGH2oj9yPYp0T9W7dGE\n",
       "vfQrFnMkRu+zuXYiHSuQ9HhAXQ9YcWYd9nqmiWL97Qvy5QQLQFhzj5B+lIo+QDZwysPlZYY7mfRJ\n",
       "3Jtm4iXwVrH+KKTaneGDhN75dhMiRc9nlCYLeBhIPRBVWb6J/ep+5aX4KxBHRuz8PLHPtSokZXPt\n",
       "ko0f8ukG5KniHc+r3yTRF/5IjFvkLwbBYXuiY0feYZPXlLIaKaxR93rJshJlReKvFtRtzVEsqlyE\n",
       "qNyJOAlMTE+4nKhozeozNghjDlzQqx+Fx2vAjwDLt5u6kRi1yspNerJoVaIbhmBtkTCuT3E7rB1S\n",
       "TRyAd1Y5OejqhDK1Efcl9mkj1CUjYK1mV7nujvGgyIfHYZ7rZqmAYbZOTrXgiUWWgqFmNBljUiEs\n",
       "b+G7Y45TsoEfvBRZZ+9eRVFUjAuq/H4Vi0XYysfXuT9ywYJ+AEJQP/FWXoxHHSeFUUdzEnbmTdVN\n",
       "kAuCz8kPGDCGEAG89XlJ9hIEmLoCG8GFfm1pexU0/RXx1VOVc5+Jyvl30rG1i5/gGWQSspGf1jVl\n",
       "TzUjVbX/tuMSBUIr+S3ItPC0YrrAUJBkDHDaST+OMrlj8gJndVb4C6V/bP3G14pOhH03EgCGa4rC\n",
       "W9jucuHeZzlk6igk8N/fgFme0ucvK7J51SvJ/757PYK1u6ee3SJJtYvIB11fSREPcA4fMW7v4c9/\n",
       "MDc5ey1MCNxHNiT2i5HB426iebipAtFFv0NkmIKhTF7ClizWj1YojGTDYbDU/eiQ9s+lIxBqTxFO\n",
       "Idugj2/qpiDzf2+D9ksp6/iRY7if3/tqsyrwUh3AcL678rZAuFVjV3oKIgCq/DrRaajqnhBG2mKi\n",
       "FQkLIyqPHMCOJ62udC/IfWkUyM7xuGoR8S5U8xMuL0jufLwSmSh5sblgGMlxOIWcocwPMK3cfWtA\n",
       "oTYgtGQ10vX/rPjVlIOb0t4SJz4VIFpog2VD4Zlc8Y1jcMm64cASOPayOuyPAZtWw8RqD7ODsUlb\n",
       "aG+p/xbyXJK/UHhFplrp3xomi1X7z1kUsx8oY68H4PsEKJCMesQPWUV96aDC5qc5JRM0MywV9tQT\n",
       "eVo40gIfP7CmqG/u+xZWld1ZxvcbGx+vTuWFOxij1M2+aX3x6JkcL6g/D9uXx+PwNALOdD3N6H8x\n",
       "1iZSd/J2D26SgSGRzeBJBTOpohTE9a/Virk+YSblBv9ebY8Cw2lJ7S3wDM+XAbzY+lm1tRMQZ6uE\n",
       "YRgV3ueN8f/+Cc10rPVp3fSjIEPbIH93Qa7/zNLElngE/GaaAdV3ZUgr4Ux7GA4s6O9LV1pRaneJ\n",
       "ee1+oUo4fK+LepP333FD8KLJq2C6xjl44MEATElxDgmlcrO0lhkIuGgIbBvIACbJjS6IU+4KnDAu\n",
       "KtcyiWoxR/H9UhciBfLGGlB2+/TV53f6GBwuuCuWga26vopW2cCh96R7DCUw2Y5ym4mbbKQNTPT8\n",
       "ZI2VVS0VASY8onJhZWCrrPQMqNj4V5vtifWSBfrXXTDjTJECfXATya7MB8I65HKOHLHSdQzWUngI\n",
       "CRWBgGA0D134PBvho6IZAo9gWq1dCBvFmJ5RBBo1r8yyT4NLUunkDAWI6EdGZTxaJCYeq3KDeVhQ\n",
       "GJnDLcMqGxrFTc3/tUQELRfSiiqtNhqEyDG6CqFkxughAj7AAlW+6ciY9P5wKtTg/ug7mhQw3Yfd\n",
       "vFSYDNFH1n5LBqyjCAIWEAs0QaVKkBGzjdf4ZmxKwQ+aBz/8QJtNcHCyMWiBK4DdXXdxC4G/DW0K\n",
       "0fkDCV4HFTeSVMjGLsVhkibUVzv8Bp5V4jTjiCOloMoXy3m0YkBpNPl77ORKDlzoDIzrxdWkwaYv\n",
       "XVUjVJKmfoEvW7yxiRk0hXVhMLXHof18AABkqqacO3h7Ll1vPVT6sk5efmy/ucPfBV7qpgfwm5Xd\n",
       "M9nt6xMMiTX/OZzFEFUdAZtaY/RVbo7C2m2jmS8UC62enP6eyFPJtGBDYgAAP4biOuJRNMu45JgO\n",
       "SbGynUO4EFmBUZo6j51l/FYLUDA8HLGOaOhr7N8sPm88zainfkjmb7WqOhPyZgYuNOUpaU0Y91vg\n",
       "+h3El+1OIKdhBGQLTs2ZDGOXHHYHTx8JGP86tXA/ZJnAi1RPySlnuLCZiTnttKuNcodfKjFScgVi\n",
       "AG3Um2FRtvIs2Cbu/SfrNLclJpLqsxc10LboJORbOsHUI5LEHspows5MxJU1uBPp/OXfsMRs7Txd\n",
       "ZujbMqE+6Ao7b/02YvMHVyFsJgEQ1mBj6P2wGypGxmfWMVSuxGNr5GmmbPfBzsFbwxWIQzhRHtt/\n",
       "5gjUwRFm6AEOlTwW0MQFNbdCBZ1fmYo7AhA87n9SwfiOw+I/tNUDkW9kEr3UV6OSqsUWrqZ9itkD\n",
       "1MVBKyM+JSryDOLFPWOd1KEYpxOEfqwHkjM65QIpHj6YdKpv+Nor53uT31ZCtk/jfV3m8HTXH0ZW\n",
       "tsLWgK7LD2vIuNY/JUh54erwJoWvnqATa2/Rgp/kSjYEHSH/C3WjilnZO6h5yPnlKskUZv0WqXnc\n",
       "8ZdwDjAAQXc3bOlMhSclIBX41jQPk3bf507dZoxJPGTBFkZqSQg6MePhgb7Re3G0B/HdYvqaQXWP\n",
       "sXx1KTmUv9+yT4hJlfzaza0An56FUoTbXUQHZpC+49KFQwVww/YfnjniolWVrxB9/+O34I5sCUgU\n",
       "l3rkMLm/wOGIXaqf5a2QKHxuiOhLfC3VRmjzDsR3E7x+fZJCwPVFKyP+QrcrQzDYA3p9jOyx9x0J\n",
       "HLSM2Wdgc5gstVmWcgZvsp7nLT2ZHMIst8UWR8zy9SBdGJ+CXuOu4j7NYqy7B5TliuI8RQlcz58x\n",
       "W1utYlLkLnGBkxHOYhYV5x7PhudS1vcHsl07lr2PKF86c3E5UsSikaD1QoAk4aYnbmZDp9Sx/9Ly\n",
       "pAN+RCO6JVVzqOWqNotSEfbanjC9ATN/Tn2Jt5uiMp0ejQHzkQgsgYW4i8V6sOAP0QwVIoydHdoy\n",
       "0O07nyeCvXAtE5l1W3mo1SJOkN101gEHA6xWVlv+VcrNxglubYNqKZmLBZJEIvAFkSdxsx/BRzx8\n",
       "XhM6jwOzVZ7ObnthbzjmnETM1tGjSwAfnVGjCf40vKY9TyTWAWtbXOIKO/kYrUjAgyWjiDvo1maz\n",
       "EbH6s52RwV7x/ZGglSNWbIZ7X+xe80fS6ngiwsVIcU+lQzPEvzmausRrhw4iX2mPiRWWByBgHTxt\n",
       "NNMc3edlB5T1tC2Mu7YOHxOpfvYZbqugw/R1jZ6r8Ne0l3FuTsOXksVx3AMRhBVAQbY+cUeDG++K\n",
       "OsRCiNlcbwKNGm5d92VzSdyVD1o8D2mG9HR0AzSmwHmzC6WQ9AkhAFXiISKspESDxOcN5ycUh8WH\n",
       "7EIuakp1fCiN0Wm/tJ5ffbnWsPr5e9FCaGhoRIwxhupn7RkDTiPmnpLp4WSrsk80sIL/3jbr7LTS\n",
       "zLOKAAyEZWlD3tFVe8aYWINlKEVJnugo09hLuslnS45h5e5KrWJKR9b4UCorcN+ERsh9a+82cnuI\n",
       "KqLqMRuCewf0FsMW0TsKdBUJufR/fHuCcEVZML/MVk9WWXRbpwsggNNj0CnwHNNbmO8PyrXOh+n/\n",
       "ICyVIHR4nt0XFb1umUG+LjdQ3rKjLcY4B7T1Pq61J+VVMQ8PFXHjpLWXxCcqDTK1y/3mI4MlWJJV\n",
       "a2sPz7L6CVvYkQNL+pyO1YSiK6zzR2zp5SkHxYF2W8M3ojMuv0bIzAdWNKafXhx/zYdS46m/XD2m\n",
       "+rWVJko6B705/NgiPNjXb2dG4ByGkypeOdp3ir7EmVHPGlimTy9f7UIawrBbwmyLSYc4uAOo5fNH\n",
       "opfHSJgaKbxhEtxkcpL43keP0VEiuQTXwQCHvZtELDiL44wBHAgmAo+QyjhOwvWeE2P6kc3/Of6E\n",
       "+9BG32/TTG/5M8rg9xD8uR8lahpOiNEjWlsAEPMg06kC89eJDMP6AMoyPgmrhMykmVa/kNkClgaO\n",
       "OX5OTW/znHmddb9gKNcBI6AiX4AiCs0njY36bIHdLytUwxYPhwWW+ZP1GK5OixqVN7D8MghVWTne\n",
       "fpFkbcQ1cA/Bvv8ASrnoHna9QFghDyCm588Sfch49VDJg7RdECclvPYMeho4d8+LLG9tdvg3PUus\n",
       "wuLo+mFbFh0rVipTQIsXIZo4bxnftCL5MoS1im7K9ABPGyyU00FZ/Vd8lNvqRRfJ+TjB8ou0f4i0\n",
       "6uL4YbVjoyFTOXJiTSeVB7V6pg6H1sf+JaUjqJOsAsUWT7flo6JFM2SlKvPuibnM72DyyWUqAczn\n",
       "tS0MsQHL0C7prl0g8p7lzXj/t1TpiXCl2CvyxKQQJ46rhUBIKPjgG9foTFZsev2WOU9qjnqKB2ok\n",
       "zmGhPsOFKP8Ulu/2LoV7GdCsBPYvGYNEYdRXhHdBTZZDH48TKxyNgs60K6S15WBleCDdEZa1jLvJ\n",
       "Q9iO6DYxNYIO4giTfv5gyhoeJwlkDX3OTn2ab2yUjG4WsA/UF8ce77ejNaF2HQhrJDzPT+HI6CCY\n",
       "0jzTA0b+Uq83n1Q3Gz8WSYSi0jvHPRb7r8nja/0rGiPvugDkkmWaidwS6IsELSU+d4GG3SQypO4M\n",
       "vcfvWlOhd1NVayWm8kWW7D2k0TW9ioFxaY5kZ2w9tBimuzsGshsNr8zNkPxqTTMoFJ71lN16LhG0\n",
       "Vznfo/mV44N3ZslPHrL3pLjEWjvAyPazpB6V3uYSrZv2wrTxST5Zp9NzB3jt4ILXYsQPHe58zBcZ\n",
       "TOurImYgLh4mkg9yUw3BEjIshPkEbhZrEIHtF+MT2xs5szt+VFure9+oe6w9f0AvjdQroMwoFodv\n",
       "9pZLaCCCBJtZCDIPmJcboeRBdnrY+snLxd3kAAZLN1gcavK5zBDprfQBsRR2Pt/Eq0kS8RtM++ES\n",
       "wDxojWqrzP//42J4ceHThSxzBENiUc0JQx9HN7sfoe5fbDpKu93BwEVgziHUZmTZVPMcVt/58Aj+\n",
       "LiRNNs2B66a+Unx3EjbtFEqboZz5n4gC/Vrnv+ojSIKhL9KX8A61ltyS1ju7+IeYen98fPUQVq7A\n",
       "RZhl6BQEHiFW5yTZggvPX4h9VIGU0SaubTJFHlJWVZBcFsV4s+o6VA2uhRmifCjUb5ImXA2SeZ6J\n",
       "D6K77PM6DRPdKOWtTxGbJ/6PyJVK21PsiOU3bSezkPY6InsbBkFJK7mhkNn/dq7GTiME011mJfNM\n",
       "Iqf/kC4F2sUh71FcfwnikgZ78Z5f9ScPUAEKd9lCFO54inMKxYygaWLDFQ8oCpQCJ+WJhkMYzJFm\n",
       "97/vF8P/NcjW3bXn6U7ixtensZPHlQeGZqRJ5E+dgMjN3FUQ25lTlr7AaxI3yXXFOmaG5cKRhSHN\n",
       "Qa7Oxyhk1v16vZ34VJud1nnEVP5Mdk6+QEqDV1ZVZ9RWRxdssK90PaLT3/eN8Dhpm1kq1ni6GOLI\n",
       "+w0ZsU2lT1+MJlZokFpKiXPaBABqBtqGrf8sNeQ21YSH4zbPetZojzFmZvfoZTTgQ7fb7MUF9ScY\n",
       "+jDMz/0D3XpO0dxbJ0+d7kGsszDBvfSrxPFW6osDB9iDxzX/57YILCbbz622+hxwfiSu4bWHePPB\n",
       "BJu+0A76ESAKoSJ6w2rYskxxO+BhtokDEa/Wwk0L5ZciyUZH2iji1K/Memz8pvS6pRL+uMtBSMWl\n",
       "GEDzxehlosfMgYY7NIoKR8zVcCptGahw6In5cVk8v42jS3tww+HF+fIXq1ruGrOftsnow5/Y1hzF\n",
       "1hoAimIYy7o3VfCg8YRtiRG7FLPMF82wlt3aPq2Tn6eGMPFMFL/FTO62f9mrRannzJn8+KoVzmlm\n",
       "wJW+XhqdQucrpG9lBd3Rhjmc4pmPdnTM6/Ki9gGsKdIFo+qL/lMKtAv01hF5grrFq+JsKADLSCjQ\n",
       "BqedFsqMwovhJRjRyItWR8w9j6RYeEuv5m8sdTAVZ1JSsGJPvwftgb8masuISU/Vw9heLUAvnf2m\n",
       "Q3igHZWlVrLuASkOIY401Lspv8eKDf0hSvB1Ut7oFLfxgr1JgamVEHbMEeklYOgGeEJxFaWHrXC9\n",
       "PMLhII0stDHjvMaqqvNjNNy6ZCE72j56zVwF4c1HtGnwRpt+6AAACZ4tXZlGADhM88piIAAKeQAA\n",
       "An5BmiFsQQ/+qlUAHzZhAATtJdlf5PvfPzc0JWWSuPt+Ks3/mui6A9keebj8joEw0Vmf+8mSvYP/\n",
       "+JOzim5XYCJGNCDuNeq0j7wQFF5cEiVYzbOOoEZ40kdjX5q8X256QfrCKP6GQhTr50aJ4Qes+bpG\n",
       "wyBn8PFdqDzPz30B3mjvIOtPginfWJ0M8WTNnplzeVMLehY1XFsbVES2m9AdyqcVn+LAtBOrpdLD\n",
       "JqRTVaMCe2XyFEqVPBVEa2W0SnFz1zs6mkYgt8UjZeGT4kx/6FaM851R8obmxhhy1+5q/A27nwho\n",
       "QWUz0VoNowU99ZLvZ/7pl+P97cfIO3TD1HpCctBimBLHoiFFUMKo4eNRglgAVUKXKTFoYKdM6g28\n",
       "L5EalGWV1/D1TlNUGYmMbosXATIzMTqW3WxGkrqwC9wX74ptLa89VU1AyZBxayMtP48SFZZqa+qS\n",
       "U76mHnVwIbhI71VuhhFxuWbV/BIyoBRNc0IghN56PSRPlUvV9Gu0QoVpDvnIoLuxvN+VjQHePToD\n",
       "J6Nnby7LXzF4HzZGfVK0m/uRFGOjkHLzB2tmBvfKHJP+7+1N6d0DxZnbXhQ7BX847riywXSdOadh\n",
       "OR8CkfbIQPTuPTscyto+spWa8YUofWZzFrwWepAwBDc6PePQAj24NtRVO7pvH9fTl0Xla6YwpTdT\n",
       "X9BNvfpgsHc0orZK1mcp/kc8LGHzEKNQqR/jNXpRjYXV1X4NRET/aN2Rno7KRJ/h6MFpGKJadJZa\n",
       "aFYaPvdvwbGiGRMyQfBEwPoVRXP4HBLvdGr5xI8tQlrca7j5fsRkQ9+Mh1Lr11RI6A04fNROVF/W\n",
       "ZQ66uxskt6N5ZoiSygAAARVBmkI8IZMphBD//qpVABIeVk/Eb2UAC4ZZhQx9j9YxnymxtFHHspsV\n",
       "SK0gG/9d2hyV5PYHzIaZyx9bq8ur4Su/u5GjlQwYwBHhjOvWggYsHf90abG42Sbm87eqTPUCeKFo\n",
       "q39R84jKDI3tOAtNrZYOQ6nzIqlPyTQ48PWUk7F4Rv6yXw0BOC1XLmpqIhPUZDLD9trQRVSrnRw3\n",
       "zC0BfyPi3NbV93Ng3NVqFWgjNu3/5rfXnvEHaReKcKqdXdylEm//wOjiBMhNWvQsBeUHq2l/Lo0B\n",
       "I0L+f32ZtqPlbIlxp2rKM1K+xkV96PyXaHwvJsHJS2SbLGXNdOSvzTFs2Tbu1QClxGZlcPfm6u0M\n",
       "rhjMM+LwQ7l5AAABFkGaZknhDyZTAh///qmWAHoaoqQDSsxaMTSBuc36/MuK795horf6xY+QrIX9\n",
       "aoja6JvV1qq9WRqCn3z0grtL6CnuOnE+zdUyygHJSgcVJ7zY1RhQ2GoExhwtXw+vpd9fwvtBll8i\n",
       "0BPf8zC1plCALZ8PTNjwJ1NfXlpZP1Ns/48KF2Rq2WXQ2G+UdMaMhDmXTQPEdEXLMdZWsRAUL/OM\n",
       "eZ1Bv6kOrhPqg3bX0vkQcWy9zm0OT0z31KggO5GVBnzIOFei4Sw5TM5D7f8jIs8WDQBtQxmgt6L8\n",
       "IbEFEVKJd8y37uOiajdcWRejMaQ1YS2BQ00LKFWVFFtguZsxzioD722mEceQ3x56L/Xsxoaw33wQ\n",
       "6bjGUPmAAAAA6kGehEURPDv/AC+k0H0CfKgAvWWiWmqmdSX2LB+f1wnnemOFfkutd/8liEldu2qx\n",
       "3/p/BBSK5d2RoyNHOSirJDYFOaUF+k8ihYa4TaRLIddej+8Q8rPjCd+skTz12hP+DsVQd5gzPSqe\n",
       "IFV9wre6JVN42jnVNPi2aXZVyzgkUPkg+QlDJqzb1dolDiajAytv9BFlnNalRZ6jauuU2SUQG0Gt\n",
       "Z8bo87KKBXp/3xJoH6LU8EPh6pOBNMOMJ2e8OESj6dHwHXt/q10Af91w8kwuT9rW9vB8lzCnABXI\n",
       "Jwc6uhaQHi8bIh45isVjMQAAAaEBnqN0Q38AQ28tv5v+KPiO4AQJR+i0+4aDMPkLbav8Zvkhyzk6\n",
       "T9RAj5o3GgvaUwxFA8p8lPzLGxt1XNC+lJP8OisyHCi5t1Waj/sms5fMvAaBWqiECVZQpdGL6S0H\n",
       "tFnu/SN/bj8KJPm+5MYX49R7nmxngN/2gZ/eetUFRcmE6spCVpLbWzAGCxnOEOYYxOKDzqeGVWGR\n",
       "h/81ecxfVryTQOy+sMGGLM6drZmEFhMYPYUEJrpIliJadMFOTcE6xZGhQjeiV3NcWf2J6PJlO1gI\n",
       "vDA3pRsSUyBzMjpEdqjM/XxwoO6MVTtvsnMUJ73gfFMNWDQRFs4n5dC8uut7fUEK7p5GTXEyUm+h\n",
       "DdL38loKWNea8nRC5xwusB5ETI6YkIRGv/E/lkMQmf9Lau9yO9f5fcl6VufuuvBArXeEysL56ssp\n",
       "MVgMjmoiCdvm2ZDy6owLbfsQwmweiDt4bUpw7oTrnZwyclTiIxsZi7OEnwzY5PLPe0gPS38+B/Lc\n",
       "FOg+4IU3UX9gCsj/3+ZVPiW9I0A/Rq8ZDSFUDKEc7jydsZ4ICbkAAADOAZ6lakN/AFimDAGsIAIc\n",
       "RNRkyKF6xjRZpYH/gxszeimeLER3Gj7a55hH916dcf6B2553t+PATbTSPOLfFWFLpBU9wWbiFo2R\n",
       "TP/CbyoPEYIYVu50eGlW95wGk5PXYMO9s39Bs3O+zNRkb0kt9aQ1mJnv9BUFC812a9HG7zge/cMQ\n",
       "IJq9V/oPbL0aCq0KH7TqYi8ozBZ9zN/dicPdxI1Q3jMTkBqvnXcncDFaBVG8+cImBPOYwTu3sNPK\n",
       "NrojJBgPicUqLn6U1XlgbGm5GLEAAADAQZqnSahBaJlMCH///qmWAHoanXng7PwpBJAA0JQnNCsQ\n",
       "hbGTOnY+G/X0xd9J7JVF1ejGlFuQ6JTBXbQJ9Dlo1M0bH906IZmXBX7VE6gpDEm2zp+FuNBTVJAZ\n",
       "ZFAEzUdW8eg3Qw/c+LdOrNPlWg52i3zMfz0D3WGlka6sbr3i9WbepQSZ/0Ra/J2BFGT5cpYeKAr6\n",
       "8guc9aFhNHQAxed7+aNIBvmikgz1uLdOsp7XydWieVeIYJFMWlJNvmloA4mVAAAAqkGayEnhClJl\n",
       "MCH//qmWAG8ubffnaAAr82xB0GsjABOaFYhC2MmdOW9f9KGzP+7kGhGHC9f7W+s/BorKFKMTx8yE\n",
       "OtnXJrs/Lej8+xHczWGe4uFrS6QaT4taS8932InSSed/FgsxzhAVXPUo00RQivZ2qHohjqnAJeOb\n",
       "vXM/qowldJR1PrOVD3dXHCkU3lXsDFsqp6UDM/ikYwLoP6kzNbuxy7hNL8WmkRjgAAAAzEGa6Unh\n",
       "DomUwIf//qmWAGynFFAAJPRazzOCcDQEDgacn/DRm8i65yJ5dSTCCGEskvS4KQ866H78L1qhDvOy\n",
       "VC1hehDex8oCq9sXO1a6DrydZHE0EIFyl12scuznWIb9IGW4C0eWWKeU3ehmO5wwzclcGRSY7Uya\n",
       "nSN3xfP+Spq83cPV6et3+8Hp9qHqk0N8W5TuY13xwnvTNFbzJ2/3o+W2dbTZQNuVnyQM2nwZIwnt\n",
       "JvAa0kmEyDJ5U0dt6Tnwax+JAK4oVuDM9J8ycAAAAK5BmwpJ4Q8mUwIf//6plgBsrsP4gKEI68A+\n",
       "RSkqsN/myL2k17rhH+yYRZSguJvAf1df0z7QBT0m/turKHObojaX53FE+9tfeqYQ7i3OswGjU3FZ\n",
       "4y/kEN2tER0eRQxkdC3lPejIW69bVUAid+tC0dgU8QDzyLBJ4fuJxwX7j3hl4KvZHC0pArCbsbCy\n",
       "ITMtcZ0Uv0QdTShiqnPWAeLohvhpeb6CsvwZ0eW0lwUIl6EAAADzQZsrSeEPJlMCH//+qZYAZS5t\n",
       "3gfugAuzCc0uxYfdaNFmAYb/b+DLHDoy+FDHXH+OZO6H3byWFBvoqqbf29NhtVfB5p+G5grf/EQb\n",
       "zoj666Ht8XeXYxoZogH4REP6BDYu3HnqHW8iAfmjPg4bJPfU4edsf5PmRCwJ2zrsADnfSpBra2Jg\n",
       "rk+tVqI6or93h6NFqvvW5rmljRdOBlIbfIFbangGwScgVqFSbMiCys+V7zI4Un6bEPfwyCcj5n2f\n",
       "IOWPF6rYiXz8pJ1bplE4dMtcI5g78eHA6sUTlq/z/6OVnMxfU4NKFbFEL42XHiwqR8MdbS2eAAAA\n",
       "bEGbTEnhDyZTAh///qmWAGW2Uz8SJzEABnGE5pdiHLVya97fRLY3X0xeFj7J8ZQMTkUwFhqDP5uw\n",
       "te9XQZSiEAc0ju7ZIrvC4LPV0X2Gj2/FmJToIcpNKfowyssWhItPJ1qjFOVH5Q1l+4avwAAAAKhB\n",
       "m21J4Q8mUwIf//6plgBqJxKUAGhKE5oViELYyZ01wj/ncGepQXExxdEwp/Yi0JvZ+fR0cWa6mXNT\n",
       "D2L1nOOV3lnOH7XsECNa7jpa0Th3PhkaJoq3EqZO1pW5hsGx83XRjAuViAcCmegqCieWOu+9HYcF\n",
       "3pZL4EE1kBz6D4LK5ppLi193SerO2Jc6irYnoc6bavvKndDowWmY7OZkLOQJ5FQKEUxHh3kAAACw\n",
       "QZuOSeEPJlMCH//+qZYAai5t9+fugAqBQnNCsQhbGTOmuEf87gz1KC4mOLomFOzMqHR2WYw+jo4s\n",
       "11MuZDWbOm+ztbk6rro9XcaxADyQaRA5k1c7JYEV9+Ras0bYmFmOfk9erCl+583X+wKKnqUabbwP\n",
       "QW4QmGiD3o7Dgu9LJfAgmsgOfQe+SyHxBXigWrJ3W4NE8Z6RBIFVV5X41LAI3bEDPoVgMsm57qcV\n",
       "AoRS9nMAAADJQZuvSeEPJlMCH//+qZYAZS5t9+fugApbqmDSJ4ZzKzC+FqV6e3bXV/q/erxlJnl2\n",
       "2a8NDdHYxB7XeqmlkV9HVdX7Y+fU9Z01ktrcnYAgF9j3rMAaZUbI2XHorfr3wkDc2LVhCbEQAoZf\n",
       "LfWSq3EmqPsBnQ0ZPCubmorK1OKdjgSgb+FCw1+P7vCweptYPDb37+QX7mWLp7Kowm+yifORwW+3\n",
       "3LPTSYsmvOkDdEIdnPB+onIvz6F9O/bt3wuFBus5EXJAes1ILhzxAAAA7UGb0EnhDyZTAgh//qpV\n",
       "ABisCNqtgAqBXiZ38WH3WjRZbnR/t/BlitN6LcGXCabIBK0s+FeeBES/4PT+ePoTz6fVIqwOv9RC\n",
       "+XQINRRryDvNI1smvV80KN58CiUodpb8mot/5DxUQ/RzZjtIDHMKwRS67RONM5GcHL6O/epX+IVR\n",
       "KVcipGeiZC3oFPWNKPCNsAQsYlRisiL/wrvwjXsCUqMwWZ/x9GsAGikS5Vkwm094foAWF5P5nJvi\n",
       "tZ/7SpG5wP6tboVAWivnGq/KcQB0EXiyaTSt6U9sOjFEcu/2FEgS1ZjZ+jyLK29pfI6C8AAAAHBB\n",
       "m/FJ4Q8mUwIIf/6qVQAYq8gTYv4AJbmjr/V8IMlaVjtjq/3icS0u3d9M9Qf5x+JDWyYY20M2RRUg\n",
       "s0KdYBXGnsx+8H6BNJr3Up2eu8+1A4stMS2ZjYMQPRBI1GI8hQAA+oU57ww7ZCS8tPZX1hvQAAAA\n",
       "zkGaEknhDyZTAgh//qpVABisCNqtgAuzbVDFG6rI87x96mJZx9riYEjb9lbCvGiIJGaz+HGOx7mx\n",
       "IdtpnyqMnefNBx85kntd+t92K682Pikh7ntAegV9oZCun6LYmG2nERLWBuYh2GRFm6nb7Itr76HU\n",
       "d0cA/gEf2k0ZUFwILrKz3CqSL+M8IIVmy9a+unaY4yzFgKmOrAb/yRYBVy3UZQR1VGeS4qNgNYLq\n",
       "ioX7YeU7pQLrIUSe2Ara70l2LBGKShSe5/bAtd9CUq8jIFuBAAAAvUGaM0nhDyZTAgj//rUqgAxW\n",
       "yOQARJOZLTag7P1WZAlHT27a54BD7CqMJiRJHwxy3e2u5XWP9Of7Q4DDJ3zn8367Ma6dCGLZzQ3v\n",
       "udzamrezvbcnqH0Ig9LA5sx0F08rnXE1cqNsFHtTZVsOfEVpl/hq5XFNvr9bdUFVx3aUviCLWZa2\n",
       "iWA12utg3w03KhEmtQ+7/Wgj+kkIIZdIkuj3WnMN2OopTNZpdjH4ya2Bpwp2NIjoGyCHY0w77dWh\n",
       "FwAAAfZBmldJ4Q8mUwII//61KoAMVNJOWCZkAROzJnzyChYe5IyiMUiBiswr/8GPgQTw+tdje4jE\n",
       "5XfGXLvH4SfW90HKTHy8LRIClASz5vz099DjYp0FPyOIDWiLm+zaz7zy/wmFy6lC8UemOvNNE18+\n",
       "q8sBzSmaBqE46+mOP5JKZzZv5KQfcE9EU0At6kSH1vJOvUWgvsO+HdVG0Q4gzUSaqo6kA0g40gZa\n",
       "TUPD8pUECM8dKA6b6m9+97r+EaU+z8tKesFs5jG6+dpqDngBWD+oB+XLYWrTIchX9cOpjgKk6w3E\n",
       "IczUb8RCqAX7/DOnkI8RNb3mjyR6A1dZTw1Cc/zTbJAOkycPTIINuR3rDv8ZOiJQorMZInq9Firn\n",
       "ztNPH8mV2gjcEdxEYdbGOyMLFZzzCBxVjaUurkmXMFNmjzfnKqxNqj2HLsCUZNvAZ/ol9pI6Ivu5\n",
       "6FmJfNDS8nfff+it0s6CJY+8OjKSCc7SPUVCU4WnBRQ18Le5YyUzPodisLL9plD8jOIrQS9NYgtj\n",
       "A03DiFDNIPtWkwR7qJK1XN7ArnalSyIRWIuV5ZgNwLcCzjI8vJXW+saeF4nLzjs3kAdHUnkcj9eh\n",
       "FE4DXTvDrJ6NJ9KRE89M9O9ymuSKVWfDxFNkJnoPvWgw2N/b7nfQp/Z5dQcUYSJiWIgXAAABqUGe\n",
       "dUURPDv/ADAbYAmCxQoAAhtIB3314JJeFHzYrnHu2o35TwTprVwhPnXDc1MsVQuX4/5dcAdF8uIt\n",
       "eK4s9xj9wKMx476EjhN/lPedxO1kwqrs9UoK94Lu63pmfEBtJ3FoZoA9vDkNGaDRHFB1Mf83UocN\n",
       "rQZMGG45L0OTRkSVfAzDInwDmYNEO9wlHjttjU/JnssPv22Omazt/zCkZSdMowr1ihU42eVzgqv0\n",
       "/Yrppnod33aQa6pJWHRzEIZyPUXhR1KbBpGp6zr8VkfrGqnRGv2sxgM6YhbFPjs8MCDG0yRM/9Ng\n",
       "+DJaVjqfXoKCX7EFPfuFVYDLR7fs6bdXwI8SP4bmTb7pfj65WncQ5WOopn7zvvqF6xERTSUbnyI9\n",
       "S2J4jjfwf4EfkV9GBFE2yak2vuXmgoycqkACweIIrhSQ0WbVkuS+nrGMNlRkLimqCyx+zG/aRIs0\n",
       "GsMKYPlNUFlTeflNUFlqrZpQ44pU02inzbimqCyrE2O8UUP/bR0UR9AQT8BY8EiOqnqDoDQkkR3D\n",
       "YP8+RwlixMroppY3/G5Aub5dXORXwRzhAAABkAGelHRDfwBDX2tlkT8UfEdwAgSj9FrvBUeDinTf\n",
       "1shOM3yQ5ZydJ+ogR1qBJfx3NqbI5dQ7TTHTRw32jjyZfqFHYHGm7U5imXSFNb4FOihQJb+JI6aa\n",
       "BsQrO4HexJZjDs+HeIo0URrvXsFTjye9tAzzz+89an/lU5DU0zVj3HG2E/6oAcKVmbcakKVVYZGH\n",
       "/zV5zF9WvJNA7L6wwYYszp2tmYQWExg9hQQmuoqepuoSFYGDJNth4hhQtmoL4DPsT0eTKdrAReGB\n",
       "vjyYJZA5mR0iO1Rmfr44UHdGKp232TmKE97mtDHJPIERbOJ+XQvLrre31BCu6eRk1xMdK4b/4jKd\n",
       "hFSxrzXk6IXOOF1gPIiZHTEhCI1h8A2yt1Pf9Lau9yO9f5fcl6Vufupw1vzhMrC+erLKTFYDI5qI\n",
       "gnb5tmQ8uqMCytmA4onO4RhHcOdJYQnXOzhk5KnERjFxnoCpDNjk8s97WCNkIbNDyg+xKBCAaUB4\n",
       "md6zs08ZpFUl47rvDguLKNvV6A9AgbeZDw7xPyAAAAGVAZ6WakN/ADom0UAIQRNRkyKF6xjRZpYH\n",
       "/gxszeimeLER3GjOAwLTUOWyIregdued7flAU73Dq7AYhkw/G+EG8KbiaVpU0pNxg/17Xzk/ivHB\n",
       "p9XUNTn/585cCNvI88T1X7kxTSLbVzMhvDPjbkFGWwC02IchcJjPbm0/cgnLEWTjuL9VrrSB4W1q\n",
       "UcrTVijZeRfkBNSRucADWRTYD3XEh6KGMxLzQetkAr6wtrC1L9ca8XCp01s6I89Lzyaam+JOjy0l\n",
       "suSUwg6pWII+mkIw7ikoT87VGD+zL6PWGOPRgVQvSqRvIIzdQOmz1KSGNTQXqep6Qc3I9q/JZi3x\n",
       "9QJopk4ukJU/HGq7P2zBK5nBJm05W3Ujk6Mwd493mhKaRl884V/GWE2IbcggwDEVw5kvsyxpPj7E\n",
       "VlT29fx+EjjMYPkVb8l1QCbofaKY+wqL8n4DcDcJkIyqq9uicldTujFqEQEvsSP6+mG4uTg6pQOs\n",
       "L2CVlIpZRjCtFp4ae9fnMM8JzHRGrlbjRH3GRo0h1NWOAl5odhD5AAABokGam0moQWiZTAgj//61\n",
       "KoAKmOGw8AC1GzBjVOqkbL2aTr1Q5lZCEde5BEuStJUe6TISlQyQW2VjNKui9PjEKiNHkAXtXueU\n",
       "K0fgDPCTFtqg3z3a52UTJO7tQaK+qC8DaPkzRKkvGpcfoGflKK0xVtF/wQLngklgj036nGHCStz3\n",
       "XRpUReg036Lvy3NgN8Q1yClZqLpfU9yWiAVET2vOkJhkoxb/6RlGj8DjKvJYynaL8q4xrbMm5GdK\n",
       "H3R8Tr4lqnI3Adhro3CoGKRBnNQyYvDcxppjAqk25OCPUM/t26NYK8wXC5wQlKxpHrTYzaN8ggyu\n",
       "8cesKRhuINYrseiJcQqiJ8BzWdaWDbsowwZuZegVQnwwLrrqQIytywC7gk1NrhwGtd9PFbpS4xxS\n",
       "Hj/PqnZgezMHV6PbiUiAkU/OIhYjAg4h7v2EVoXbAvlpQBxsLivNAX25PFh8UR5QdQ+oKIz0vE7M\n",
       "oFPY4YnW7Zqew2FhmPOaWBatdXNc8Op8aGFJsx/OoMdPLTfa38m+3q9k9+5q+DL1lx3Fa7piAZXC\n",
       "PlQ+BaUAAAFhQZ65RREsO/8AKUSGeMUAAQlbu29BHCFzunpef/r4w8T7WEXkKtRswJ1tOMlsJTOX\n",
       "64A/f+R386MGjLyTAPH7Bt74LVqrHO91cpAdLlC7McFpcDWNo3OHJC/HdYuczpkH5UVk1LZFGFsV\n",
       "eWmfJVBv2FyeVBDkYXctQixSwTHcqlpH9/1bbWmhK4HGdY1wTCsGdSKR2433rGjCtv7g1DnYmtp8\n",
       "aHc6kQTHxSLAjXMYkPN8bF/ZNfi5MThs1f1RIZKacs3e75svGlQ3SByXWJ6l0Bd93tVtLhHCvuot\n",
       "vhDJHcZx74LCZu/LjuvOyD5D/0PhnL9bSdDIjxMvptMXlSOdl/1JlUuRlMoAGkcuFFrXId3Yp0AA\n",
       "2DdhsnNb+Hu4+L/WxsC/e4pyAAfbb4Gk6UapTIoaBrdj/mjfhqiumlAqJP5Vx5SOV1Jk9g2jYdPM\n",
       "5OhZn/SVsaK8QySasAMpnJ/5YnQAAAG8AZ7YdEN/ADoIKqACHETOZ6wGd65jelrzlu21TR49lP0P\n",
       "eQ/EKaoP+hgEdqpM1m1QkzSVecFUIEiZok0nwBCj2PyBN2MazSJWGAX+nzinLwIh1NvoIY8vgUjV\n",
       "UevOMWbGHZA7Ra48CV/8fnyzIqmph9AX3VRdXu0UW/jKUS+h77rH/JCTt43YIA9VHgaaBdZ2NenA\n",
       "XX5/9mCPre49D5I0fGLN9Ws0DY9P5FS5YFP1cpMG/95rDIRAc7IQrAeSTkakDczkIU6di5NVBetM\n",
       "pA8w6MxbZPxDhBuUOTzm7VhXM6gUDE3eL3udokj5vNRKZ4f7r3O+doxYIbshZ6vhepTd6XbvHFRG\n",
       "VY+EmdXFZ9HugeSNA5sVl2Xmv7sNtJPMf5ySVxHKYah0j0B6Flr4oQMbZHDi7ASp/Fu++A/rnJ8G\n",
       "4McMJcpdO2Obu+UqbdMAduxg8Eae1kMzfuGXWWdnB7KnRA+DS8EwToW6ERXMMjO2uWFCordk5QeE\n",
       "ZeHZmIaJp+gEGxyOddRERwc+CjAq+NoaluJ+Ua7hnjv7FngloDcWtYlgfudzxAYDnZ/mnfka8eJT\n",
       "rLriwtOIVk0B0tG5AAABrgGe2mpDfwA5d/v9BJajgBB8bJZGu8FR4OKdN/2tQnUjWZhLSHMuK21t\n",
       "lj8D1DuPqnxxfOm0escTy12bP6wnpzNwQamDEqW5wBJKEuKEOgm+p8aANodd1sjSsnZV7JrrfJVE\n",
       "YPNtYffSTfNnsejoBxV4yXU/OzQ+W9xn+OWA0XQ7WAspVe2Mx7/WVJTMvwMf97+f9+281QmV3q8U\n",
       "Tyb1sS6Bkng2mfHrehJt7AObXc1QdaWYuty0Rq6Ek3bRAftf3gqBPqn98vpqH95kZ1Oy67mzxb2Z\n",
       "hujVIzW3UZn1gqzhr5FI1lGz6QeJ3uMEbnjrfDiOgK2WHQ6f50zU7SH58YU/ydU9hilBW7sHgKob\n",
       "It7uAyWvVT8VYQ55Cxc7BMvxc7IryvVIu6ovnUv77UePUa/jirMvQfZa9hcAboypYapQZU9wOF4e\n",
       "5fQbyAfb++5kRqR01A3iq4GgZ3lGkIwTAKcqubX/1A/74i40pPSz0BY5bTBit/AVho0IWmtq+Jj/\n",
       "xNGC1ve0+rDJiYPNY/citLJrHGa1qc4glE2bTmWR7mKSp8qdQP//AdmRMIOGhdoAAAHTQZrfSahB\n",
       "bJlMCCP//rUqgArfm1+vDzGsAs/QBbyqsqImBjVMK95Hy/JNjXef6arHOWArspp+EMlVytrgiW2X\n",
       "lygt/VOaG4+jk9xd9mxu3GYon8BNfS/hzjIRnZ04fzgRQTZb0bkbKhcHF0u1f4weFkGxVgzIO0xm\n",
       "CIn8I1cVKggeA0tWeDO5Ijf1DfgGji45HTYyl3JTPczcwgbntWYv8sMJw9l+hHBYkWj8eKU7tIE4\n",
       "/uiFRZPGlIIgl7SJIVlAr4/Q4PDR4apNIyWr5h7hdTeKldUeyIBFubYDeCXQ2C4qwQEyZBZ36RZR\n",
       "Y+Tj4dHJyvYOnggGVnz+gCweojKMq+Fl15+wNaDXyzuaJfZMUU6O/ji3ugnCZ72ffG6f5CL5mkSv\n",
       "cLEWsOdXMWzB7Vta+zYJs71NBNRXyPFIWjj3TfXMuQ8HuOzQt3OhBkNt7zlS+wgwyTCtmhs/KDv2\n",
       "x+PjBGG1/GIQ/HBvKXkbSd6JdXpEyRMhCvizkltM80EYp7h5BM7y+VhOiQEnk+8KvUkt7LrRMEPU\n",
       "1MObofWwCekfFdYzu45m51Vged085hJdXsWjSh6qyw+7ACWCLnfd1QLWMwWsgBQ2eJMAQdEPSSkJ\n",
       "rB8sl28AAABgQZ79RRUsO/8AKUYpw/cvXtoRuiEBkw57SgQI0HCZ2oAENOmVprTnpHZgabvnKZmW\n",
       "l0KSQr50Wm0qqO0NHYtE34hMKBeXRgW6u1gUJSh6+nPDB0SRugXZhbYgf6NB5amBAAACRgGfHHRD\n",
       "fwA5a4OHaBgA/TG72VVsRE8OKdI/wbsO92Ci6bFubyHiJzuTkh2fxCUyJoNl2Ns//2VJisXTeYbH\n",
       "O8Hd825f1SPd7BDSYpnsanexphSFd+/mwn3/IXMrUZIdFTxP/+f+anYYIaxJE+KDYtDEKoUwyc41\n",
       "+mhRwqXSU+PftQpkRQ9wWZIPWXKhyBeFhid4/7oEPoFWgM9quu6IwA7JkJy+2K1qwyODiPe/ZRS/\n",
       "uXIRoCfLZ7G7lsbS2bsdcAm4Vph1nMTOlmmZugf1d0jXhS+0/Y0baGZ9tbtmOgDpExqXIX96Y7MM\n",
       "AiZ9fbiLEeb0OSA68Z26NWjY/nMf29O+ya6K6HnagLgNhJ4ZRD6RYSijfbFDbYMwTSlk+83vhQcS\n",
       "07FeNtozoKXP3jl0FLubv6L1q+p+SRAxsi1iXHIffH4nA4rtEC7X/UKaIGnqxG/aV3twQJUssQ7G\n",
       "yJq8BzpWf1AdJF4xiJ3wJrQ57RCmiBePqAXaIG28P2zJEmY9RyXTm3EAftHesv1rtFhI8aX+6Jdo\n",
       "gXxlcJ0FLqAmhEPJcIMxJRJxXX6D26AIr687IF0B0SiCVDa0WMI7qZXTIrRiAYgAOMuZ61Dhzti7\n",
       "XmBdf8VnJHeCaxMTYCVl0CXJZOy+c7JfefRET4Y/6UfJzJXLnu0vUq8xjP23baejW7rmyyUGhbs4\n",
       "jwAuQf5GgaHT9ViNibJ+lTvd5zBThhBrYyEFvfPr+KdPiWfsn0G6bQKUAQhJPqYIXGqT/gel/8wL\n",
       "hZG12KhF2gAAAiUBnx5qQ38AOWuECaOAEJVaTmuvTI5VW3e52/ceAwM0DwF8L74J4acS/8WztQGZ\n",
       "ZP/bttgS69z8QH6e9PJbzVXbqLnQes6gkL32Yz69Ed6JSVQMM2x66vO/jC7TE0nY/RzbMOjnm1I1\n",
       "YyM1jrtwrpeIzSYTCcwUhvCopIanGkAeCp3FO0ns8BKyVdTX8hK1zxUyPY2+byqXV8jgmJIt/rbL\n",
       "ihZFp5eQGhFj5ZHOvZpXgqgOrdNBVzy22503WfxDKjxCa4oCBSGMim8oPp8hor6fZTLOj6A3CK+w\n",
       "6ALeIFk1pFvbqVw8bDW61pOuniQkAY7GQYix1kEaMOz70ZRQ+XdTOTSPTAUWaL4Qye/7FJsFDT/7\n",
       "KU4XBETzkptc3WKtcHmV4Vnh4hulJmCbsCRFffof2vz5G/g0M16seJLyU06xSMHMETV6GdkZjspL\n",
       "MKfQ2qDNFsDn/EfNrjz0SF4CV1jam6AmUhrKAXOKsKma+/1MZT8tD1oYdNjNQm/6blYQlaZy3JXt\n",
       "lmDexYIs5FvoGdClrXCHpSQLYMzUGBN9jDmlnlDuMzpy3BxzyHBvTZyVzIibvBNlvSemXeRmkL4c\n",
       "P4etJbw1+/FKJCw8OevBdTyNWxcp1sXUN43ZYMxeytJNzYsoX6cu81B9oHawNIvaJO62luK/HqCw\n",
       "zwHWVd6mJucbQJfS5RTq9egE72LME4pqP/i8agykk9vDA49KIehqRw3ZiGQHJ4AAAAIwQZsDSahB\n",
       "bJlMCCP//rUqgAso7zJmHsOH/DXeQAFymMXC5Cqg1o8al59x6m6xNI0V7/awQ9FkHvEldxBUBPqT\n",
       "lxR4IKMnqvA3/eVbGDUdQY3q0lgzy0NxWM01aqLoTZzCio5yOYu2uRU7lMPXkMNqQdrqdNOqfqQf\n",
       "wFATIfwuMid6Xu8l4yOv5ClptROLj6PgRqwQS9rpa8QJyW3O/mZTQr1ybkH7OWV9+a4qIZIHal4J\n",
       "Wl8nWWq5k7mgwi+gJ0L33L18fAaTTcB9BPD9l0TK/GBANPtKpqJ71+2iEhwBJBdkU0XA7TINFa1o\n",
       "4JehOm4bDB5oS66a8Ls8frWO+YHZJQCpRL9qKviDNAmV4pHCAVHHOZDssn3UtElmA/fyf/6xv9pc\n",
       "nNsCqRxNAvq5UEzt/wt+JzYyTjK6c24Vny5sVWhoIMkzna1x03Ps0XkZod1SWSmqvpgXwUD6yZpw\n",
       "xRg3yWQD18tdN+BND4twtQzAKojx6s/SrVSsKMqS6vYNZQedlX3W3MV48SjOTTYr/NyOGL/0Al9T\n",
       "Aw2ZYqJNQYXYSL8fVWTouTzVDHoTVF+7CePouFSldXrp/mcm+2Gn5KGlgOPRU3qC5PqTsb7wqsIi\n",
       "EFYQwvQkx+Ll3/UoJrw+5/bfnvxE192N+q1GAof1xqgnKyNj1aq56CBiNHppN4FuTwqNl9aa7Bz1\n",
       "b79/aiH6mO1Gu71Y7kl8tAcuSrpsHwSFi3v+1eCS5pKuw6EDutdLMsEAAAHDQZ8hRRUsO/8AKUo8\n",
       "LQAHxl135ghtJg/c4mWBsvP0gDSn9GXU0OirWMAZaRWT4MYeq8dcC+dk2r8JVF4P7docvB1ky+mK\n",
       "wT7NbDMMH5lwyzUIaQpMYQ8u2SLLSSKw1fA99XPz+CMbgq8cDpxALSDlINiBFUpK2E9UefktdYVV\n",
       "w9sP7BstCkl7mKIkqRhd1nGml90AZ64yTbtSYXchyK3ROox2xzmZ2jj/rxZrfatI4cihgS3uVeld\n",
       "1uSCRMkWcKWjNcaTTo6cZ5bGhx3/0y6DTMIsLWHcroFYuzqqxhk+YIx52eFF+Y50nSLa4cO7voKd\n",
       "Q1yZvwEGqk4GqbJ+T0OKZ5jj6Vn1qiWZHQeGWLewtRKZ2VYNlkFknlx0lJgn2b6IqsakuBNKrbnr\n",
       "G0AGB0i0Bgxv+O1Fad+GzwALx5bIPvqAHFc0BTZmgBzkidzEu3lC9G/c76B6HRl3v6TOdfw6eYp0\n",
       "vbb0dgaagRnxXTem+tVoEne40Ht4nvmCLkpjVqEUufSy/OXFRnz26wwSed9KGL9cVwQUBMlMKvg8\n",
       "2mEnMSf4vYAvk9BCvVCKYMcwWK99jtxEkSheoA7oT+fA2DpnBenzzAAAAW0Bn0B0Q38AOWuECaOA\n",
       "EJVYGxqziROc51dc7fPRMfkRn0feElbCvQMT0vo0Gy2Dps5apWlFpgEI4/G2HJcOqp7X75YKUBpN\n",
       "+1uP720mgdHQeW4bB8G9nrZB5FsN5yEGYugG6Oold0VqYbMnL6w0EQKXkgYvx2/eilwTJRAcITt1\n",
       "kEMuBJo/m8TM11PhdnPWzV1mVXCVu5xN9TqjpxRjxv1csizCKKJDicokqqlMziKFvyF3KFZxfEHG\n",
       "UclEFhXZRhepC1DjuWezD1Kv7DiWcJ0TIwbNiy0NXB2dPtAUUVr03bop4bm0QDAFF/KeYtj57TLL\n",
       "WNMgisZ7xsWdlYfXxC/Z0GHGzUtWf3XjD2DRiaSsTeA5bikRin1dQXe+UBOUwqjLf/uCZU6id+Go\n",
       "O1Zs8YHskmzMG9K6jyHYC2L3sUyxbVnvJcxNLRGd6s8y27GoQ9/27lQpaiAkrQdOD3AO3+kXtm+W\n",
       "BI7MCWfXHpK8wwAAAWIBn0JqQ38AOfshUqxS8BHtmaiY1Y9f1SrgA0y2lutWdX2Bp4JNAtRUgShN\n",
       "zf6+llxuD6EuVKNLi77ki8I4lvdx3PvwKd3tqgic61FHlE2a+24WAJw4LS4P8LRVXfgCtxqz7ozK\n",
       "sw4KtDpmXNum71rPpcNzaBdmb+A2TEH6tXzddlJ3VEemQTU1i5ffqw30L93iLo+Ng00+WvrVSW1y\n",
       "Mzyv7dxkSzzPPqDqxLjPaNSfyrdmCW+W0Y0+rXRBu8P66SgODCtaNLzR2wod49sdm5SO35WDN/gD\n",
       "TA1eOVmjlTkiAroLXiTOsLUthPnaSXheVDC35NLiwF+jsW0uyc7KR+dhCWCykXawc8pOQHTq3MVJ\n",
       "kNg4TnGRZB9BCX7wBXFOADQ6djI7xRvmvHn48DMvafGac6J05Pi/9V4rhTpLl2aszhAX6r29C3hZ\n",
       "5xpvOwx2tLxnus8DC42uHfQ1dTDBCRXMN14AAAHCQZtHSahBbJlMCCP//rUqgAtw7xBGDNeZnEAE\n",
       "l5umpex9OUcROz/CmR0khrVkKta5VDPb7dE7JumqC54/hv89B9DooQoj6sknsz87WPDv5Zrpiv6U\n",
       "60/ONNtjJuEbQsQ0jdjRspKVzFoLuNXSt3F/r/7S90C0B6ESpdQGYPQojgW/YZHo+nPmAahhe5+j\n",
       "mL0b+cNYztyzZFKgNPLQcm6fsRvxBo1KsRbeo6ARQq7628aj4NXnUCh1w8JO1kmHNOzyIwXbeMFR\n",
       "aR3t8N1mybTXdiZJ1UTcrgx9h9cNQGXRsStZz+iUzNZQVonAOnn279qrc9ezRzEaQ56dibR26gK9\n",
       "hyPRHFey+Doe6Tyfju5fVTeCLu0Bdp5JM84h2cCWgWz9+7Wu56EY9v/DWdHk1oAwcMSbCo4KgO0J\n",
       "4YZxoxn3a0VV+Pj/k+r66OMztM3uWRHRryenpb7hcBb0JbK4JvBufQq8rtoC3M5xVAw9tX3V5kTr\n",
       "+Ig+yf+OVoai7Sn6EijHzL8v2MdEzGyQ4xI/2X17htQxd5k/SoErMtBtUmxJDHSiGqGtOlCnn352\n",
       "clOGS8EjWWjspF+JjwzSIj5SEoyM+HItAAABm0GfZUUVLDv/AClEhonQIgxGEwAGd5hfvo2vcwpD\n",
       "RIqfgTJbn5Fbu3Kk73mC3TNG61oMMoajdaVCHvws/RSA1/B5RBGyKEHotvorb9ZMLZoV7/MnObpY\n",
       "qma5p2QXrOPIHbBldcxMOh7oOqjn+zVGCmjURFuppoiIBkzjSYzvVTyCALD/Aq1vnfAcq1UtXln/\n",
       "km6M3Yzm+GPtCJw+ucYdNQIPdjOx7jFUhKm2fTaKEP+BVwRn2SvknBa7tlAdOEpV48P2WDnj6Hkm\n",
       "D1OXSpETYLCJG8uPckUdHw694LX8rLGkc7UhgCwU230DqbMxKSsGq4m48j2qCP/Y9A+eTqe5aUUp\n",
       "yVZzLlwQ29hX+zkLpkXQsQnSIcxDWPw08oktpm9zNLWryYjCa2FpDUyIf1qPkdGRWYh7tu2EuSdi\n",
       "gd2ub3+DhLemc8zhwZRAId2t7VDasS/GzDBqA29zcYigORTrFfcVcKuo8p8N89gaIlt9sEuHg4Yv\n",
       "dR4AYj+/HeLfilNzCHdVrOFgUGt1o0GEeqkuIY33K9piO0bEuDYOmQAAAXEBn4R0Q38AOgWYPVBZ\n",
       "qnwWxEOuz76SVId9Vm3d5dEsAAlUDGngOhyUQfgSRo7c8aFywh5gWwXAduXsnl+YJJLpAoNhQjPb\n",
       "/8/zMlDv7uKU8iEKKAYNfFlzNt3rbSVGxJftZiEbPyYHWzQ6nEw7Qr1yfjBk1qTZiOQ7hdrkLHeq\n",
       "A5Q4xsPMCpstj9ByZLsXBxzdg4I3NiaHwJ6B5gl3IChJYPqQe7HlH9QoFE+bCDRqpG8UWDL1s0kA\n",
       "lLpVeSZp0P4DrLjomfAGkbpX7Cd2gMH5WmWHs/dHhhbRpcXAAnqkpaTfQW3yve0dREFsl17io5Gx\n",
       "jysyXyW5Q8HWEg4lJvGdCmmva3ljVXEVIc19o982PQbC5N+p5x5uMUv5W5HoWbAIIQSmsR7dZAao\n",
       "lxctH3KZkgSif2+4bXP/7wAdahG0Ua6byEOr+Ny7Z+gm5kj7NUzVjIzVgZeDu7BFIv99sDQn5WEk\n",
       "y4Jjeymz0PuAv8QbAmEAAAEvAZ+GakN/ADn7mN8AHxxU+ExXclCb9JqMr4Fq8diLkLXQz6sGx7z1\n",
       "11Y7fvl/sLGh7BbGuHfYR73TssZdZl2dr41u95Atryuvu9Gcr+BJf7IQLAPcmeGi03kA7Q4WxQrf\n",
       "6tQiGTFpqOssbdYiC9/C9kEXUYkhqI4aRtzS49A+whL94Obc3v4ko0lYilmfvGjIu2XFuq2PEd3Y\n",
       "yJM1XfZYfPPNaF9hJf/6WcLtdh8nzVR7mpdbxQ2hRWVa6zhey5hgW42iB01otBSF9cMdEfkQzjS2\n",
       "0g9byRwJo8q7WTYbWtqE0CnQ6ezhYIj8ijy+/29E41wKzwOH6RReHnk6hBpNgQZZ0EiQqsTzrsoJ\n",
       "z9j5s0H3//7/j5is7/ADcsE6gaKFBw8eYqg4gORpcdBjsAmBAAAAdUGbi0moQWyZTAgj//61KoAL\n",
       "uO79l/83l+kKU+iEtYhyWqALiBNQFz8oeW2Kh/qQ6kR8TMaNY+IbEGJmoHgbg9PScbpqC3dyHRnH\n",
       "P3jybNKuo7oNi0vSUs5jkGmHGnxvpO/MTNFOfualPAlrpng9erNZjw1QeAAAAWFBn6lFFSw7/wAp\n",
       "SjwtAAkTLr4EKgRPWcM64zAA5r0klhH/CUW6caV8AYa+CJqw7QbcxpHQOiHopFPjj3rOt9riYzz/\n",
       "B0BB/lGl+NUjeb5ltfU3ewXg2fQEy53RJmeCtBQHN3EYVCkwCIzxZMnyhocUjg/qwdj0Y3WiMOWe\n",
       "ujgpYeYUBJJIGslNsm61vrAoLMLvjVl+QDcQGIb2AFJ3JYiePae6tRQ5Avkz/LQLgtNWIl6UAoU6\n",
       "vu9nSlnCLhl76UqA8LpmZzvOQmzdW9HPE0z37+jQwobvry0DH6slxm0IgxW/LthjTA0BRwm7PYbE\n",
       "hkNn+4jiTZunTC/rpOZsQ0/arRYh+j1pDUZbV4ZNr+EYlUbCSUllWVBdwkxJIRJ/P4Z1+pu9vQp1\n",
       "ZqFO9GAZA+FBLX0hBTHe4F5x/ThT///v5sm4G/UDFWMzFX1ouW6nuY8z0TOpUeX5yL3hCM6mF2L2\n",
       "4AAAACgBn8h0Q38AOfp3BsjkiaXqAv4JfCxoNukXqqoYWKMSzUWqVhmpfsH9AAAAOgGfympDfwA5\n",
       "/b4mKl00AA76g/8n934oBgjPHYDg2ixd7FzNPhxkzQt0EhDL6dMvoD76TfIJXfWt6IAAAANKQZvP\n",
       "SahBbJlMCCP//rUqgAqnDh/w1yQAIItTrvxouYsqne+YXkoFWK0Cum3ifxsnYs23AKjCNxoWR/vo\n",
       "eczToeAxLmqovbRV3E9QpuXAF6sC6X9eyjbzrD5ygSduUgtxWIHDE/7+eKFH/rW8UYbVOxlYwwc4\n",
       "H+iUZBNBqjFqfDmx6ajQ7nM4L8HEKr4szGOifss7enrYSGv5ynEqg+Ygp7uwjQpzX5ifpTrWv/XT\n",
       "eH767nkyNWfeDa+KU1b6nriFJAMW8tlPxLo4Wm5oURctOdFdIA6DM5Vp/1bbY597S7e/X0A4GAyT\n",
       "vOm4RtpvCKs4Lgj6PqNYHmioRIysFrNlSn3UqgZRLFqbpoBxqI5ZwrDFDdj0JGpciUiI4EpgPVpr\n",
       "BL1XeHT5WR3FsRFLVPtizwuUBiyQw4tA1+sf0u84GYlwgDSE7x+6HU3+OA+qLNNguXgdvtYhujy2\n",
       "1yn33fys7a9ZIVN2NWWcigxJB/P5zJtCLBdeyiC/H9mLbdgETRZ5+6rRxgbjgs+TZlrwesDimZfS\n",
       "GfDNWsklDwT/U6ty/K15H7pNhKzgz0/U+72LpvCJxRfNrEXE08acvaALaHoTf57EQ4iUx1+YLH2w\n",
       "7uczgJiz5q+YPVsCBVlZ1hIgZCf78ysq1aFhPar5SZpnE+i+4vUX+v9hBMHFD5FWiGdMgLqbTJY6\n",
       "yv4JfOTVA+WvxlgQ79H1G/KtDaV0e/7/mGNQnC/Yq9m8Z9FgJi5JOgozkGUFURh5qkuvcoOoZ5Ci\n",
       "cR10T0dT6IVLSA6DgpSrscwSDdPdAZRLwTBVAr9XZ4nywL9pB4pUHVOeT8NcWSUE9YHERpHGoOM2\n",
       "a+NDQFg4oT0xYR2UgIymZlqu1CTPHUVitIlDmqn2WkVqPffkUHJop73bSGPng9DIbZgW9ucB6nxz\n",
       "8BzwVcAPVxppmuKKZ5mauMrxQB485Zr7jgz0VIA8QmEHCj0oTDIBy/UuUGshgX8WAqcbk8ucd/O8\n",
       "LmBrcMZZIyDmZBNiPja/6eIIGQlNg/z8gYjVArjp9ShTvYJnaQUpnw55r4/q8OK/WxvtfljbMM8n\n",
       "AeYmSnVUFqHMtSlRpXHXfdpo9oko+x9zr9Y3RBFNs1WjjHFaWZ0SSqAAAAHIQZ/tRRUsO/8AKUQ3\n",
       "hcHGcxK03ZdkEPFF3zu1P2H0CUNGUX5/AD+A6ev8G0zAy9WKyAwYqI7zlxToMHqBV18iASiLGUhl\n",
       "DzwO6HLFXUkp0Y+pSAAfn/26WfxRCRdiuIQCSNh+6hvNag7xvr9VC9R76fLkWdxvdEEKqI8Ke23N\n",
       "D6kCxQ372q83BT76opdO6yvYoOJ4UbpnMvJ6EWqyR0Y2IF0LBR8ITmZY6C4p6Ve3fwKZx+d7mLDR\n",
       "DNATRcpzMXcAv/JApSbJyz1ZbXza/ChoyPKz1QoqtUEOCsx2fvb6VlfShrXt4UdRfjuSeeza3I8s\n",
       "OQbIUmIrXdl1Nc3hKvTwqS/m8hv3YpeLOCNxtUyTW38GCj+EUWq8zBULEoIHKsMdPN86iboqS4Ve\n",
       "fbwe+tUP9knYOCVCDZgT5lb3HsdoUEHNoyfuNO6bXCPz/z8o0RfodDjkHQlU8TA8MpLTiP+7tQiO\n",
       "psZn/IgrfU7VPxEIV4UNA4kRt4L/pasUQA5C/BoKtziXg5rQjHO6+J6ObFiw4oDiDM+saas2xbnJ\n",
       "MPs0zKNp2+z6Ls1qz+PnMvhkQgIqn9h1+U0PT0K6umdSnCM1r31ZtSQFpEKBAAAALwGeDHRDfwA5\n",
       "+ncGyOXlc7HIxrPcleRxEKHW9d0dv+izN3y5Seyek8tpV1i34bYjAAAAMAGeDmpDfwA6BQ8qwPgF\n",
       "9IH/TZnZJ78NYnpaLsvydyJOwTM+3sV2APZ/2fvrDsWgjQAAAHFBmhNJqEFsmUwII//+tSqAAXb0\n",
       "hegC43NWBHq4//gaJF8YE4MirVxHg5QdVLIzmQkG+/7im2FInXWJCWF6t82/uRVyajhCT0cHQv3t\n",
       "YULpwTllFQiEVXFQps4jWKjg5YWPj53kuWCi9LpPV0g/WZqYmAAAACZBnjFFFSw7/wAcgjTjuGrB\n",
       "ASy0cH0/WBECOi+yu9JGZufb4BjtwAAAABsBnlB0Q38AAzfWpzpnxNAKfm6VWC/R4CoxC4sAAAAV\n",
       "AZ5SakN/AAL8XYBABXHnoGTFnuH4AAAAHkGaV0moQWyZTAgj//61KoAAABb/oMT0IU1hIGAwIAAA\n",
       "ACRBnnVFFSw7/wAcgjTjVlVaibzNrI3sztIQ/PQfBEHaitOsXFUAAAAZAZ6UdEN/AAL71fbmRtjO\n",
       "mL4L+gEe2qDeYAAAABUBnpZqQ38AAvxdgEAFceegZMWe4fkAAAAXQZqbSahBbJlMCCP//rUqgAAA\n",
       "AwAADakAAAAnQZ65RRUsO/8AHII041ZVWom8M34cRpSRIvyiTYFxztOhwzjRNGBAAAAAFwGe2HRD\n",
       "fwAC+9X24Dn0TEsAR6nW7zWhAAAAFwGe2mpDfwAC/F2AQCgvPiW5oS51ufT4AAAAF0Ga30moQWyZ\n",
       "TAgj//61KoAAAAMAAA2pAAAAIUGe/UUVLDv/AByCNONWVVqJvDN+HEeGJCaXgPj8mPR/gQAAABcB\n",
       "nxx0Q38AAvvV9uA59ExLAEep1u81oAAAABcBnx5qQ38AAvxdgEAoLz4luaEudbn0+AAAABdBmwNJ\n",
       "qEFsmUwII//+tSqAAAADAAANqQAAACFBnyFFFSw7/wAcgjTjVlVaibwzfhxHhiQml4D4/Jj0f4AA\n",
       "AAAXAZ9AdEN/AAL71fbgOfRMSwBHqdbvNaEAAAAXAZ9CakN/AAL8XYBAKC8+JbmhLnW59PgAAAAX\n",
       "QZtHSahBbJlMCCP//rUqgAAAAwAADakAAAAhQZ9lRRUsO/8AHII041ZVWom8M34cR4YkJpeA+PyY\n",
       "9H+BAAAAFwGfhHRDfwAC+9X24Dn0TEsAR6nW7zWhAAAAFwGfhmpDfwAC/F2AQCgvPiW5oS51ufT5\n",
       "AAAAF0Gbi0moQWyZTAgj//61KoAAAAMAAA2oAAAAIUGfqUUVLDv/AByCNONWVVqJvDN+HEeGJCaX\n",
       "gPj8mPR/gAAAABcBn8h0Q38AAvvV9uA59ExLAEep1u81oQAAABcBn8pqQ38AAvxdgEAoLz4luaEu\n",
       "dbn0+AAAABdBm89JqEFsmUwII//+tSqAAAADAAANqAAAACFBn+1FFSw7/wAcgjTjVlVaibwzfhxH\n",
       "hiQml4D4/Jj0f4EAAAAXAZ4MdEN/AAL71fbgOfRMSwBHqdbvNaEAAAAXAZ4OakN/AAL8XYBAKC8+\n",
       "JbmhLnW59PkAAAAXQZoTSahBbJlMCCP//rUqgAAAAwAADagAAAAhQZ4xRRUsO/8AHII041ZVWom8\n",
       "M34cR4YkJpeA+PyY9H+AAAAAFwGeUHRDfwAC+9X24Dn0TEsAR6nW7zWhAAAAFwGeUmpDfwAC/F2A\n",
       "QCgvPiW5oS51ufT4AAAAF0GaV0moQWyZTAgj//61KoAAAAMAAA2oAAAAIUGedUUVLDv/AByCNONW\n",
       "VVqJvDN+HEeGJCaXgPj8mPR/gQAAABcBnpR0Q38AAvvV9uA59ExLAEep1u81oAAAABcBnpZqQ38A\n",
       "AvxdgEAoLz4luaEudbn0+QAAABdBmptJqEFsmUwII//+tSqAAAADAAANqQAAACFBnrlFFSw7/wAc\n",
       "gjTjVlVaibwzfhxHhiQml4D4/Jj0f4AAAAAXAZ7YdEN/AAL71fbgOfRMSwBHqdbvNaEAAAAXAZ7a\n",
       "akN/AAL8XYBAKC8+JbmhLnW59PgAAAAXQZrfSahBbJlMCCP//rUqgAAAAwAADakAAAAhQZ79RRUs\n",
       "O/8AHII041ZVWom8M34cR4YkJpeA+PyY9H+BAAAAFwGfHHRDfwAC+9X24Dn0TEsAR6nW7zWgAAAA\n",
       "FwGfHmpDfwAC/F2AQCgvPiW5oS51ufT4AAAAF0GbA0moQWyZTAgj//61KoAAAAMAAA2pAAAAIUGf\n",
       "IUUVLDv/AByCNONWVVqJvDN+HEeGJCaXgPj8mPR/gAAAABcBn0B0Q38AAvvV9uA59ExLAEep1u81\n",
       "oQAAABcBn0JqQ38AAvxdgEAoLz4luaEudbn0+AAAABdBm0dJqEFsmUwII//+tSqAAAADAAANqQAA\n",
       "ACFBn2VFFSw7/wAcgjTjVlVaibwzfhxHhiQml4D4/Jj0f4EAAAAXAZ+EdEN/AAL71fbgOfRMSwBH\n",
       "qdbvNaEAAAAXAZ+GakN/AAL8XYBAKC8+JbmhLnW59PkAAAAXQZuLSahBbJlMCCP//rUqgAAAAwAA\n",
       "DagAAAAhQZ+pRRUsO/8AHII041ZVWom8M34cR4YkJpeA+PyY9H+AAAAAFwGfyHRDfwAC+9X24Dn0\n",
       "TEsAR6nW7zWhAAAAFwGfympDfwAC/F2AQCgvPiW5oS51ufT4AAAAF0Gbz0moQWyZTAgj//61KoAA\n",
       "AAMAAA2oAAAAIUGf7UUVLDv/AByCNONWVVqJvDN+HEeGJCaXgPj8mPR/gQAAABcBngx0Q38AAvvV\n",
       "9uA59ExLAEep1u81oQAAABcBng5qQ38AAvxdgEAoLz4luaEudbn0+QAAABdBmhNJqEFsmUwII//+\n",
       "tSqAAAADAAANqAAAACFBnjFFFSw7/wAcgjTjVlVaibwzfhxHhiQml4D4/Jj0f4AAAAAXAZ5QdEN/\n",
       "AAL71fbgOfRMSwBHqdbvNaEAAAAXAZ5SakN/AAL8XYBAKC8+JbmhLnW59PgAAAAXQZpXSahBbJlM\n",
       "CCP//rUqgAAAAwAADagAAAAhQZ51RRUsO/8AHII041ZVWom8M34cR4YkJpeA+PyY9H+BAAAAFwGe\n",
       "lHRDfwAC+9X24Dn0TEsAR6nW7zWgAAAAFwGelmpDfwAC/F2AQCgvPiW5oS51ufT5AAAAF0Gam0mo\n",
       "QWyZTAgj//61KoAAAAMAAA2pAAAAIUGeuUUVLDv/AByCNONWVVqJvDN+HEeGJCaXgPj8mPR/gAAA\n",
       "ABcBnth0Q38AAvvV9uA59ExLAEep1u81oQAAABcBntpqQ38AAvxdgEAoLz4luaEudbn0+AAAABdB\n",
       "mt9JqEFsmUwII//+tSqAAAADAAANqQAAACFBnv1FFSw7/wAcgjTjVlVaibwzfhxHhiQml4D4/Jj0\n",
       "f4EAAAAXAZ8cdEN/AAL71fbgOfRMSwBHqdbvNaAAAAAXAZ8eakN/AAL8XYBAKC8+JbmhLnW59PgA\n",
       "AAAXQZsDSahBbJlMCCP//rUqgAAAAwAADakAAAAhQZ8hRRUsO/8AHII041ZVWom8M34cR4YkJpeA\n",
       "+PyY9H+AAAAAFwGfQHRDfwAC+9X24Dn0TEsAR6nW7zWhAAAAFwGfQmpDfwAC/F2AQCgvPiW5oS51\n",
       "ufT4AAAAF0GbR0moQWyZTAgj//61KoAAAAMAAA2pAAAAIUGfZUUVLDv/AByCNONWVVqJvDN+HEeG\n",
       "JCaXgPj8mPR/gQAAABcBn4R0Q38AAvvV9uA59ExLAEep1u81oQAAABcBn4ZqQ38AAvxdgEAoLz4l\n",
       "uaEudbn0+QAAABdBm4tJqEFsmUwII//+tSqAAAADAAANqAAAACFBn6lFFSw7/wAcgjTjVlVaibwz\n",
       "fhxHhiQml4D4/Jj0f4AAAAAXAZ/IdEN/AAL71fbgOfRMSwBHqdbvNaEAAAAXAZ/KakN/AAL8XYBA\n",
       "KC8+JbmhLnW59PgAAAAXQZvPSahBbJlMCCP//rUqgAAAAwAADagAAAAhQZ/tRRUsO/8AHII041ZV\n",
       "Wom8M34cR4YkJpeA+PyY9H+BAAAAFwGeDHRDfwAC+9X24Dn0TEsAR6nW7zWhAAAAFwGeDmpDfwAC\n",
       "/F2AQCgvPiW5oS51ufT5AAAAF0GaE0moQWyZTAgj//61KoAAAAMAAA2oAAAAIUGeMUUVLDv/AByC\n",
       "NONWVVqJvDN+HEeGJCaXgPj8mPR/gAAAABcBnlB0Q38AAvvV9uA59ExLAEep1u81oQAAABcBnlJq\n",
       "Q38AAvxdgEAoLz4luaEudbn0+AAAABdBmldJqEFsmUwII//+tSqAAAADAAANqAAAACFBnnVFFSw7\n",
       "/wAcgjTjVlVaibwzfhxHhiQml4D4/Jj0f4EAAAAXAZ6UdEN/AAL71fbgOfRMSwBHqdbvNaAAAAAX\n",
       "AZ6WakN/AAL8XYBAKC8+JbmhLnW59PkAAAAXQZqbSahBbJlMCCP//rUqgAAAAwAADakAAAAhQZ65\n",
       "RRUsO/8AHII041ZVWom8M34cR4YkJpeA+PyY9H+AAAAAFwGe2HRDfwAC+9X24Dn0TEsAR6nW7zWh\n",
       "AAAAFwGe2mpDfwAC/F2AQCgvPiW5oS51ufT4AAAAF0Ga30moQWyZTAgj//61KoAAAAMAAA2pAAAA\n",
       "IUGe/UUVLDv/AByCNONWVVqJvDN+HEeGJCaXgPj8mPR/gQAAABcBnxx0Q38AAvvV9uA59ExLAEep\n",
       "1u81oAAAABcBnx5qQ38AAvxdgEAoLz4luaEudbn0+AAAABdBmwNJqEFsmUwII//+tSqAAAADAAAN\n",
       "qQAAACFBnyFFFSw7/wAcgjTjVlVaibwzfhxHhiQml4D4/Jj0f4AAAAAXAZ9AdEN/AAL71fbgOfRM\n",
       "SwBHqdbvNaEAAAAXAZ9CakN/AAL8XYBAKC8+JbmhLnW59PgAAAAXQZtHSahBbJlMCCP//rUqgAAA\n",
       "AwAADakAAAAhQZ9lRRUsO/8AHII041ZVWom8M34cR4YkJpeA+PyY9H+BAAAAFwGfhHRDfwAC+9X2\n",
       "4Dn0TEsAR6nW7zWhAAAAFwGfhmpDfwAC/F2AQCgvPiW5oS51ufT5AAAAF0Gbi0moQWyZTAgj//61\n",
       "KoAAAAMAAA2oAAAAIUGfqUUVLDv/AByCNONWVVqJvDN+HEeGJCaXgPj8mPR/gAAAABcBn8h0Q38A\n",
       "AvvV9uA59ExLAEep1u81oQAAABcBn8pqQ38AAvxdgEAoLz4luaEudbn0+AAAABhBm89JqEFsmUwI\n",
       "If/+qlUAAAMAAAMAG1AAAAAhQZ/tRRUsO/8AHII041ZVWom8M34cR4YkJpeA+PyY9H+BAAAAFwGe\n",
       "DHRDfwAC+9X24Dn0TEsAR6nW7zWhAAAAFwGeDmpDfwAC/F2AQCgvPiW5oS51ufT5AAAAGEGaE0mo\n",
       "QWyZTAh3//6plgAAAwAAAwBqwAAAACFBnjFFFSw7/wAcgjTjVlVaibwzfhxHhiQml4D4/Jj0f4AA\n",
       "AAAXAZ5QdEN/AAL71fbgOfRMSwBHqdbvNaEAAAAXAZ5SakN/AAL8XYBAKC8+JbmhLnW59PgAAAAY\n",
       "QZpUSahBbJlMCG///qeEAAADAAADANSAAAALO21vb3YAAABsbXZoZAAAAAAAAAAAAAAAAAAAA+gA\n",
       "AEa0AAEAAAEAAAAAAAAAAAAAAAABAAAAAAAAAAAAAAAAAAAAAQAAAAAAAAAAAAAAAAAAQAAAAAAA\n",
       "AAAAAAAAAAAAAAAAAAAAAAAAAAAAAAAAAAIAAApldHJhawAAAFx0a2hkAAAAAwAAAAAAAAAAAAAA\n",
       "AQAAAAAAAEa0AAAAAAAAAAAAAAAAAAAAAAABAAAAAAAAAAAAAAAAAAAAAQAAAAAAAAAAAAAAAAAA\n",
       "QAAAAAJYAAABkAAAAAAAJGVkdHMAAAAcZWxzdAAAAAAAAAABAABGtAAACAAAAQAAAAAJ3W1kaWEA\n",
       "AAAgbWRoZAAAAAAAAAAAAAAAAAAAKAAAAtQAVcQAAAAAAC1oZGxyAAAAAAAAAAB2aWRlAAAAAAAA\n",
       "AAAAAAAAVmlkZW9IYW5kbGVyAAAACYhtaW5mAAAAFHZtaGQAAAABAAAAAAAAAAAAAAAkZGluZgAA\n",
       "ABxkcmVmAAAAAAAAAAEAAAAMdXJsIAAAAAEAAAlIc3RibAAAALRzdHNkAAAAAAAAAAEAAACkYXZj\n",
       "MQAAAAAAAAABAAAAAAAAAAAAAAAAAAAAAAJYAZAASAAAAEgAAAAAAAAAAQAAAAAAAAAAAAAAAAAA\n",
       "AAAAAAAAAAAAAAAAAAAAAAAAABj//wAAADJhdmNDAWQAFv/hABlnZAAWrNlAmDPl4QAAAwABAAAD\n",
       "ABQPFi2WAQAGaOvjyyLAAAAAHHV1aWRraEDyXyRPxbo5pRvPAyPzAAAAAAAAABhzdHRzAAAAAAAA\n",
       "AAEAAAC1AAAEAAAAABRzdHNzAAAAAAAAAAEAAAABAAAFSGN0dHMAAAAAAAAApwAAAAMAAAgAAAAA\n",
       "AQAAFAAAAAABAAAIAAAAAAEAAAAAAAAAAQAABAAAAAANAAAIAAAAAAEAABQAAAAAAQAACAAAAAAB\n",
       "AAAAAAAAAAEAAAQAAAAAAQAAFAAAAAABAAAIAAAAAAEAAAAAAAAAAQAABAAAAAABAAAUAAAAAAEA\n",
       "AAgAAAAAAQAAAAAAAAABAAAEAAAAAAEAABQAAAAAAQAACAAAAAABAAAAAAAAAAEAAAQAAAAAAQAA\n",
       "FAAAAAABAAAIAAAAAAEAAAAAAAAAAQAABAAAAAABAAAUAAAAAAEAAAgAAAAAAQAAAAAAAAABAAAE\n",
       "AAAAAAEAABQAAAAAAQAACAAAAAABAAAAAAAAAAEAAAQAAAAAAQAAFAAAAAABAAAIAAAAAAEAAAAA\n",
       "AAAAAQAABAAAAAABAAAUAAAAAAEAAAgAAAAAAQAAAAAAAAABAAAEAAAAAAEAABQAAAAAAQAACAAA\n",
       "AAABAAAAAAAAAAEAAAQAAAAAAQAAFAAAAAABAAAIAAAAAAEAAAAAAAAAAQAABAAAAAABAAAUAAAA\n",
       "AAEAAAgAAAAAAQAAAAAAAAABAAAEAAAAAAEAABQAAAAAAQAACAAAAAABAAAAAAAAAAEAAAQAAAAA\n",
       "AQAAFAAAAAABAAAIAAAAAAEAAAAAAAAAAQAABAAAAAABAAAUAAAAAAEAAAgAAAAAAQAAAAAAAAAB\n",
       "AAAEAAAAAAEAABQAAAAAAQAACAAAAAABAAAAAAAAAAEAAAQAAAAAAQAAFAAAAAABAAAIAAAAAAEA\n",
       "AAAAAAAAAQAABAAAAAABAAAUAAAAAAEAAAgAAAAAAQAAAAAAAAABAAAEAAAAAAEAABQAAAAAAQAA\n",
       "CAAAAAABAAAAAAAAAAEAAAQAAAAAAQAAFAAAAAABAAAIAAAAAAEAAAAAAAAAAQAABAAAAAABAAAU\n",
       "AAAAAAEAAAgAAAAAAQAAAAAAAAABAAAEAAAAAAEAABQAAAAAAQAACAAAAAABAAAAAAAAAAEAAAQA\n",
       "AAAAAQAAFAAAAAABAAAIAAAAAAEAAAAAAAAAAQAABAAAAAABAAAUAAAAAAEAAAgAAAAAAQAAAAAA\n",
       "AAABAAAEAAAAAAEAABQAAAAAAQAACAAAAAABAAAAAAAAAAEAAAQAAAAAAQAAFAAAAAABAAAIAAAA\n",
       "AAEAAAAAAAAAAQAABAAAAAABAAAUAAAAAAEAAAgAAAAAAQAAAAAAAAABAAAEAAAAAAEAABQAAAAA\n",
       "AQAACAAAAAABAAAAAAAAAAEAAAQAAAAAAQAAFAAAAAABAAAIAAAAAAEAAAAAAAAAAQAABAAAAAAB\n",
       "AAAUAAAAAAEAAAgAAAAAAQAAAAAAAAABAAAEAAAAAAEAABQAAAAAAQAACAAAAAABAAAAAAAAAAEA\n",
       "AAQAAAAAAQAAFAAAAAABAAAIAAAAAAEAAAAAAAAAAQAABAAAAAABAAAUAAAAAAEAAAgAAAAAAQAA\n",
       "AAAAAAABAAAEAAAAAAEAABQAAAAAAQAACAAAAAABAAAAAAAAAAEAAAQAAAAAAQAAFAAAAAABAAAI\n",
       "AAAAAAEAAAAAAAAAAQAABAAAAAABAAAUAAAAAAEAAAgAAAAAAQAAAAAAAAABAAAEAAAAAAEAABQA\n",
       "AAAAAQAACAAAAAABAAAAAAAAAAEAAAQAAAAAAQAAFAAAAAABAAAIAAAAAAEAAAAAAAAAAQAABAAA\n",
       "AAABAAAUAAAAAAEAAAgAAAAAAQAAAAAAAAABAAAEAAAAAAEAABQAAAAAAQAACAAAAAABAAAAAAAA\n",
       "AAEAAAQAAAAAAQAACAAAAAAcc3RzYwAAAAAAAAABAAAAAQAAALUAAAABAAAC6HN0c3oAAAAAAAAA\n",
       "AAAAALUAACIcAAACggAAARkAAAEaAAAA7gAAAaUAAADSAAAAxAAAAK4AAADQAAAAsgAAAPcAAABw\n",
       "AAAArAAAALQAAADNAAAA8QAAAHQAAADSAAAAwQAAAfoAAAGtAAABlAAAAZkAAAGmAAABZQAAAcAA\n",
       "AAGyAAAB1wAAAGQAAAJKAAACKQAAAjQAAAHHAAABcQAAAWYAAAHGAAABnwAAAXUAAAEzAAAAeQAA\n",
       "AWUAAAAsAAAAPgAAA04AAAHMAAAAMwAAADQAAAB1AAAAKgAAAB8AAAAZAAAAIgAAACgAAAAdAAAA\n",
       "GQAAABsAAAArAAAAGwAAABsAAAAbAAAAJQAAABsAAAAbAAAAGwAAACUAAAAbAAAAGwAAABsAAAAl\n",
       "AAAAGwAAABsAAAAbAAAAJQAAABsAAAAbAAAAGwAAACUAAAAbAAAAGwAAABsAAAAlAAAAGwAAABsA\n",
       "AAAbAAAAJQAAABsAAAAbAAAAGwAAACUAAAAbAAAAGwAAABsAAAAlAAAAGwAAABsAAAAbAAAAJQAA\n",
       "ABsAAAAbAAAAGwAAACUAAAAbAAAAGwAAABsAAAAlAAAAGwAAABsAAAAbAAAAJQAAABsAAAAbAAAA\n",
       "GwAAACUAAAAbAAAAGwAAABsAAAAlAAAAGwAAABsAAAAbAAAAJQAAABsAAAAbAAAAGwAAACUAAAAb\n",
       "AAAAGwAAABsAAAAlAAAAGwAAABsAAAAbAAAAJQAAABsAAAAbAAAAGwAAACUAAAAbAAAAGwAAABsA\n",
       "AAAlAAAAGwAAABsAAAAbAAAAJQAAABsAAAAbAAAAGwAAACUAAAAbAAAAGwAAABsAAAAlAAAAGwAA\n",
       "ABsAAAAbAAAAJQAAABsAAAAbAAAAGwAAACUAAAAbAAAAGwAAABsAAAAlAAAAGwAAABsAAAAbAAAA\n",
       "JQAAABsAAAAbAAAAHAAAACUAAAAbAAAAGwAAABwAAAAlAAAAGwAAABsAAAAcAAAAFHN0Y28AAAAA\n",
       "AAAAAQAAACwAAABidWR0YQAAAFptZXRhAAAAAAAAACFoZGxyAAAAAAAAAABtZGlyYXBwbAAAAAAA\n",
       "AAAAAAAAAC1pbHN0AAAAJal0b28AAAAdZGF0YQAAAAEAAAAATGF2ZjU2LjQwLjEwMQ==\n",
       "\">\n",
       "  Your browser does not support the video tag.\n",
       "</video>"
      ],
      "text/plain": [
       "<matplotlib.animation.FuncAnimation at 0x19672f70e48>"
      ]
     },
     "execution_count": 22,
     "metadata": {},
     "output_type": "execute_result"
    }
   ],
   "source": [
    "# define initialization function\n",
    "def init():\n",
    "    line_annealing.set_data([xa[0], xa[0]], [-2, 2])\n",
    "\n",
    "# define update function\n",
    "def update(k):\n",
    "    # may want to print k here\n",
    "    line_annealing.set_data([xa[k], xa[k]], [-2, 2])\n",
    "\n",
    "anim = FuncAnimation(fig, update, init_func=init, frames=range(0,len(xa)), interval=100)\n",
    "anim"
   ]
  },
  {
   "cell_type": "code",
   "execution_count": null,
   "metadata": {
    "collapsed": true
   },
   "outputs": [],
   "source": []
  },
  {
   "cell_type": "code",
   "execution_count": null,
   "metadata": {
    "collapsed": true
   },
   "outputs": [],
   "source": []
  }
 ],
 "metadata": {
  "anaconda-cloud": {},
  "celltoolbar": "Slideshow",
  "kernelspec": {
   "display_name": "Python [conda root]",
   "language": "python",
   "name": "conda-root-py"
  },
  "language_info": {
   "codemirror_mode": {
    "name": "ipython",
    "version": 3
   },
   "file_extension": ".py",
   "mimetype": "text/x-python",
   "name": "python",
   "nbconvert_exporter": "python",
   "pygments_lexer": "ipython3",
   "version": "3.5.2"
  }
 },
 "nbformat": 4,
 "nbformat_minor": 0
}
