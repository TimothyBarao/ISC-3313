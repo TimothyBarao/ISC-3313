{
 "cells": [
  {
   "cell_type": "markdown",
   "metadata": {
    "collapsed": true,
    "slideshow": {
     "slide_type": "slide"
    }
   },
   "source": [
    "<p style=\"text-align: center;\"><font size=\"8\"><b>Defining Our Own Classes</b></font><br>\n"
   ]
  },
  {
   "cell_type": "markdown",
   "metadata": {
    "slideshow": {
     "slide_type": "slide"
    }
   },
   "source": [
    "Python is an object oriented programming language. Remember from earlier how we defined objects and classes. An object in a single instance of a class. We have already several examples of classes. Remember backs to lists."
   ]
  },
  {
   "cell_type": "code",
   "execution_count": 3,
   "metadata": {
    "collapsed": false
   },
   "outputs": [
    {
     "data": {
      "text/plain": [
       "list"
      ]
     },
     "execution_count": 3,
     "metadata": {},
     "output_type": "execute_result"
    }
   ],
   "source": [
    "groceries = list()\n",
    "type(groceries)"
   ]
  },
  {
   "cell_type": "markdown",
   "metadata": {},
   "source": [
    "`groceries` is a *object* of type *list*. List is one of the classes built in to Python. A list has *attributes*, for example a length. It also has *methods*, for example `append`, or `pop`."
   ]
  },
  {
   "cell_type": "markdown",
   "metadata": {
    "slideshow": {
     "slide_type": "slide"
    }
   },
   "source": [
    "Today we will look at designing our own classes. Classes can be used for many tasks. All of the algorithms we have already seen, for example Newton's method, or LCG random number generators could be written as part of a class, although we wrote them as standalone functions.\n",
    "\n",
    "This illustrates an important point. Python supports classes, but unlike other object oriented languages (for example Java) does not require them. You are likely proficient enough by now in Python to code up an algorithm without classes. So why do we need classes at all?"
   ]
  },
  {
   "cell_type": "markdown",
   "metadata": {
    "slideshow": {
     "slide_type": "subslide"
    }
   },
   "source": [
    "Classes are a nice way to group together a set of data and functions that operate on that data. This leads to modular code with more manageable (i.e. smaller) units. Even though you do not need functions, they often provide a more elegant solution that is easier to extend late on.\n",
    "\n",
    "In addition, outside the world of mathematical programming, classes can be a very natural way of thinking about problems. Most modern software development is based on classes and objects."
   ]
  },
  {
   "cell_type": "markdown",
   "metadata": {},
   "source": [
    "# A Function Class\n",
    "\n",
    "One of the most frequent uses of classes in scientific computing is to represent mathematical functions that have a set of parameters in addition to one or more independent variables. For example, consider the trajectory $y(t)$ of a ball thrown straight up in the air,\n",
    "$$ y(t) = v_0 t - \\frac{1}{2}gt^2.$$\n",
    "Here $v_0$ is the initial velocity of the ball (from the throw) and $g$ is the acceleration due to gravity. \n",
    "\n",
    "Notice that we have written $y(t)$, i.e. $y$ as a function of time, even though clearly $y$ also depends upon $v_0$ and $g$ as well.  We could equally write $y(t; v_0, g)$."
   ]
  },
  {
   "cell_type": "markdown",
   "metadata": {
    "slideshow": {
     "slide_type": "subslide"
    }
   },
   "source": [
    "To code this up we could write:"
   ]
  },
  {
   "cell_type": "code",
   "execution_count": 6,
   "metadata": {
    "collapsed": true
   },
   "outputs": [],
   "source": [
    "def y(t,v0,g=9.81):\n",
    "    return v0*t - 0.5*g*t**2"
   ]
  },
  {
   "cell_type": "markdown",
   "metadata": {
    "slideshow": {
     "slide_type": "subslide"
    }
   },
   "source": [
    "Why is this a problem? \n",
    "\n",
    "Remember that earlier we wrote a function `left_reimann_sum` that takes in a function as an argument:"
   ]
  },
  {
   "cell_type": "code",
   "execution_count": 7,
   "metadata": {
    "collapsed": true
   },
   "outputs": [],
   "source": [
    "def left_reimann_sum(f, a, b, N):\n",
    "    import numpy as np\n",
    "    x = np.linspace(a,b,N+1)\n",
    "    h = (b - a)/N\n",
    "    \n",
    "    return h*np.sum(f(x))"
   ]
  },
  {
   "cell_type": "markdown",
   "metadata": {
    "slideshow": {
     "slide_type": "subslide"
    }
   },
   "source": [
    "The input `f` is a function of a single variable. If we pass in our function `y` we get an error."
   ]
  },
  {
   "cell_type": "code",
   "execution_count": 8,
   "metadata": {
    "collapsed": false
   },
   "outputs": [
    {
     "ename": "TypeError",
     "evalue": "y() missing 1 required positional argument: 'v0'",
     "output_type": "error",
     "traceback": [
      "\u001b[1;31m---------------------------------------------------------------------------\u001b[0m",
      "\u001b[1;31mTypeError\u001b[0m                                 Traceback (most recent call last)",
      "\u001b[1;32m<ipython-input-8-99537d7842bd>\u001b[0m in \u001b[0;36m<module>\u001b[1;34m()\u001b[0m\n\u001b[1;32m----> 1\u001b[1;33m \u001b[0mleft_reimann_sum\u001b[0m\u001b[1;33m(\u001b[0m\u001b[0my\u001b[0m\u001b[1;33m,\u001b[0m \u001b[1;36m0\u001b[0m\u001b[1;33m,\u001b[0m \u001b[1;36m1\u001b[0m\u001b[1;33m,\u001b[0m \u001b[1;36m100\u001b[0m\u001b[1;33m)\u001b[0m\u001b[1;33m\u001b[0m\u001b[0m\n\u001b[0m",
      "\u001b[1;32m<ipython-input-7-e58fc6849ac3>\u001b[0m in \u001b[0;36mleft_reimann_sum\u001b[1;34m(f, a, b, N)\u001b[0m\n\u001b[0;32m      4\u001b[0m     \u001b[0mh\u001b[0m \u001b[1;33m=\u001b[0m \u001b[1;33m(\u001b[0m\u001b[0mb\u001b[0m \u001b[1;33m-\u001b[0m \u001b[0ma\u001b[0m\u001b[1;33m)\u001b[0m\u001b[1;33m/\u001b[0m\u001b[0mN\u001b[0m\u001b[1;33m\u001b[0m\u001b[0m\n\u001b[0;32m      5\u001b[0m \u001b[1;33m\u001b[0m\u001b[0m\n\u001b[1;32m----> 6\u001b[1;33m     \u001b[1;32mreturn\u001b[0m \u001b[0mh\u001b[0m\u001b[1;33m*\u001b[0m\u001b[0mnp\u001b[0m\u001b[1;33m.\u001b[0m\u001b[0msum\u001b[0m\u001b[1;33m(\u001b[0m\u001b[0mf\u001b[0m\u001b[1;33m(\u001b[0m\u001b[0mx\u001b[0m\u001b[1;33m)\u001b[0m\u001b[1;33m)\u001b[0m\u001b[1;33m\u001b[0m\u001b[0m\n\u001b[0m",
      "\u001b[1;31mTypeError\u001b[0m: y() missing 1 required positional argument: 'v0'"
     ]
    }
   ],
   "source": [
    "left_reimann_sum(y, 0, 1, 100)"
   ]
  },
  {
   "cell_type": "markdown",
   "metadata": {},
   "source": [
    "The function `y` we defined earlier requires at least one additional argument, $v_0$. This means that `y` as written cannot be passed into our `left_reimann_sum` function"
   ]
  },
  {
   "cell_type": "markdown",
   "metadata": {
    "slideshow": {
     "slide_type": "subslide"
    }
   },
   "source": [
    "One possible solution is to rewrite `left_reimann_sum` to allow for functions to take two arguments. If we do this however, `left_reimann_sum` would no longer work with functions of a single variable; and it still wouldn't work with functions that take in more than two variables.\n",
    "\n",
    "A better solution is to write $y(t)$ as a class."
   ]
  },
  {
   "cell_type": "markdown",
   "metadata": {
    "slideshow": {
     "slide_type": "subslide"
    }
   },
   "source": [
    "As mentioned earlier, a class is a set of variables and a set of functions held together as one unit. The variables are visible in all functions in the class. This is also true of modules, however classes are very different from modules. For example you can make make copies of a class, while there can only be one copy of a module. As you become more familiar with classes you will see the differences between them and modules and where it makes sense to use one over the other."
   ]
  },
  {
   "cell_type": "markdown",
   "metadata": {
    "slideshow": {
     "slide_type": "subslide"
    }
   },
   "source": [
    "Consider as before the function \n",
    "$$ y(t) = v_0 t - \\frac{1}{2}gt^2.$$\n",
    "\n",
    "We can say that $v_0$ and $g$ are the data. A function, for example `value(t)` is needed to evaluate $y$ at time $t$. Clearly `value` must also have access to $v_0$ and $g$. "
   ]
  },
  {
   "cell_type": "markdown",
   "metadata": {},
   "source": [
    "Without further ado, here's the class:"
   ]
  },
  {
   "cell_type": "code",
   "execution_count": 50,
   "metadata": {
    "collapsed": true
   },
   "outputs": [],
   "source": [
    "class Y:\n",
    "    def __init__(self, v0, g=9.81):\n",
    "        self.v0 = v0\n",
    "        self.g = g\n",
    "        \n",
    "    def value(self, t):\n",
    "        return self.v0*t - 0.5*self.g*t**2"
   ]
  },
  {
   "cell_type": "markdown",
   "metadata": {
    "slideshow": {
     "slide_type": "subslide"
    }
   },
   "source": [
    "Class always start with the syntax `class name:`, where `name` is the name of the class. \n",
    "\n",
    "Within the body of the class we must define all the methods (a.k.a. member functions) that are supported by the class.\n",
    "\n",
    "In addition to the function value, you'll see that we defined another function called `__init__`. This is known as the constructor. This function initializes the data. Most functions contain a constructor, and it always goes by the name `__init__`. Each time the caller initiates the class, the constructor is called automatically by Python."
   ]
  },
  {
   "cell_type": "markdown",
   "metadata": {
    "slideshow": {
     "slide_type": "subslide"
    }
   },
   "source": [
    "You'll notice that the first parameter to all the memeber functions is the mysterious variable `self`. This is an implicit parameter that serves internally to identify and store the particular instance being constructed. There may be several different objects of type `Y`, each having its state stored in memory. \n",
    "\n",
    "The `self` identifier allow us to access members of this instance using the standard form `object.membername`. For example we set `self.v0 = v0` to set the value of `v0`. Later on in the `value` function we access the value of `v0` by calling `self.v0`.\n",
    "\n",
    "If, in the initializer we had called `v0=v0` for example, we would be establishing `v0` as a local variable within the function body and we would be unable to access it later."
   ]
  },
  {
   "cell_type": "markdown",
   "metadata": {
    "slideshow": {
     "slide_type": "subslide"
    }
   },
   "source": [
    "A little more on the `self` variable:\n",
    "* any class method must have `self` as the first argument\n",
    "* self represents an instance of the class\n",
    "* to access another class method or attribute inside class methods, we must prefix with `self`\n",
    "* `self` is dropped as an argument in calls to class methods\n",
    "\n",
    "This can be confusing at first, but with a little hands on experience it will make sense."
   ]
  },
  {
   "cell_type": "markdown",
   "metadata": {
    "slideshow": {
     "slide_type": "subslide"
    }
   },
   "source": [
    "Let's look at how to use this class."
   ]
  },
  {
   "cell_type": "code",
   "execution_count": 51,
   "metadata": {
    "collapsed": false,
    "slideshow": {
     "slide_type": "-"
    }
   },
   "outputs": [
    {
     "data": {
      "text/plain": [
       "__main__.Y"
      ]
     },
     "execution_count": 51,
     "metadata": {},
     "output_type": "execute_result"
    }
   ],
   "source": [
    "y = Y(3) # create object with v0 = 3\n",
    "type(y)  # display object type"
   ]
  },
  {
   "cell_type": "markdown",
   "metadata": {},
   "source": [
    "We can now input `y.value` as a function to `left_reimann_sum`."
   ]
  },
  {
   "cell_type": "code",
   "execution_count": 52,
   "metadata": {
    "collapsed": false
   },
   "outputs": [
    {
     "data": {
      "text/plain": [
       "-0.14460675000000009"
      ]
     },
     "execution_count": 52,
     "metadata": {},
     "output_type": "execute_result"
    }
   ],
   "source": [
    "left_reimann_sum(y.value, 0, 1, 100)"
   ]
  },
  {
   "cell_type": "markdown",
   "metadata": {
    "slideshow": {
     "slide_type": "subslide"
    }
   },
   "source": [
    "We can create more instances of this class"
   ]
  },
  {
   "cell_type": "code",
   "execution_count": 58,
   "metadata": {
    "collapsed": false
   },
   "outputs": [
    {
     "name": "stdout",
     "output_type": "stream",
     "text": [
      "-0.64960675\n",
      "-2.16460675\n"
     ]
    }
   ],
   "source": [
    "y1 = Y(2)\n",
    "y2 = Y(-1)\n",
    "\n",
    "print(left_reimann_sum(y1.value,0,1,100))\n",
    "print(left_reimann_sum(y2.value,0,1,100))"
   ]
  },
  {
   "cell_type": "markdown",
   "metadata": {
    "slideshow": {
     "slide_type": "subslide"
    }
   },
   "source": [
    "## Doc Strings\n",
    "\n",
    "As with functions, classes can and should have doc strings. For example a doc string for the `Y` class might look like:"
   ]
  },
  {
   "cell_type": "code",
   "execution_count": 59,
   "metadata": {
    "collapsed": true
   },
   "outputs": [],
   "source": [
    "class Y:\n",
    "    \"\"\"\n",
    "    Class representing a function describing the vertical trajectory of a ball\n",
    "    \n",
    "    \"\"\"\n",
    "    def __init__(self, v0, g=9.81):\n",
    "        \"\"\"\n",
    "        Constructor\n",
    "        \n",
    "        Parameters\n",
    "        ----------\n",
    "        v0 : float\n",
    "            initial vertical velocity [m/s]\n",
    "        g  : float, default 9.81\n",
    "            acceleration due to gravity [m/s^2]\n",
    "            \n",
    "        \"\"\"\n",
    "        self.v0 = v0\n",
    "        self.g = g\n",
    "        \n",
    "    def value(self, t):\n",
    "        \"\"\"\n",
    "        Compute the velocity at time t\n",
    "        \n",
    "        Parameters\n",
    "        ----------\n",
    "        t : float\n",
    "            time since intitial throw [s]\n",
    "            \n",
    "        Returns\n",
    "        ------\n",
    "        y : float\n",
    "            vertical distance ball has travelled [m]\n",
    "            \n",
    "        \"\"\"\n",
    "        return self.v0*t - 0.5*self.g*t**2"
   ]
  },
  {
   "cell_type": "markdown",
   "metadata": {
    "slideshow": {
     "slide_type": "subslide"
    }
   },
   "source": [
    "Calling the help function now returns:"
   ]
  },
  {
   "cell_type": "code",
   "execution_count": 60,
   "metadata": {
    "collapsed": false
   },
   "outputs": [
    {
     "name": "stdout",
     "output_type": "stream",
     "text": [
      "Help on class Y in module __main__:\n",
      "\n",
      "class Y(builtins.object)\n",
      " |  Class representing a function describing the vertical trajectory of a ball\n",
      " |  \n",
      " |  Methods defined here:\n",
      " |  \n",
      " |  __init__(self, v0, g=9.81)\n",
      " |      Constructor\n",
      " |      \n",
      " |      Parameters\n",
      " |      ----------\n",
      " |      v0 : float\n",
      " |          initial vertical velocity [m/s]\n",
      " |      g  : float, default 9.81\n",
      " |          acceleration due to gravity [m/s^2]\n",
      " |  \n",
      " |  value(self, t)\n",
      " |      Compute the velocity at time t\n",
      " |      \n",
      " |      Parameters\n",
      " |      ----------\n",
      " |      t : float\n",
      " |          time since intitial throw [s]\n",
      " |          \n",
      " |      Returns\n",
      " |      ------\n",
      " |      y : float\n",
      " |          vertical distance ball has travelled [m]\n",
      " |  \n",
      " |  ----------------------------------------------------------------------\n",
      " |  Data descriptors defined here:\n",
      " |  \n",
      " |  __dict__\n",
      " |      dictionary for instance variables (if defined)\n",
      " |  \n",
      " |  __weakref__\n",
      " |      list of weak references to the object (if defined)\n",
      "\n"
     ]
    }
   ],
   "source": [
    "help(Y)"
   ]
  },
  {
   "cell_type": "code",
   "execution_count": 61,
   "metadata": {
    "collapsed": false
   },
   "outputs": [
    {
     "name": "stdout",
     "output_type": "stream",
     "text": [
      "{'g': 9.81, 'v0': 2}\n"
     ]
    }
   ],
   "source": [
    "print(y1.__dict__)"
   ]
  },
  {
   "cell_type": "code",
   "execution_count": 62,
   "metadata": {
    "collapsed": false
   },
   "outputs": [
    {
     "name": "stdout",
     "output_type": "stream",
     "text": [
      "None\n"
     ]
    }
   ],
   "source": [
    "print(y1.__weakref__)"
   ]
  },
  {
   "cell_type": "markdown",
   "metadata": {
    "slideshow": {
     "slide_type": "slide"
    }
   },
   "source": [
    "# Special Methods\n",
    "\n",
    "Some class methods have names starting and ending with a double underscore. We've already seen the `__init__` function for example. This constructor is called automatically when an instance is created. \n",
    "\n",
    "Other special methods allow us to perform arithmetic operations with other instances, for example \"+\", \"-\", \"\\*\" etc. \n",
    "\n",
    "Other languages may call this operator overloading."
   ]
  },
  {
   "cell_type": "markdown",
   "metadata": {
    "slideshow": {
     "slide_type": "subslide"
    }
   },
   "source": [
    "## Call Method\n",
    "\n",
    "Computing the value of the mathematical function represented by the class `Y` is done by calling the function `y.value(t)` (y being the name of an instance). If we could call `y(t)` instead this would look more like an ordinary function. \n",
    "\n",
    "Such a syntax is possible using the `__call__` special method. \n",
    "\n",
    "This implementation of `Y` would look like:"
   ]
  },
  {
   "cell_type": "code",
   "execution_count": 66,
   "metadata": {
    "collapsed": true
   },
   "outputs": [],
   "source": [
    "class Y:\n",
    "    def __init__(self, v0, g=9.81):\n",
    "        self.v0 = v0\n",
    "        self.g = g\n",
    "        \n",
    "    def __call__(self, t):\n",
    "        return self.v0*t - 0.5*self.g*t**2"
   ]
  },
  {
   "cell_type": "markdown",
   "metadata": {
    "slideshow": {
     "slide_type": "subslide"
    }
   },
   "source": [
    "We can now use `Y` directly in our `left_reimann_sum` function:"
   ]
  },
  {
   "cell_type": "code",
   "execution_count": 68,
   "metadata": {
    "collapsed": false
   },
   "outputs": [
    {
     "data": {
      "text/plain": [
       "-0.64960675000000012"
      ]
     },
     "execution_count": 68,
     "metadata": {},
     "output_type": "execute_result"
    }
   ],
   "source": [
    "y = Y(2)\n",
    "left_reimann_sum(y, 0, 1, 100)"
   ]
  },
  {
   "cell_type": "markdown",
   "metadata": {
    "slideshow": {
     "slide_type": "subslide"
    }
   },
   "source": [
    "Note that we no longer need a `value` function. A good convention is to include a `__call__` method in all classes that represent a mathematical function.\n",
    "\n",
    "Objects that include a `__call__` method are said to be *callable objects*. Plain functions are also called callable. \n",
    "\n",
    "The function `callable(a)` tests  whether `a` behaves as a callable, i.e. if `a` is a function or an object with a `__call__` method."
   ]
  },
  {
   "cell_type": "code",
   "execution_count": 69,
   "metadata": {
    "collapsed": false
   },
   "outputs": [
    {
     "data": {
      "text/plain": [
       "True"
      ]
     },
     "execution_count": 69,
     "metadata": {},
     "output_type": "execute_result"
    }
   ],
   "source": [
    "callable(y)"
   ]
  },
  {
   "cell_type": "markdown",
   "metadata": {
    "slideshow": {
     "slide_type": "subslide"
    }
   },
   "source": [
    "## Adding Objects\n",
    "\n",
    "Let `a` and `b` be instances of some class `C`. Can we write `a + b`? Yes, if class `C` has a special method, `__add__`. \n",
    "\n",
    "    class C:\n",
    "    ....\n",
    "        __add__(self, other):\n",
    "        .....\n",
    "        \n",
    "The `__add__` method should add the instances `self` and `other` (whatever that means for the class `C`) and return the result as an instance. \n",
    "\n",
    "When Python encounters `a+b` it will check if class `C` contains an `__add__` method and if it does interpret `a + b` as `a.__add__(b)`."
   ]
  },
  {
   "cell_type": "markdown",
   "metadata": {
    "slideshow": {
     "slide_type": "slide"
    }
   },
   "source": [
    "## A Polynomial Class\n",
    "\n",
    "Let's create a class that represents a polynomial. A polynomial is a function $p(x)$ of the form:\n",
    "$$ p(x) = a_0 + a_1 x + a_2 x^2 + ... + a_n x^n.$$\n",
    "\n",
    "We'll add a `__call__` function and an `__add__` function. \n",
    "\n",
    "Our polynomial class will take a list of coefficients $a_i$, $0\\leq  i \\leq n$. "
   ]
  },
  {
   "cell_type": "code",
   "execution_count": 75,
   "metadata": {
    "collapsed": true,
    "slideshow": {
     "slide_type": "subslide"
    }
   },
   "outputs": [],
   "source": [
    "class Polynomial:\n",
    "    def __init__(self, coefficients):\n",
    "        self.coeff = coefficients\n",
    "        \n",
    "    def __call__(self, x):\n",
    "        s = 0\n",
    "        for i in range(len(self.coeff)):\n",
    "            s += self.coeff[i]*x**i\n",
    "            \n",
    "        return s\n",
    "    \n",
    "    def __add__(self, other):\n",
    "        # start with the longer list of coefficents and add the other list\n",
    "        if len(self.coeff) > len(other.coeff):\n",
    "            sum_coeff = self.coeff\n",
    "            for i in range(len(other.coeff)):\n",
    "                sum_coeff[i] += other.coeff[i]\n",
    "                \n",
    "        else:\n",
    "            sum_coeff = other.coeff\n",
    "            for i in range(len(self.coeff)):\n",
    "                sum_coeff[i] += self.coeff[i]\n",
    "                \n",
    "        return Polynomial(sum_coeff)"
   ]
  },
  {
   "cell_type": "code",
   "execution_count": 76,
   "metadata": {
    "collapsed": false,
    "slideshow": {
     "slide_type": "subslide"
    }
   },
   "outputs": [
    {
     "data": {
      "text/plain": [
       "-6322.246720000001"
      ]
     },
     "execution_count": 76,
     "metadata": {},
     "output_type": "execute_result"
    }
   ],
   "source": [
    "p1 = Polynomial([1, 2, 5])\n",
    "p2 = Polynomial([2, 2.4, 9, 0, -9.2])\n",
    "\n",
    "p3 = p1 + p2\n",
    "p3(5.2)"
   ]
  },
  {
   "cell_type": "markdown",
   "metadata": {},
   "source": [
    "## Turning an Instance Into a String\n",
    "\n",
    "The `__str__` method converts an object to a string. We've seen this already for integers:"
   ]
  },
  {
   "cell_type": "code",
   "execution_count": 80,
   "metadata": {
    "collapsed": false
   },
   "outputs": [
    {
     "name": "stdout",
     "output_type": "stream",
     "text": [
      "b has value 1 and type <class 'str'>\n"
     ]
    }
   ],
   "source": [
    "a = 1\n",
    "b = str(a)\n",
    "print(\"b has value\",b,\"and type\",type(b))"
   ]
  },
  {
   "cell_type": "markdown",
   "metadata": {
    "slideshow": {
     "slide_type": "subslide"
    }
   },
   "source": [
    "Let's implement the `__str__` method for our Polynomial class. What do we want this method to do? \n",
    "\n",
    "For example, let's say we have a Polynomial object representing:\n",
    "$$ p(x) = 2x^2 + 5x + 1.$$\n",
    "\n",
    "Then we'd like the `__str__` method to return:\n",
    "\n",
    "     2*x^2 + 5*x + 1"
   ]
  },
  {
   "cell_type": "code",
   "execution_count": 84,
   "metadata": {
    "collapsed": false,
    "slideshow": {
     "slide_type": "subslide"
    }
   },
   "outputs": [],
   "source": [
    "class Polynomial:\n",
    "    def __init__(self, coefficients):\n",
    "        self.coeff = coefficients\n",
    "        \n",
    "    def __call__(self, x):\n",
    "        s = 0\n",
    "        for i in range(len(self.coeff)):\n",
    "            s += self.coeff[i]*x**i\n",
    "            \n",
    "        return s\n",
    "    \n",
    "    def __str__(self):\n",
    "        s = \"\"\n",
    "        for i in range(len(self.coeff)):\n",
    "            s += \" + %g*x^%d\" % (self.coeff[i], i)\n",
    "        return s\n",
    "    \n",
    "    def __add__(self, other):\n",
    "        # start with the longer list of coefficents and add the other list\n",
    "        if len(self.coeff) > len(other.coeff):\n",
    "            sum_coeff = self.coeff\n",
    "            for i in range(len(other.coeff)):\n",
    "                sum_coeff[i] += other.coeff[i]\n",
    "                \n",
    "        else:\n",
    "            sum_coeff = other.coeff\n",
    "            for i in range(len(self.coeff)):\n",
    "                sum_coeff[i] += self.coeff[i]\n",
    "                \n",
    "        return Polynomial(sum_coeff)"
   ]
  },
  {
   "cell_type": "code",
   "execution_count": 86,
   "metadata": {
    "collapsed": false,
    "slideshow": {
     "slide_type": "subslide"
    }
   },
   "outputs": [
    {
     "name": "stdout",
     "output_type": "stream",
     "text": [
      " + 1*x^0 + 5*x^1 + 2*x^2\n"
     ]
    }
   ],
   "source": [
    "p = Polynomial([1,5,2])\n",
    "print(str(p))"
   ]
  },
  {
   "cell_type": "markdown",
   "metadata": {
    "slideshow": {
     "slide_type": "subslide"
    }
   },
   "source": [
    "## Other Special Methods\n",
    "\n",
    "Given two objects `a` and `b` the standard arithmetic operators are defined by the following special methods:\n",
    "* `a + b` : `a.__add__(b)`\n",
    "* `a - b` : `a.__sub__(b)`\n",
    "* `a * b` : `a.__mul__(b)`\n",
    "* `a / b` : `a.__div__(b)`\n",
    "* `a ** b` : `a.__pow__(b)`"
   ]
  },
  {
   "cell_type": "markdown",
   "metadata": {
    "slideshow": {
     "slide_type": "subslide"
    }
   },
   "source": [
    "In addition, there are other non arithmetic special methods:\n",
    "* `len(a)` : `a.__len__()`\n",
    "* `abs(a)` : `a.__abs__()`\n",
    "* `a == b` : `a.__eq__(b)`\n",
    "* `a > b` : `a.__gt__(b)`\n",
    "* `a >= b` : `a.__ge__(b)`\n",
    "* `a < b` : `a.__lt__(b)`\n",
    "* `a <= b` : `a.__le__(b)`\n",
    "* `a != b` : `a.__ne__(b)`\n",
    "* `-a`     : `a.__neg__()`\n",
    "\n",
    "There is also a boolean method `__bool__()` which returns true or false and allows us to call `if a` for example."
   ]
  },
  {
   "cell_type": "code",
   "execution_count": null,
   "metadata": {
    "collapsed": true
   },
   "outputs": [],
   "source": []
  }
 ],
 "metadata": {
  "anaconda-cloud": {},
  "celltoolbar": "Slideshow",
  "kernelspec": {
   "display_name": "Python [Root]",
   "language": "python",
   "name": "Python [Root]"
  },
  "language_info": {
   "codemirror_mode": {
    "name": "ipython",
    "version": 3
   },
   "file_extension": ".py",
   "mimetype": "text/x-python",
   "name": "python",
   "nbconvert_exporter": "python",
   "pygments_lexer": "ipython3",
   "version": "3.5.2"
  }
 },
 "nbformat": 4,
 "nbformat_minor": 0
}
