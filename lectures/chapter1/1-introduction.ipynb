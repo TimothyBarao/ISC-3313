{
 "cells": [
  {
   "cell_type": "markdown",
   "metadata": {
    "slideshow": {
     "slide_type": "slide"
    }
   },
   "source": [
    "<p style=\"text-align: center;\"><font size=\"8\"><b>ISC 3313</b></font><br>\n",
    "\n",
    "<font size=\"4\"><b>Introduction to Scientific Computing</b></font></p>\n",
    "\n",
    "\n",
    "\n"
   ]
  },
  {
   "cell_type": "markdown",
   "metadata": {
    "slideshow": {
     "slide_type": "slide"
    }
   },
   "source": [
    "# Instructor Information\n",
    "\n",
    "\n",
    "**Instructor**: Lukas Bystricky  \n",
    "**email**: lb13f@my.fsu.edu  \n",
    "**office**: Dirac Science Library 451D  \n",
    "**website**: https://people.sc.fsu.edu/~lb13f"
   ]
  },
  {
   "cell_type": "markdown",
   "metadata": {
    "slideshow": {
     "slide_type": "slide"
    }
   },
   "source": [
    "# Course Description\n",
    "\n",
    "**Official description**: This course (3 credit hours) introduces the student to the science\n",
    "of computations. Topics cover algorithms for standard problems in computational science,\n",
    "as well as the basics of an object-oriented programming language, to facilitate the students'\n",
    "implementation of algorithms. The programming language depends on the semester. This\n",
    "semester the language will be Python 3.\n",
    "\n",
    "**My description**: This course is an introduction to programming with an emphasis on scientific applications. We'll be learning Python, which is very popular and well suited to solving diverse scientific problems. \n",
    "\n",
    "**Prerequisite**: MAC 2311. You're expected to be familiar with basic differential and integral calculus (you should at least know what derivatives and integrals are). "
   ]
  },
  {
   "cell_type": "markdown",
   "metadata": {
    "slideshow": {
     "slide_type": "slide"
    }
   },
   "source": [
    "# Text Books\n",
    "\n",
    "[Object-Oriented Programming in Python](http://cs.slu.edu/~goldwamh/oopp) by M. Goldwasser and D. Letscher  \n",
    "[A Primer on Scientific Programming with Python](http://www.dsf.unica.it/~fiore/psc.pdf) by H. Langtangen\n",
    "\n",
    "Both books are availiable for free online by following the links above. In general we will cover the topics in the first 9 chapters of Goldwasser (Chapter 3 will be covered very differently and the overall focus will be more on scientific applications). The material in Langtangen focuses more on applications and algorithms but is also meant to be an introductory text. "
   ]
  },
  {
   "cell_type": "markdown",
   "metadata": {
    "slideshow": {
     "slide_type": "slide"
    }
   },
   "source": [
    "# Grading\n",
    "\n",
    "The following grade structure will be used:\n",
    "\n",
    "- Assignments: 50%\n",
    "- Capstone final project: 40%\n",
    "- Participation: 10%"
   ]
  },
  {
   "cell_type": "markdown",
   "metadata": {
    "slideshow": {
     "slide_type": "slide"
    }
   },
   "source": [
    "# Assignments\n",
    "\n",
    "Almost every week you will be given a short programming assignment. These assignments will be given out as *Jupyter Notebooks*. As we'll see these notebooks will give you specific instructions. \n",
    "\n",
    "Each assignment will be due one week after it is handed out. Once you have completed the assignment please e-mail it to me.\n",
    "\n"
   ]
  },
  {
   "cell_type": "markdown",
   "metadata": {
    "slideshow": {
     "slide_type": "subslide"
    }
   },
   "source": [
    "## Late Policy\n",
    "\n",
    "You may turn in one assignment up to one week late, no questions asked. After that all late assignments will be deducted ten percent per day. \n",
    "\n",
    "Assignments that are more than one week late will not be accepted."
   ]
  },
  {
   "cell_type": "markdown",
   "metadata": {
    "slideshow": {
     "slide_type": "slide"
    }
   },
   "source": [
    "# Final Project\n",
    "\n",
    "The final project has 3 components:\n",
    "\n",
    "1. Short description what you want to do. You may already have an idea for a possible project, if not I have some ideas for acceptable projects In any case, e-mail me on or before June 19th with a 200 word outline for your project. Feel free to ask me for ideas or suggestions.\n",
    "2. Outline your project, develop pseudo code, gather the data (if you need data), generate the computer code, test your code, run it on the problem you want to solve, write a report that follows the standard scientific guideline of presenting your work (introduction, methods, results, discussion, references). Again ask me for help if you need it.\n",
    "3. Present your work during the last class. This doesn't have to be a long presentation; no longer than 5 minutes.\n",
    "\n",
    "Email me your report and all necessary code/data on or before August 3rd. "
   ]
  },
  {
   "cell_type": "markdown",
   "metadata": {
    "slideshow": {
     "slide_type": "slide"
    }
   },
   "source": [
    "# Scientific Computing\n",
    "\n",
    "## What is Scientific Computing?\n",
    "\n",
    "* Using computers to solve scientific problems\n",
    "* How does this relate to Computer Science?\n",
    "    + Computer Science creates tools, Scientific Computing uses them\n",
    "    + NASA $\\Rightarrow$ Scientific Computing, Microsoft $\\Rightarrow$ Computer Science\n"
   ]
  },
  {
   "cell_type": "markdown",
   "metadata": {
    "slideshow": {
     "slide_type": "subslide"
    }
   },
   "source": [
    "\n",
    "## What kind of problems can we solve?\n",
    "\n",
    "Any problem related to science or engineering that is too difficult to do by hand.  \n",
    "\n",
    "For example:\n",
    "* Genomic analysis - How closely are 2 species related?\n",
    "* Astrophysics - What causes a supernova?\n",
    "* Anthropology - Can we estimate the age of someone's death by looking at their bones?\n",
    "* City Planning - Can we design a city that takes advantage of natural ventilation?\n",
    "* Electromagnetics - How can we manufacture better superconductors?\n",
    "\n",
    "Believe it or not, these diverse problems share many common threads. This course will explore several important algorithms in scientific computing which are used in some or all of the above problems.\n",
    "\n",
    "\n"
   ]
  },
  {
   "cell_type": "markdown",
   "metadata": {
    "slideshow": {
     "slide_type": "subslide"
    }
   },
   "source": [
    "In particular in this class we will be interested in the following applications:\n",
    "\n",
    "| application    | example                   |\n",
    "|----------------| --------------------------|\n",
    "|differentiation | $\\frac{\\text{d}}{dx}f(x)$     |\n",
    "|integration     | $\\int_a^b f(x)\\text{d}x$      |\n",
    "|solving an ordinary differential equation     | $y'(t) = f(y,t)$      |\n",
    "|solving a nonlinear equation | find $x$ such that $f(x) = g(x)$|\n",
    "|optimization | find $x$ that minimizes $f(x)$|\n",
    "|visualizing data| plotting |\n",
    "\n",
    "Most of all we will be interested in learning how to program an algorithm. That is, given a set of instructions, how to turn the instructions into code."
   ]
  },
  {
   "cell_type": "markdown",
   "metadata": {
    "slideshow": {
     "slide_type": "slide"
    }
   },
   "source": [
    "# Python\n",
    "\n",
    "* High level computer language - in general easier to learn\n",
    "* Object oriented \n",
    "* Great for scientific computing\n",
    "* Popular in both industry and academia\n",
    "* Free"
   ]
  },
  {
   "cell_type": "markdown",
   "metadata": {
    "slideshow": {
     "slide_type": "subslide"
    }
   },
   "source": [
    "## Python 2 or Python 3?\n",
    "\n",
    "Python 2.0 was released in 2000, while Python 3.0 was released in 2008. The differences can be signifigant. Code written in Python 2 may not run as expected in Python 3 and vice versa. \n",
    "\n",
    "Ultimately the choice is yours as to what version you install. The lab machines have Python 2.7 and the text books both use Python 2. However Python 3 is more modern and provides several improvements in speed and ease of use over Python 2. I will be using Python 3.6.\n",
    "\n",
    "Whichever version you choose, Python is Python and the differences are slight enough that only minor modifications to either my code or the text will be necessary. I will point out when difficulties may arise. Frustrating as it may seem, it's probably just as well to be exposed to these problems now, as it is something that will certainly come up if you continue to use Python after this course."
   ]
  },
  {
   "cell_type": "markdown",
   "metadata": {
    "slideshow": {
     "slide_type": "subslide"
    }
   },
   "source": [
    "## Lab Machines\n",
    "\n",
    "You are free to use the lab machines during regular office hours (Monday - Friday from 9am to 5pm). During other hours the outside doors will be locked. \n",
    "\n",
    "If you wish to use these machines you will need an account. In fact you may already have one. Try logging in with your FSU ID and password. If that doesn't work let me know and we will set up an account for you."
   ]
  },
  {
   "cell_type": "markdown",
   "metadata": {
    "slideshow": {
     "slide_type": "subslide"
    }
   },
   "source": [
    "## Installation\n",
    "\n",
    "If you want to use your own machine but don't already have Python installed, I reccomend installing the Python 3.6 version of [Anaconda](https://www.continuum.io/downloads), which is freely availiable for Windows, Mac and Linux.  \n",
    "\n",
    "This installs not only Python, but various useful modules, such as NumPy, SciPy and Matlplotlib. It also installs Jupyter, which is how you will be completing your assignments, and Spyder, an integrated development environment (IDE). Anaconda sets all the appropriate path variables for you, which can be challenging to do manually."
   ]
  },
  {
   "cell_type": "markdown",
   "metadata": {
    "slideshow": {
     "slide_type": "subslide"
    }
   },
   "source": [
    "## Check Your Installation \n",
    "\n",
    "\n",
    "We need to check and make sure that Python is installed properly.\n",
    "\n",
    "If you are using a Linux or Mac open a terminal and type \n",
    "\n",
    "    which python \n",
    "    \n",
    "(followed by enter, commands do not execute until you press enter). You should see something like this:\n",
    "\n",
    "![which](https://github.com/lukasbystricky/ISC-3313/blob/master/lectures/chapter1/images/which.png?raw=true)\n",
    "\n",
    "If you are using Windows, open command prompt and type\n",
    "\n",
    "    where python\n",
    "    \n",
    "This should print something similar to the terminal output above.\n"
   ]
  },
  {
   "cell_type": "markdown",
   "metadata": {
    "slideshow": {
     "slide_type": "slide"
    }
   },
   "source": [
    "# Interactive Python Session\n",
    "\n",
    "If Python is installed, you can actually start an interactive session from the terminal right away. Type `python` (again followed by enter). This should bring up the interactive session that looks like this:\n",
    "![interactive](https://github.com/lukasbystricky/ISC-3313/blob/master/lectures/chapter1/images/python_interactive.png?raw=true)\n",
    "\n",
    "You are now running Python! You can now type in Python commands and see what they do. For example try typing `a = 1` (enter) `b = 2` (enter) `a + b` (enter).  \n",
    "\n",
    "What did `a + b` do? Does that make sense? (It should.) You can type `exit()` to quit the interactive session and go back to the terminal. Congratulations on becomming a Python programmer!  "
   ]
  },
  {
   "cell_type": "markdown",
   "metadata": {
    "slideshow": {
     "slide_type": "slide"
    }
   },
   "source": [
    "# Terminal Commands\n",
    "\n",
    "Now we have to return to more terminal/command prompt commands. Files are stored inside folders (or directories), and we have to be able to navigate these folders. In general you only have access to the files inside your current folder (we'll ignore the PATH variable for now). \n",
    "\n",
    "The terminal/command prompt has lots of commands. For this class it suffices to familarize yourself with the following list:\n",
    "\n",
    "|Command     |Linux/Mac | Windows|\n",
    "|------------|----------|--------|\n",
    "|Display current directory| `pwd` | `cd`|\n",
    "|Change directory| `cd path`| `cd path`|\n",
    "|List contents of directory| `ls`| `dir`|\n",
    "|Copy a file/directory| `cp`| `copy`|\n",
    "|Move a file/directory| `mv` | `move`|\n",
    "|Rename a file/directory| `mv`| `ren`|\n",
    "|Delete a file/directory| `rm` | `del`|"
   ]
  },
  {
   "cell_type": "markdown",
   "metadata": {
    "slideshow": {
     "slide_type": "subslide"
    }
   },
   "source": [
    "\n",
    "To see how a few of these commands work, lets make a directory for this class and run a simple Python script. I'll be using terminal (Linux) commands, but the same idea applies to command prompt.\n",
    "\n",
    "First, open up a terminal and navigate to your home directory. You can do this by typing `cd ~`. The character `~` is shorthand for \"home directory\" in Linux (in Windows this is acheived with `cd %HOMEPATH%`).\n",
    "\n",
    "Now type `pwd` to check your current directory. You should see something like:\n",
    "![pwd](https://github.com/lukasbystricky/ISC-3313/blob/master/lectures/chapter1/images/pwd.png?raw=true)\n",
    "\n"
   ]
  },
  {
   "cell_type": "markdown",
   "metadata": {
    "slideshow": {
     "slide_type": "subslide"
    }
   },
   "source": [
    "## Running Python From a Source File\n",
    "\n",
    "\n",
    "To create a directory for this course type:\n",
    "\n",
    "    mkdir ISC-3313\n",
    "\n",
    "This creates a directory called \"ISC-3313\". Navigate to that directory by calling `cd ISC-3313`.  \n",
    "\n",
    "Now create a directory inside ISC-3313 called \"examples\". Navigate to that directory."
   ]
  },
  {
   "cell_type": "markdown",
   "metadata": {
    "slideshow": {
     "slide_type": "subslide"
    }
   },
   "source": [
    "Download [this python script](scripts/first_script.py) and save it to the newly created examples directory. In your terminal type `ls`. You should see something like:\n",
    "\n",
    "![ls](https://github.com/lukasbystricky/ISC-3313/blob/master/lectures/chapter1/images/ls.png?raw=true)\n",
    "\n",
    "You can run the Python script by typing\n",
    "\n",
    "    python first_script.py\n",
    "    \n",
    "You should see some text come up on the terminal screen. This is an alternative way to run Python code. The text file you downloaded is called a *script* or *source file*. When we ask Python to run a script, Python executes all the commands in the script in order. You can open the script in any text editor, i.e. Wordpad, Kedit etc. Have a look at the script and try and figure out what's going on. We'll cover the syntax in due course."
   ]
  },
  {
   "cell_type": "markdown",
   "metadata": {
    "slideshow": {
     "slide_type": "slide"
    }
   },
   "source": [
    "## Jupyter/IPython Notebooks\n",
    "\n",
    "For your assignments you will be using Jupyter notebooks  (in Python 3, in Python 2 these are called IPython notebooks - they're essentially the same thing). If you've installed Annaconda yourself, to start a Jupyter/IPython notebook either find a shorcut on your desktop or start menu, or type \n",
    "\n",
    "    jupyter notebook\n",
    "\n",
    "or \n",
    "\n",
    "    ipython notebook\n",
    "    \n",
    "in command prompt or console. \n",
    "\n",
    "On the lab machines you will have to run\n",
    "\n",
    "    scl enable python27 bash\n",
    "    ipython notebook\n",
    "\n"
   ]
  },
  {
   "cell_type": "markdown",
   "metadata": {
    "slideshow": {
     "slide_type": "subslide"
    }
   },
   "source": [
    "Whatever you do, after a few seconds a tab in your web browser should open up automatically to the main page of the notebook server. \n",
    "\n",
    "You should see a simple file browser that shows the contents of the directory from which you launched the terminal from. Click on the `New Notebook` and then select Python (2 or 3) at the bottom to create your first notebook. \n",
    "\n",
    "![jupyter file manager](https://github.com/numerical-mooc/numerical-mooc/blob/master/lessons/00_getting_started/images/newnotebook.gif?raw=true)\n",
    "\n",
    "(image from Gil Forsyth)"
   ]
  },
  {
   "cell_type": "markdown",
   "metadata": {
    "collapsed": true,
    "slideshow": {
     "slide_type": "subslide"
    }
   },
   "source": [
    "### Executing a Code Cell\n",
    "\n",
    "Below the toolbars you should see a single code cell, begining with `In []:`. This cell can contain a Python code segment. In that lone cell type\n",
    "\n",
    "    x = 5\n",
    "and then hit *Shift+Enter* (at the same time). If you just hit enter you'll find it simply adds another line to the current cell. **Shift+Enter** executes the current cell."
   ]
  },
  {
   "cell_type": "markdown",
   "metadata": {
    "slideshow": {
     "slide_type": "subslide"
    }
   },
   "source": [
    "So what did we just do? \n",
    "\n",
    "We've assigned the label `x` to the number 5. (Similar to what we did earlier in the interactive session). You'll also notice that the label of the cell will now read `In[1]:` becaus it's the first statement we've executed in this Python kernel. Lastly, you should also notice that a new cell has been created, since we already used the only existing cell. "
   ]
  },
  {
   "cell_type": "markdown",
   "metadata": {
    "slideshow": {
     "slide_type": "subslide"
    }
   },
   "source": [
    "In this new cell type\n",
    "\n",
    "    print(x)\n",
    "and then hit Shift+Enter. What happens?\n",
    "\n",
    "The cell gets labeled `In[2]:`, and the output of that command is printed immediately below the cell.\n",
    "\n",
    "The whole procedure should look something like this:\n",
    "\n",
    "![jupyter commands](https://github.com/numerical-mooc/numerical-mooc/blob/master/lessons/00_getting_started/images/runandprint.gif?raw=true)"
   ]
  },
  {
   "cell_type": "markdown",
   "metadata": {
    "slideshow": {
     "slide_type": "subslide"
    }
   },
   "source": [
    "### Kernel\n",
    "\n",
    "I used the word *kernel* earlier. Don't worry too much about what this is; you can think of it as a seperate Python session. We can assign a variable in one cell and then access it in a seperate cell. The cells are a nice way to divide our code up visually, but everything is connected underneath. \n",
    "\n",
    "Since each cell is interacting with the same Python instance, if we give `x` a new value and then enter `print(x)` we'll get that new value. Make sense. However, what happens if we then delete the cell where we gave `x` the new value?\n",
    "\n",
    "![deleting cells](https://github.com/numerical-mooc/numerical-mooc/blob/master/lessons/00_getting_started/images/overwrite.gif?raw=true)"
   ]
  },
  {
   "cell_type": "markdown",
   "metadata": {
    "slideshow": {
     "slide_type": "subslide"
    }
   },
   "source": [
    "Even though we deleted the cell where we assigned `x=7`, the assignment is still valid. This assignment will remain valid until we explicity set `x` to a new value, or until we completely restart the kernel."
   ]
  },
  {
   "cell_type": "markdown",
   "metadata": {
    "slideshow": {
     "slide_type": "subslide"
    }
   },
   "source": [
    "### Markdown\n",
    "\n",
    "*Markdown* is a writing format that makes it easy to type formatted text. Cells in Jupyter can be used for code or to write text in markdown. This lets us write notes that explain what we are doing. These notes can be for ourselves, or to document the work, or to share with others. \n",
    "\n",
    "To create a markdown cell, click on an empty cell and then click on the dropbown box at the top of the page (by default in says \"Code\") and select \"Markdown\"."
   ]
  },
  {
   "cell_type": "markdown",
   "metadata": {
    "slideshow": {
     "slide_type": "subslide"
    }
   },
   "source": [
    "As with code cells to execute a markdown cell you have to hit Shift+Enter.\n",
    "\n",
    "![markdown cells](https://github.com/numerical-mooc/numerical-mooc/blob/master/lessons/00_getting_started/images/rendermarkdown.gif?raw=true)"
   ]
  },
  {
   "cell_type": "markdown",
   "metadata": {
    "slideshow": {
     "slide_type": "subslide"
    }
   },
   "source": [
    "There are several typeseting options in markdown. For italic text, wrap the text in \\* :`*this will be italic*`. \n",
    "\n",
    "For bold wrap the text in \\*\\*: `** this will be bold **`. \n",
    "\n",
    "There are also ways to create lists, or headers, embed images, or even type math formulas using Latex. For a full tutorial on markdown, check out [this link](http://www.markdowntutorial.com/). \n",
    "\n",
    "In this class I will only expect you to use markdown as a text feature. In other words, you don't have to format your text, however it will certainly help organize your notebook if you are able to use markdown properly."
   ]
  }
 ],
 "metadata": {
  "anaconda-cloud": {},
  "celltoolbar": "Slideshow",
  "kernelspec": {
   "display_name": "Python [Root]",
   "language": "python",
   "name": "Python [Root]"
  },
  "language_info": {
   "codemirror_mode": {
    "name": "ipython",
    "version": 3
   },
   "file_extension": ".py",
   "mimetype": "text/x-python",
   "name": "python",
   "nbconvert_exporter": "python",
   "pygments_lexer": "ipython3",
   "version": "3.5.2"
  }
 },
 "nbformat": 4,
 "nbformat_minor": 0
}
