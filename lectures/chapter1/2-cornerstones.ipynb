{
 "cells": [
  {
   "cell_type": "markdown",
   "metadata": {
    "slideshow": {
     "slide_type": "slide"
    }
   },
   "source": [
    "<p style=\"text-align: center;\"><font size=\"8\"><b>Cornerstones of Computing</b></font><br>\n",
    "\n",
    "\n",
    "\n",
    "\n"
   ]
  },
  {
   "cell_type": "markdown",
   "metadata": {
    "slideshow": {
     "slide_type": "slide"
    }
   },
   "source": [
    "# Data and Types\n",
    "\n",
    "![binary numbers](images/binary.jpg)\n",
    "* On computers all information is represented as a collection of binary digits (0 or 1) known as bits\n",
    "* For example a collection of 8 bits (known as byte) can represent $2^8 = 256$ different values\n",
    "* A four minute song can be represented with approximately 340 million bits\n",
    "* Most of the data being used by a computer processor is stored in RAM, modern laptops have around 4-8 GB (32 - 64 billion bits) of RAM"
   ]
  },
  {
   "cell_type": "markdown",
   "metadata": {
    "slideshow": {
     "slide_type": "subslide"
    }
   },
   "source": [
    "Instead of dealing with bits and bytes directly, we create *abstractions* of our data. For example maybe the data is an integer, or maybe it is a decimal (floating point) number, or maybe it is a word. \n",
    "\n",
    "In Python we can find out what type a variable is by using the `type` command. For example:"
   ]
  },
  {
   "cell_type": "code",
   "execution_count": null,
   "metadata": {
    "collapsed": false
   },
   "outputs": [],
   "source": [
    "a = 1\n",
    "type(a)"
   ]
  },
  {
   "cell_type": "code",
   "execution_count": null,
   "metadata": {
    "collapsed": false
   },
   "outputs": [],
   "source": [
    "b = 2.0\n",
    "type(b)"
   ]
  },
  {
   "cell_type": "code",
   "execution_count": null,
   "metadata": {
    "collapsed": false
   },
   "outputs": [],
   "source": [
    "c = \"Hello\"\n",
    "type(c)"
   ]
  },
  {
   "cell_type": "markdown",
   "metadata": {},
   "source": [
    "The types `int`, `float` and `str` are examples of *primative* or built-in data types. As we'll see later on, we can define more complicated data types ourselves. For example we may want to create a data type to represent an entire satellite."
   ]
  },
  {
   "cell_type": "markdown",
   "metadata": {
    "slideshow": {
     "slide_type": "slide"
    }
   },
   "source": [
    "# Operations, Functions, Algorithms\n",
    "\n",
    "Data processing is done by the *central processing unit* (CPU). CPUs support a very limited set of intructions such as loading data, writing data, basic arithmetic and checking if a value is greater than, less than or equal to 0. With the right combination of these basic instructions however, we can solve a plethora of interesting scientific problems. \n",
    "\n",
    "If we deal directly with the CPU instructions set it might take millions of instructions to solve an interesting problem. So instead of doing that we also abstract these \"small\" operations into more managable \"big\" operations. "
   ]
  },
  {
   "cell_type": "code",
   "execution_count": 1,
   "metadata": {
    "collapsed": false,
    "slideshow": {
     "slide_type": "subslide"
    }
   },
   "outputs": [
    {
     "data": {
      "image/jpeg": "[encoded data removed]",
      "text/html": [
       "\n",
       "        <iframe\n",
       "            width=\"400\"\n",
       "            height=\"300\"\n",
       "            src=\"https://www.youtube.com/embed/XxmP8IcoKtE\"\n",
       "            frameborder=\"0\"\n",
       "            allowfullscreen\n",
       "        ></iframe>\n",
       "        "
      ],
      "text/plain": [
       "<IPython.lib.display.YouTubeVideo at 0x276262fb128>"
      ]
     },
     "execution_count": 1,
     "metadata": {},
     "output_type": "execute_result"
    }
   ],
   "source": [
    "from IPython.display import YouTubeVideo\n",
    "YouTubeVideo('XxmP8IcoKtE')"
   ]
  },
  {
   "cell_type": "markdown",
   "metadata": {
    "slideshow": {
     "slide_type": "-"
    }
   },
   "source": [
    "This is an example of a function. The machine takes in a top piece, a bottom piece and a cream part and returns an oreo cookie. \n",
    "\n",
    "Of course, the function we use might be more useful..."
   ]
  },
  {
   "cell_type": "markdown",
   "metadata": {
    "slideshow": {
     "slide_type": "subslide"
    }
   },
   "source": [
    "# Control Structures and Functions\n",
    "\n",
    "As with data types, several common tasks, such as incrementing a counter, printing a word/number or sorting a list of values are built in to Python. \n",
    "\n",
    "There are also built-in *control structures* that determine when other instructions are executed or repeated. For example the output of the following code depends on the value of `a`."
   ]
  },
  {
   "cell_type": "code",
   "execution_count": null,
   "metadata": {
    "collapsed": false
   },
   "outputs": [],
   "source": [
    "a = 2\n",
    "if a > 1:\n",
    "    print(\"a is bigger than 1\")\n",
    "else:\n",
    "    print(\"a is less than or equal to 1\")"
   ]
  },
  {
   "cell_type": "markdown",
   "metadata": {
    "slideshow": {
     "slide_type": "subslide"
    }
   },
   "source": [
    "The following code will keep decreasing the value of `a` by 1 and printing its value until `a` gets below 0:"
   ]
  },
  {
   "cell_type": "code",
   "execution_count": null,
   "metadata": {
    "collapsed": false
   },
   "outputs": [],
   "source": [
    "a = 2.5\n",
    "while a > 0:\n",
    "    print(a)\n",
    "    a = a - 1"
   ]
  },
  {
   "cell_type": "markdown",
   "metadata": {
    "slideshow": {
     "slide_type": "subslide"
    }
   },
   "source": [
    "Just as we can define our own data types, we can define our own operations beyond the built-in ones. For example we may want an operation that coverts a sequence of DNA into a sequence of RNA. Operations like these are called *functions*.\n",
    "\n",
    "Once a function has been defined the user can use it exactly as if it were a built-in function."
   ]
  },
  {
   "cell_type": "markdown",
   "metadata": {
    "slideshow": {
     "slide_type": "slide"
    }
   },
   "source": [
    "# Algorithms\n",
    "\n",
    "An algorithm is a set of instructions necessary to complete a task. We use algorithms in every day life. For example a cookbook is a collection of algorithms for cooking. Driving to school requires a specific set of directions, this too is an algorithm.\n",
    "\n",
    "In order to tell a computer to do something, we must break it down into simpler tasks. This is where designing an algorithm comes into play.  \n",
    "\n",
    "The textbook goes over two distinct algorithms for computing the greatest common divisor of two integers."
   ]
  },
  {
   "cell_type": "markdown",
   "metadata": {
    "slideshow": {
     "slide_type": "subslide"
    }
   },
   "source": [
    "A simple algorithm looks like:\n",
    "![gcd algorithm](https://github.com/lukasbystricky/ISC-3313/blob/master/lectures/chapter2/images/gcd1.png?raw=true)"
   ]
  },
  {
   "cell_type": "markdown",
   "metadata": {
    "slideshow": {
     "slide_type": "subslide"
    }
   },
   "source": [
    "Euclid (in 300 B.C.!) came up with a much more efficient algorithm:\n",
    "![gcd euclid](https://github.com/lukasbystricky/ISC-3313/blob/master/lectures/chapter2/images/gcd2.png?raw=true)"
   ]
  },
  {
   "cell_type": "markdown",
   "metadata": {
    "slideshow": {
     "slide_type": "subslide"
    }
   },
   "source": [
    " This example illustrates a couple important points:\n",
    "1. an algorithm is not necessarily unique, there may be several ways to accomplish the same task (like driving to school)\n",
    "2. some algorithms may be much better than others - this can be the difference between code taking an hour to run or taking 10 seconds to run\n",
    "\n",
    "Designing and implementing algorithms is the key part of scientific computing (and programming in general)."
   ]
  },
  {
   "cell_type": "markdown",
   "metadata": {
    "slideshow": {
     "slide_type": "slide"
    }
   },
   "source": [
    "# High Level Programming Languages\n",
    "\n",
    "As I mentioned last class Python is a high level programming language. What does this mean?  \n",
    "\n",
    "Any software the runs on a computer is executed by that computer's CPU. The language that CPUs use is called *machine code*. Machine code supports only the most basic types and opterations. This called a *low level* programming language. Low level programming is very difficult to do.\n",
    "\n",
    "For example, on most dekstops (specifically those running x86), this is machine code to print \"hello world\" to the console:\n",
    "\n",
    "    .data\n",
    "    _hello:\n",
    "      .asciz \"hello world\\n\"\n",
    "\n",
    "    .text\n",
    "    .globl _main\n",
    "    _main:\n",
    "      subq $8, %rsp\n",
    "\n",
    "      movb $0, %al\n",
    "      leaq _hello(%rip), %rdi\n",
    "      call _printf\n",
    "\n",
    "      movq $0, %rdi\n",
    "      call _exit\n",
    "      \n"
   ]
  },
  {
   "cell_type": "markdown",
   "metadata": {
    "collapsed": true,
    "slideshow": {
     "slide_type": "subslide"
    }
   },
   "source": [
    "## Compilers and Interpreters\n",
    "\n",
    "When programming in a high level language it is common to create one or more text files called *source code*. Last lecture we saw a Python script, this is an example of source code. \n",
    "\n",
    "In order for source code to be executed it must first be translated into equivalent low level machine code. The two most common ways to do this are through *compilers* or *interpreters*.  \n",
    "\n"
   ]
  },
  {
   "cell_type": "markdown",
   "metadata": {
    "slideshow": {
     "slide_type": "subslide"
    }
   },
   "source": [
    "A compiler takes the entire source code and translates it into a low level program known as an exectutable. \n",
    "\n",
    "An interpreter proceeds line by line, translating one line, executing it and then moving to the next line. Python is an interpreted language."
   ]
  },
  {
   "cell_type": "markdown",
   "metadata": {
    "slideshow": {
     "slide_type": "subslide"
    }
   },
   "source": [
    "This is how you print hello world to the console in Python:"
   ]
  },
  {
   "cell_type": "code",
   "execution_count": null,
   "metadata": {
    "collapsed": false,
    "slideshow": {
     "slide_type": "-"
    }
   },
   "outputs": [],
   "source": [
    "print(\"hello world\")"
   ]
  },
  {
   "cell_type": "markdown",
   "metadata": {
    "collapsed": false
   },
   "source": [
    "Much simpler, than machine code no? "
   ]
  },
  {
   "cell_type": "markdown",
   "metadata": {
    "slideshow": {
     "slide_type": "subslide"
    }
   },
   "source": [
    "Many other high level programming languages exist, for example:\n",
    "* Java\n",
    "* C/C++\n",
    "* C#\n",
    "* Matlab\n",
    "* Fortran\n",
    "\n",
    "Each language has its own syntax and semantics, however the core ideas of programming in high level languages do not change. After you learn one language all the other languages become much easier to learn. "
   ]
  },
  {
   "cell_type": "markdown",
   "metadata": {
    "slideshow": {
     "slide_type": "slide"
    }
   },
   "source": [
    "# Object Oriented Programming (OOP)\n",
    "\n",
    "Python is an object oriented programming language. Broadly speaking, the concept of OOP is based upon modeling data and operations as paired, rather than seperate, elements. "
   ]
  },
  {
   "cell_type": "markdown",
   "metadata": {
    "slideshow": {
     "slide_type": "subslide"
    }
   },
   "source": [
    "Consider a digital picture. This can be thought of as just a type of data. In an OOP approach we can view the digital picture as a higer level piece of information that supports certain operations, for example:\n",
    "* cropping\n",
    "* scaling\n",
    "* compressing\n",
    "* rotating\n",
    "* color enhancement\n",
    "\n",
    "By thinking in terms of operations early on when designing a program, we can better choose a way to represent the data. "
   ]
  },
  {
   "cell_type": "markdown",
   "metadata": {
    "slideshow": {
     "slide_type": "subslide"
    }
   },
   "source": [
    "## Objects and Classes\n",
    "\n",
    "A *class* represents a type of data that supports certain operations. For example you might create a class called `DigitalPicture`. An *object* is a particular *instance* of a class. For example if you have a picture of yourself in Venice, you might call this object `VenicePic`. Note that `VenicePic` is an object of type `DigitalPicture`. \n"
   ]
  },
  {
   "cell_type": "markdown",
   "metadata": {
    "slideshow": {
     "slide_type": "subslide"
    }
   },
   "source": [
    "\n",
    "Internally, each instance is represented by one or more pieces of data called *attributes* (or equivalently *data members* *fields* or *instance variables*). Each object of the same type has the same attributes, but they may have different values. \n",
    "\n",
    "For example, a digital picture might have an attribute called `height`, but clearly not all pictures have the same height. "
   ]
  },
  {
   "cell_type": "markdown",
   "metadata": {
    "slideshow": {
     "slide_type": "subslide"
    }
   },
   "source": [
    "Operations supported by an object are known as *methods*. The methods supported by an object are the primary way of interacting with that object. Collectively, attributes and methods of an instance are called its *members*. \n",
    "\n",
    "To visualize this, we sometimes use diagrams known as Unified Modeling Language (UML) diagrams. Here is an example of a UML diagram for the `DigitalPicture` class:\n",
    "\n",
    "![uml](images/picture_uml.png)\n",
    "\n",
    "We'll learn more designing objects and classes later in the course. Starting next class however, we will be using some of Python's built-in classes. "
   ]
  }
 ],
 "metadata": {
  "anaconda-cloud": {},
  "celltoolbar": "Slideshow",
  "kernelspec": {
   "display_name": "Python [conda root]",
   "language": "python",
   "name": "conda-root-py"
  },
  "language_info": {
   "codemirror_mode": {
    "name": "ipython",
    "version": 3
   },
   "file_extension": ".py",
   "mimetype": "text/x-python",
   "name": "python",
   "nbconvert_exporter": "python",
   "pygments_lexer": "ipython3",
   "version": "3.5.2"
  }
 },
 "nbformat": 4,
 "nbformat_minor": 0
}
