{
 "cells": [
  {
   "cell_type": "markdown",
   "metadata": {
    "slideshow": {
     "slide_type": "slide"
    }
   },
   "source": [
    "<p style=\"text-align: center;\"><font size=\"8\"><b>Numeric Data</b></font><br>"
   ]
  },
  {
   "cell_type": "markdown",
   "metadata": {
    "slideshow": {
     "slide_type": "slide"
    }
   },
   "source": [
    "# Numeric Types\n",
    "\n",
    "Obviously to do any scientific computing we will have to work with numbers. Python supports 4 different primative types for storing numbers:\n",
    "1. `int`\n",
    "3. `float`\n",
    "4. `complex`\n",
    "\n",
    "Each of these types differ in terms of the range of numbers it can represent and how they are stored."
   ]
  },
  {
   "cell_type": "markdown",
   "metadata": {
    "slideshow": {
     "slide_type": "slide"
    }
   },
   "source": [
    "## `int`\n",
    "\n",
    "An `int` is used to store numbers that are integers. For example: -5, 2535, -24515. "
   ]
  },
  {
   "cell_type": "code",
   "execution_count": 1,
   "metadata": {
    "collapsed": false
   },
   "outputs": [
    {
     "data": {
      "text/plain": [
       "int"
      ]
     },
     "execution_count": 1,
     "metadata": {},
     "output_type": "execute_result"
    }
   ],
   "source": [
    "a = 50505\n",
    "type(a)"
   ]
  },
  {
   "cell_type": "markdown",
   "metadata": {},
   "source": [
    "\n",
    "In Python 2 (i.e. your textbook) there is a maximum magnitude for the value of an `int`. For larger magnitude integers, there exists a class called `long` that can store arbitrarily large integer values. In Python 3 the `long` class no longer exists, and `int` can store any size integer."
   ]
  },
  {
   "cell_type": "markdown",
   "metadata": {
    "slideshow": {
     "slide_type": "slide"
    }
   },
   "source": [
    "## `float`\n",
    "\n",
    "Numbers that are not inegers (i.e. most numbers) are stored in the `float` class. "
   ]
  },
  {
   "cell_type": "code",
   "execution_count": 2,
   "metadata": {
    "collapsed": false
   },
   "outputs": [
    {
     "data": {
      "text/plain": [
       "float"
      ]
     },
     "execution_count": 2,
     "metadata": {},
     "output_type": "execute_result"
    }
   ],
   "source": [
    "a = 3.153545\n",
    "type(a)"
   ]
  },
  {
   "cell_type": "markdown",
   "metadata": {},
   "source": [
    "Floating point numbers can have an integer value. "
   ]
  },
  {
   "cell_type": "code",
   "execution_count": 3,
   "metadata": {
    "collapsed": false
   },
   "outputs": [
    {
     "data": {
      "text/plain": [
       "float"
      ]
     },
     "execution_count": 3,
     "metadata": {},
     "output_type": "execute_result"
    }
   ],
   "source": [
    "b = 3.0\n",
    "type(b)"
   ]
  },
  {
   "cell_type": "markdown",
   "metadata": {
    "slideshow": {
     "slide_type": "subslide"
    }
   },
   "source": [
    "Some numbers cannot be stored with perfect precision in digital form. For example $\\sqrt{2}$ is stored as a decimal number. This is a standard encoding known as *floating-point* representation. Typically this is around 16 digits of accuracy. \n",
    "\n",
    "This is an important concept to understand, and can sometimes lead to unexpected behavior, even for numbers which should be perfectly represented with 16 digits."
   ]
  },
  {
   "cell_type": "code",
   "execution_count": 4,
   "metadata": {
    "collapsed": false
   },
   "outputs": [
    {
     "data": {
      "text/plain": [
       "0.30000000000000004"
      ]
     },
     "execution_count": 4,
     "metadata": {},
     "output_type": "execute_result"
    }
   ],
   "source": [
    "a = 0.1\n",
    "b = 0.2\n",
    "a+b"
   ]
  },
  {
   "cell_type": "code",
   "execution_count": 5,
   "metadata": {
    "collapsed": false
   },
   "outputs": [
    {
     "data": {
      "text/plain": [
       "5.551115123125783e-17"
      ]
     },
     "execution_count": 5,
     "metadata": {},
     "output_type": "execute_result"
    }
   ],
   "source": [
    "a+b - 0.3"
   ]
  },
  {
   "cell_type": "markdown",
   "metadata": {
    "slideshow": {
     "slide_type": "-"
    }
   },
   "source": [
    "This is an example of *floating point error*. In scientific computing it is important to remember that no numbers are ever represented perfectly and small errors like this can occur. If you are not careful this can lead to serious problems down the road. We may return to this issue later if time permits."
   ]
  },
  {
   "cell_type": "markdown",
   "metadata": {
    "slideshow": {
     "slide_type": "slide"
    }
   },
   "source": [
    "## `complex`\n",
    "\n",
    "In many scientific applications we have to make use of complex numbers. An imaginary number is defined as $i = \\sqrt{-1}$. A complex number is defined as $z = x + iy$, where $x$ and $y$ are real numbers. \n",
    "\n",
    "Python provides a built-in type to handle complex numbers. The identifier `1j` is $i$. This lets us construct complex numbers."
   ]
  },
  {
   "cell_type": "code",
   "execution_count": 6,
   "metadata": {
    "collapsed": false
   },
   "outputs": [
    {
     "name": "stdout",
     "output_type": "stream",
     "text": [
      "(5+6j)\n"
     ]
    },
    {
     "data": {
      "text/plain": [
       "complex"
      ]
     },
     "execution_count": 6,
     "metadata": {},
     "output_type": "execute_result"
    }
   ],
   "source": [
    "a = 5 + 6j\n",
    "print(a)\n",
    "type(a)"
   ]
  },
  {
   "cell_type": "markdown",
   "metadata": {},
   "source": [
    "We may return to complex numbers later in the course if time permits."
   ]
  },
  {
   "cell_type": "markdown",
   "metadata": {
    "slideshow": {
     "slide_type": "slide"
    }
   },
   "source": [
    "## Numeric Operators\n",
    "\n",
    "We've already seen some numeric operators. For example, as you probably assumed, you can add two numbers with \"+\", subtract one number from another with \"-\" and multiply two numbers with \"\\*\".  \n",
    "\n",
    "When adding and `int` to another `int` the result is an `int`. Then adding a `float` to a `float` or an `int`, the result is a `float`. The same applies to subtraction or multiplication. When addition, subtraction or multiplication involves a complex number, the result is a `complex`."
   ]
  },
  {
   "cell_type": "code",
   "execution_count": 7,
   "metadata": {
    "collapsed": false
   },
   "outputs": [
    {
     "data": {
      "text/plain": [
       "int"
      ]
     },
     "execution_count": 7,
     "metadata": {},
     "output_type": "execute_result"
    }
   ],
   "source": [
    "a = 5\n",
    "b = 6.0\n",
    "c = 5 + 6j\n",
    "type(a+a)"
   ]
  },
  {
   "cell_type": "code",
   "execution_count": 8,
   "metadata": {
    "collapsed": false
   },
   "outputs": [
    {
     "data": {
      "text/plain": [
       "float"
      ]
     },
     "execution_count": 8,
     "metadata": {},
     "output_type": "execute_result"
    }
   ],
   "source": [
    "type(a+b)"
   ]
  },
  {
   "cell_type": "code",
   "execution_count": 9,
   "metadata": {
    "collapsed": false
   },
   "outputs": [
    {
     "data": {
      "text/plain": [
       "complex"
      ]
     },
     "execution_count": 9,
     "metadata": {},
     "output_type": "execute_result"
    }
   ],
   "source": [
    "type(a + c)"
   ]
  },
  {
   "cell_type": "markdown",
   "metadata": {
    "slideshow": {
     "slide_type": "subslide"
    }
   },
   "source": [
    "Division depends on what version of Python you are using. In Python 3, it is always true division, meaning it's probably exactly as you'd expect (remember that I'm using Python 3)."
   ]
  },
  {
   "cell_type": "code",
   "execution_count": 10,
   "metadata": {
    "collapsed": false
   },
   "outputs": [
    {
     "data": {
      "text/plain": [
       "1.25"
      ]
     },
     "execution_count": 10,
     "metadata": {},
     "output_type": "execute_result"
    }
   ],
   "source": [
    "a = 5\n",
    "b = 4\n",
    "a/b"
   ]
  },
  {
   "cell_type": "markdown",
   "metadata": {},
   "source": [
    "In Python 2 however, the \"/\" symbol is only true division if one of the numbers is a float. If both numbers are of type `int` \"/\" is integer division, meaning that it returns the quotient of two number. Thus `14/3 = 4`. To perform true division you can convert one of the `int` to a `float`, i.e. `14.0/3`."
   ]
  },
  {
   "cell_type": "markdown",
   "metadata": {
    "slideshow": {
     "slide_type": "subslide"
    }
   },
   "source": [
    "In Python 3, integer division can be performed with the \"//\" operator."
   ]
  },
  {
   "cell_type": "code",
   "execution_count": 11,
   "metadata": {
    "collapsed": false
   },
   "outputs": [
    {
     "data": {
      "text/plain": [
       "1"
      ]
     },
     "execution_count": 11,
     "metadata": {},
     "output_type": "execute_result"
    }
   ],
   "source": [
    "a = 5\n",
    "b = 4\n",
    "a//b"
   ]
  },
  {
   "cell_type": "code",
   "execution_count": 12,
   "metadata": {
    "collapsed": false
   },
   "outputs": [
    {
     "data": {
      "text/plain": [
       "4.0"
      ]
     },
     "execution_count": 12,
     "metadata": {},
     "output_type": "execute_result"
    }
   ],
   "source": [
    "a = 14.3\n",
    "b = 3.2\n",
    "a//b"
   ]
  },
  {
   "cell_type": "markdown",
   "metadata": {
    "slideshow": {
     "slide_type": "subslide"
    }
   },
   "source": [
    "To do powers of numbers, Python employs the syntax \"\\*\\*\"."
   ]
  },
  {
   "cell_type": "code",
   "execution_count": 13,
   "metadata": {
    "collapsed": false
   },
   "outputs": [
    {
     "data": {
      "text/plain": [
       "16"
      ]
     },
     "execution_count": 13,
     "metadata": {},
     "output_type": "execute_result"
    }
   ],
   "source": [
    "2**4"
   ]
  },
  {
   "cell_type": "markdown",
   "metadata": {
    "slideshow": {
     "slide_type": "subslide"
    }
   },
   "source": [
    "Python also supports the *modulus* operator (mod for short) with the symbol \"%\". This returns the remainder of the division."
   ]
  },
  {
   "cell_type": "code",
   "execution_count": 14,
   "metadata": {
    "collapsed": false
   },
   "outputs": [
    {
     "data": {
      "text/plain": [
       "2"
      ]
     },
     "execution_count": 14,
     "metadata": {},
     "output_type": "execute_result"
    }
   ],
   "source": [
    "a = 5\n",
    "b = 3\n",
    "a%b"
   ]
  },
  {
   "cell_type": "code",
   "execution_count": 15,
   "metadata": {
    "collapsed": false
   },
   "outputs": [
    {
     "name": "stdout",
     "output_type": "stream",
     "text": [
      "1.0\n",
      "6.4\n"
     ]
    }
   ],
   "source": [
    "a = 15.3\n",
    "b = 8.9\n",
    "print(a//b)\n",
    "print(a%b)"
   ]
  },
  {
   "cell_type": "markdown",
   "metadata": {
    "slideshow": {
     "slide_type": "subslide"
    }
   },
   "source": [
    "## Type Conversions\n",
    "\n",
    "Just like strings, numeric types are immutable. An expression such as x + y does not change the values of x or y.\n",
    "However it is common to reassign an existing identifier to a new value using arthmetic operators"
   ]
  },
  {
   "cell_type": "code",
   "execution_count": 16,
   "metadata": {
    "collapsed": false
   },
   "outputs": [
    {
     "name": "stdout",
     "output_type": "stream",
     "text": [
      "6\n"
     ]
    }
   ],
   "source": [
    "a = 5\n",
    "a = a + 1\n",
    "print(a)"
   ]
  },
  {
   "cell_type": "markdown",
   "metadata": {
    "slideshow": {
     "slide_type": "subslide"
    }
   },
   "source": [
    "How an object is encoded depends on its type. Thus the `int` 35 is stored differently from the `float` 35.0 or the `str` \"35\".  \n",
    "\n",
    "Converting one type to another is called *casting*. For example"
   ]
  },
  {
   "cell_type": "code",
   "execution_count": 17,
   "metadata": {
    "collapsed": false
   },
   "outputs": [
    {
     "name": "stdout",
     "output_type": "stream",
     "text": [
      "4\n"
     ]
    }
   ],
   "source": [
    "a = 4.9\n",
    "print(int(a))"
   ]
  },
  {
   "cell_type": "markdown",
   "metadata": {},
   "source": [
    "When casting a `float` to an `int` Python truncates the decimal part. To convert a `float` to the nearest integer, there is a function called `round`."
   ]
  },
  {
   "cell_type": "code",
   "execution_count": 18,
   "metadata": {
    "collapsed": false
   },
   "outputs": [
    {
     "name": "stdout",
     "output_type": "stream",
     "text": [
      "5\n"
     ]
    }
   ],
   "source": [
    "print(round(a))"
   ]
  },
  {
   "cell_type": "markdown",
   "metadata": {
    "slideshow": {
     "slide_type": "subslide"
    }
   },
   "source": [
    "## Summary\n",
    "\n",
    "![numeric operations](https://github.com/lukasbystricky/ISC-3313/blob/master/lectures/chapter2/images/numeric_operators1.png?raw=true)"
   ]
  },
  {
   "cell_type": "markdown",
   "metadata": {
    "slideshow": {
     "slide_type": "subslide"
    }
   },
   "source": [
    "![numeric operators](https://github.com/lukasbystricky/ISC-3313/blob/master/lectures/chapter2/images/numeric_operators2.png?raw=true)"
   ]
  },
  {
   "cell_type": "markdown",
   "metadata": {
    "slideshow": {
     "slide_type": "slide"
    }
   },
   "source": [
    "# Displaying Formatted Data\n",
    "\n",
    "Often when displaying data, we'll want to format it properly. For example we may want to display to a specific in scientific notation, or we may want to display a table that lines up properly. \n",
    "\n",
    "Python supports the C style printf syntax. From the [online documentation](https://docs.python.org/2/library/stdtypes.html#string-formatting): \n",
    "\n",
    "Given `format % values` (where format is a string),  % conversion specifications in format are replaced with zero or more elements of values. A conversion specifier contains two or more characters and has the following components, which must occur in this order:\n",
    "\n",
    "1. The '%' character, which marks the start of the specifier.\n",
    "2. Conversion flags (optional), which affect the result of some conversion types.\n",
    "4. Minimum field width (optional). \n",
    "5. Precision (optional), given as a '.' (dot) followed by the precision.\n",
    "7. Conversion type.\n",
    "\n",
    "(Removed some of the optional components)"
   ]
  },
  {
   "cell_type": "markdown",
   "metadata": {
    "slideshow": {
     "slide_type": "subslide"
    }
   },
   "source": [
    "What does all this mean? It may be useful to look at a few examples first."
   ]
  },
  {
   "cell_type": "code",
   "execution_count": 19,
   "metadata": {
    "collapsed": false
   },
   "outputs": [
    {
     "name": "stdout",
     "output_type": "stream",
     "text": [
      "This is an integer with two leading zeros 004.\n",
      "Here is a floating point number that takes up 10 spaces       3.50. It is displayed to 2 decimal places.\n",
      "1.44e-06 is displayed in scientific notation to 2 decimal places\n"
     ]
    }
   ],
   "source": [
    "print(\"This is an integer with two leading zeros %03d.\"%4)\n",
    "print(\"Here is a floating point number that takes up 10 spaces %10.2f. It is displayed to 2 decimal places.\"%3.50399500)\n",
    "print(\"%3.2e is displayed in scientific notation to %d decimal places\"%(0.0000014353,2))"
   ]
  },
  {
   "cell_type": "markdown",
   "metadata": {},
   "source": [
    "In essence you write a string, and everywhere in that string where you wanted a formatted number, instead of writing the number you create a placeholder beginning with \"%\". At the end of the string, after you close it with an endquote, the number(s) you want formatted are added after another \"%\". "
   ]
  },
  {
   "cell_type": "markdown",
   "metadata": {
    "slideshow": {
     "slide_type": "subslide"
    }
   },
   "source": [
    "How do we construct the placeholder? Immediately after the \"%\" we can optionally place a series of flags:\n",
    "\n",
    "|Flag|\tMeaning|\n",
    "|------|---------|\n",
    "|'0'\t|The conversion will be zero padded for numeric values.|\n",
    "|'-'\t|The converted value is left adjusted (overrides the '0' conversion if both are given).|\n",
    "|' '\t|(a space) A blank should be left before a positive number (or empty string) produced by a signed conversion.|\n",
    "|'+'\t|A sign character ('+' or '-') will precede the conversion (overrides a “space” flag).|"
   ]
  },
  {
   "cell_type": "markdown",
   "metadata": {
    "slideshow": {
     "slide_type": "subslide"
    }
   },
   "source": [
    "After the flags, a number is required. This number of the form `a.b` (where the `.b` part is optional) means that we wish the displayed number to have \"length\" `a`, meaning it should take up `a` spaces, and be displayed to `b` decimal places.\n",
    "\n",
    "After this number we must specify a conversion flag. This flag must be one of:\n",
    "\n",
    "|Conversion|\tMeaning\t|\n",
    "|-------|-------------|\n",
    "|'d'\t|Signed integer decimal.|\t \n",
    "|'e'\t|Floating point exponential format (lowercase).|\n",
    "|'E'\t|Floating point exponential format (uppercase).|\n",
    "|'f'\t|Floating point decimal format.\t\n",
    "|'g'\t|Floating point format. Uses lowercase exponential format if exponent is less than -4 or not less than precision, decimal format otherwise.|\n",
    "|'G'\t|Floating point format. Uses uppercase exponential format if exponent is less than -4 or not less than precision, decimal format otherwise.\t|\n",
    "|'s'\t|String (converts any Python object using str()).|\t\t "
   ]
  },
  {
   "cell_type": "markdown",
   "metadata": {
    "slideshow": {
     "slide_type": "slide"
    }
   },
   "source": [
    "# Boolean Expressions\n",
    "\n",
    "A boolean is a value that is either `true` or `false`. Python has a built-in type, `bool`, for handling booleans. \n",
    "\n",
    "Several functions return booleans. For example we've aready seen the `in` function for lists."
   ]
  },
  {
   "cell_type": "code",
   "execution_count": 20,
   "metadata": {
    "collapsed": false
   },
   "outputs": [
    {
     "data": {
      "text/plain": [
       "True"
      ]
     },
     "execution_count": 20,
     "metadata": {},
     "output_type": "execute_result"
    }
   ],
   "source": [
    "groceries = []\n",
    "groceries.append(\"bread\")\n",
    "\n",
    "a = \"bread\" in groceries\n",
    "a"
   ]
  },
  {
   "cell_type": "code",
   "execution_count": 21,
   "metadata": {
    "collapsed": false
   },
   "outputs": [
    {
     "data": {
      "text/plain": [
       "bool"
      ]
     },
     "execution_count": 21,
     "metadata": {},
     "output_type": "execute_result"
    }
   ],
   "source": [
    "type(a)"
   ]
  },
  {
   "cell_type": "markdown",
   "metadata": {
    "slideshow": {
     "slide_type": "subslide"
    }
   },
   "source": [
    "We can also generate booleans using the greater than or less than operators."
   ]
  },
  {
   "cell_type": "code",
   "execution_count": 22,
   "metadata": {
    "collapsed": false
   },
   "outputs": [
    {
     "data": {
      "text/plain": [
       "True"
      ]
     },
     "execution_count": 22,
     "metadata": {},
     "output_type": "execute_result"
    }
   ],
   "source": [
    "a = 6\n",
    "a > 5"
   ]
  },
  {
   "cell_type": "code",
   "execution_count": 23,
   "metadata": {
    "collapsed": false
   },
   "outputs": [
    {
     "data": {
      "text/plain": [
       "False"
      ]
     },
     "execution_count": 23,
     "metadata": {},
     "output_type": "execute_result"
    }
   ],
   "source": [
    "a <= 4"
   ]
  },
  {
   "cell_type": "code",
   "execution_count": 24,
   "metadata": {
    "collapsed": false
   },
   "outputs": [
    {
     "data": {
      "text/plain": [
       "True"
      ]
     },
     "execution_count": 24,
     "metadata": {},
     "output_type": "execute_result"
    }
   ],
   "source": [
    "len(\"bacon\") > 3"
   ]
  },
  {
   "cell_type": "markdown",
   "metadata": {
    "slideshow": {
     "slide_type": "subslide"
    }
   },
   "source": [
    "There are three logical operators that can be used with booleans.\n",
    "\n",
    "1) **`not`** - this returns the opposite of the boolean value"
   ]
  },
  {
   "cell_type": "code",
   "execution_count": 25,
   "metadata": {
    "collapsed": false
   },
   "outputs": [
    {
     "data": {
      "text/plain": [
       "False"
      ]
     },
     "execution_count": 25,
     "metadata": {},
     "output_type": "execute_result"
    }
   ],
   "source": [
    "not len(\"bacon\") > 3"
   ]
  },
  {
   "cell_type": "markdown",
   "metadata": {
    "slideshow": {
     "slide_type": "subslide"
    }
   },
   "source": [
    "2) **`and`** - this operator takes two booleans and returns `true` if they are both true and `false` otherwise"
   ]
  },
  {
   "cell_type": "code",
   "execution_count": 26,
   "metadata": {
    "collapsed": false
   },
   "outputs": [
    {
     "data": {
      "text/plain": [
       "True"
      ]
     },
     "execution_count": 26,
     "metadata": {},
     "output_type": "execute_result"
    }
   ],
   "source": [
    "len(\"bacon\") > 3 and 5 > 1"
   ]
  },
  {
   "cell_type": "code",
   "execution_count": 27,
   "metadata": {
    "collapsed": false
   },
   "outputs": [
    {
     "data": {
      "text/plain": [
       "False"
      ]
     },
     "execution_count": 27,
     "metadata": {},
     "output_type": "execute_result"
    }
   ],
   "source": [
    "len(\"bacon\") > 3 and 1 > 5"
   ]
  },
  {
   "cell_type": "markdown",
   "metadata": {
    "slideshow": {
     "slide_type": "subslide"
    }
   },
   "source": [
    "3) **`or`** - this operator takes two booleans and returns `true` if at least one them is `true`"
   ]
  },
  {
   "cell_type": "code",
   "execution_count": 28,
   "metadata": {
    "collapsed": false
   },
   "outputs": [
    {
     "data": {
      "text/plain": [
       "True"
      ]
     },
     "execution_count": 28,
     "metadata": {},
     "output_type": "execute_result"
    }
   ],
   "source": [
    "len(\"bacon\") > 3 or 1 > 5"
   ]
  },
  {
   "cell_type": "markdown",
   "metadata": {},
   "source": [
    "Note that this is considered an *inclusive or*, meaning that if both booleans are `true` it returns `true`. Occasionally we may want an *exclusive or*, where we want to know if exactly one of the booleans is `true`. This can be acheived by using the syntax `x != y`."
   ]
  },
  {
   "cell_type": "code",
   "execution_count": 29,
   "metadata": {
    "collapsed": true
   },
   "outputs": [],
   "source": [
    "a = len(\"bacon\") > 3 \n",
    "b = 5>1\n",
    "a =! b"
   ]
  },
  {
   "cell_type": "markdown",
   "metadata": {
    "slideshow": {
     "slide_type": "subslide"
    }
   },
   "source": [
    "Consider a compound boolean expression:"
   ]
  },
  {
   "cell_type": "code",
   "execution_count": 30,
   "metadata": {
    "collapsed": false
   },
   "outputs": [
    {
     "data": {
      "text/plain": [
       "True"
      ]
     },
     "execution_count": 30,
     "metadata": {},
     "output_type": "execute_result"
    }
   ],
   "source": [
    "x = 5\n",
    "\n",
    "3 < x and x < 8"
   ]
  },
  {
   "cell_type": "markdown",
   "metadata": {},
   "source": [
    "When the same value (in this case `x`) appears as an operand of the two booleans, these expression can be chained as follows."
   ]
  },
  {
   "cell_type": "code",
   "execution_count": 31,
   "metadata": {
    "collapsed": false
   },
   "outputs": [
    {
     "data": {
      "text/plain": [
       "True"
      ]
     },
     "execution_count": 31,
     "metadata": {},
     "output_type": "execute_result"
    }
   ],
   "source": [
    "3 < x < 8"
   ]
  },
  {
   "cell_type": "markdown",
   "metadata": {},
   "source": [
    "This is a convenient syntax and can often be easier to read."
   ]
  },
  {
   "cell_type": "markdown",
   "metadata": {
    "slideshow": {
     "slide_type": "subslide"
    }
   },
   "source": [
    "Understanding the relationship between **not**, **and** and **or** is extremely important. Here they are summarized in a truth table:\n",
    "\n",
    "![truth table](images/truth_table.png)"
   ]
  },
  {
   "cell_type": "markdown",
   "metadata": {
    "slideshow": {
     "slide_type": "slide"
    }
   },
   "source": [
    "# Excersise\n",
    "\n",
    "Assume that `d` is a distance in miles. Using the conversion **miles = 1.6\\*kilometers**, convert `d` to kilometers. Print the area in scientific notation to 3 decimal places."
   ]
  },
  {
   "cell_type": "code",
   "execution_count": 32,
   "metadata": {
    "collapsed": true
   },
   "outputs": [],
   "source": [
    "d = 11343455"
   ]
  },
  {
   "cell_type": "markdown",
   "metadata": {
    "slideshow": {
     "slide_type": "slide"
    }
   },
   "source": [
    "# Excersise\n",
    "\n",
    "Write a code fragment that determines if a given decimal number has more than 4 digits after the decimal. \n",
    "\n",
    "Hint: convert the number to a string first and use the `find` method."
   ]
  }
 ],
 "metadata": {
  "celltoolbar": "Slideshow",
  "kernelspec": {
   "display_name": "Python [conda root]",
   "language": "python",
   "name": "conda-root-py"
  },
  "language_info": {
   "codemirror_mode": {
    "name": "ipython",
    "version": 3
   },
   "file_extension": ".py",
   "mimetype": "text/x-python",
   "name": "python",
   "nbconvert_exporter": "python",
   "pygments_lexer": "ipython3",
   "version": "3.5.2"
  }
 },
 "nbformat": 4,
 "nbformat_minor": 0
}
