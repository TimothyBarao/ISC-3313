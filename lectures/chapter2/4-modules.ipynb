{
 "cells": [
  {
   "cell_type": "markdown",
   "metadata": {
    "slideshow": {
     "slide_type": "slide"
    }
   },
   "source": [
    "<p style=\"text-align: center;\"><font size=\"8\"><b>Functions and Modules</b></font><br>\n"
   ]
  },
  {
   "cell_type": "markdown",
   "metadata": {
    "slideshow": {
     "slide_type": "slide"
    }
   },
   "source": [
    "# Calling Functions\n",
    "\n",
    "Pure functions exist as methods that can be called outside the context of a particular class. For example we're already seen the `round` and `len` functions. Remember that we call `round(a)`, not `a.round()`. Python provides many built-in functions. \n",
    "\n",
    "![functions](https://github.com/lukasbystricky/ISC-3313/blob/master/lectures/chapter2/images/functions.png?raw=true)"
   ]
  },
  {
   "cell_type": "code",
   "execution_count": 1,
   "metadata": {
    "collapsed": false,
    "slideshow": {
     "slide_type": "subslide"
    }
   },
   "outputs": [
    {
     "data": {
      "text/plain": [
       "8"
      ]
     },
     "execution_count": 1,
     "metadata": {},
     "output_type": "execute_result"
    }
   ],
   "source": [
    "pow(2,3)"
   ]
  },
  {
   "cell_type": "code",
   "execution_count": 2,
   "metadata": {
    "collapsed": false
   },
   "outputs": [
    {
     "data": {
      "text/plain": [
       "-2.4"
      ]
     },
     "execution_count": 2,
     "metadata": {},
     "output_type": "execute_result"
    }
   ],
   "source": [
    "min(-2,-2.4,9.0)"
   ]
  },
  {
   "cell_type": "code",
   "execution_count": 3,
   "metadata": {
    "collapsed": false
   },
   "outputs": [
    {
     "data": {
      "text/plain": [
       "97"
      ]
     },
     "execution_count": 3,
     "metadata": {},
     "output_type": "execute_result"
    }
   ],
   "source": [
    "ord(\"a\")"
   ]
  },
  {
   "cell_type": "markdown",
   "metadata": {
    "slideshow": {
     "slide_type": "subslide"
    }
   },
   "source": [
    "# Print function\n",
    "\n",
    "After performing a computation we need to see the result. In an interactive or notebook session we can simply type the name of the variable to see what it is."
   ]
  },
  {
   "cell_type": "code",
   "execution_count": 4,
   "metadata": {
    "collapsed": false
   },
   "outputs": [
    {
     "data": {
      "text/plain": [
       "1"
      ]
     },
     "execution_count": 4,
     "metadata": {},
     "output_type": "execute_result"
    }
   ],
   "source": [
    "a = 1\n",
    "a"
   ]
  },
  {
   "cell_type": "markdown",
   "metadata": {},
   "source": [
    "When executing scripts however, we can no longer to this. Instead we use the `print` command (in fact we've already used this several times)."
   ]
  },
  {
   "cell_type": "markdown",
   "metadata": {
    "slideshow": {
     "slide_type": "subslide"
    }
   },
   "source": [
    "The `print` function is used to print information to the console. "
   ]
  },
  {
   "cell_type": "code",
   "execution_count": 5,
   "metadata": {
    "collapsed": false
   },
   "outputs": [
    {
     "name": "stdout",
     "output_type": "stream",
     "text": [
      "1\n",
      "a\n"
     ]
    }
   ],
   "source": [
    "print(a)\n",
    "print(\"a\")"
   ]
  },
  {
   "cell_type": "markdown",
   "metadata": {},
   "source": [
    "Note the syntax used in the textbook, `print a`, (no parentheses) does not work in Python 3. However the syntax above works in both Python 2 and Python 3.\n"
   ]
  },
  {
   "cell_type": "markdown",
   "metadata": {
    "slideshow": {
     "slide_type": "subslide"
    }
   },
   "source": [
    "Of course, `print` can be used to display more useful information. For example, suppose we have a variable called `t` that represents some length of time in seconds. We can use `print` to display not only `t`, but also the units by calling `print` with multiple arguments."
   ]
  },
  {
   "cell_type": "code",
   "execution_count": 6,
   "metadata": {
    "collapsed": false
   },
   "outputs": [
    {
     "name": "stdout",
     "output_type": "stream",
     "text": [
      "5.6 s\n"
     ]
    }
   ],
   "source": [
    "t = 5.6\n",
    "print(t, \"s\")"
   ]
  },
  {
   "cell_type": "markdown",
   "metadata": {
    "slideshow": {
     "slide_type": "subslide"
    }
   },
   "source": [
    "The `print` function automatically inserts a space between the two arguments. If we wish the avoid this, we can combine the two arguments into 1."
   ]
  },
  {
   "cell_type": "code",
   "execution_count": 7,
   "metadata": {
    "collapsed": false
   },
   "outputs": [
    {
     "name": "stdout",
     "output_type": "stream",
     "text": [
      "5.6s\n"
     ]
    }
   ],
   "source": [
    "print(str(t)+\"s\")"
   ]
  },
  {
   "cell_type": "markdown",
   "metadata": {},
   "source": [
    "Note that we have to convert `round(t,1)` to a string first before \"adding\" (the correct term is *concatenating*) it to `s`. The command"
   ]
  },
  {
   "cell_type": "code",
   "execution_count": 8,
   "metadata": {
    "collapsed": false
   },
   "outputs": [
    {
     "ename": "TypeError",
     "evalue": "unsupported operand type(s) for +: 'float' and 'str'",
     "output_type": "error",
     "traceback": [
      "\u001b[1;31m---------------------------------------------------------------------------\u001b[0m",
      "\u001b[1;31mTypeError\u001b[0m                                 Traceback (most recent call last)",
      "\u001b[1;32m<ipython-input-8-fbd47c8ae33c>\u001b[0m in \u001b[0;36m<module>\u001b[1;34m()\u001b[0m\n\u001b[1;32m----> 1\u001b[1;33m \u001b[0mprint\u001b[0m\u001b[1;33m(\u001b[0m\u001b[0mt\u001b[0m\u001b[1;33m+\u001b[0m\u001b[1;34m\"s\"\u001b[0m\u001b[1;33m)\u001b[0m\u001b[1;33m\u001b[0m\u001b[0m\n\u001b[0m",
      "\u001b[1;31mTypeError\u001b[0m: unsupported operand type(s) for +: 'float' and 'str'"
     ]
    }
   ],
   "source": [
    "print(t+\"s\")"
   ]
  },
  {
   "cell_type": "markdown",
   "metadata": {},
   "source": [
    "is illegal because we are attempting to add a `float` to a `str`."
   ]
  },
  {
   "cell_type": "markdown",
   "metadata": {
    "slideshow": {
     "slide_type": "slide"
    }
   },
   "source": [
    "# Modules\n",
    "\n",
    "All the functions listed above are built-in to Python. This means they are automatically avaliable once we start Python. There are hundreds of other useful functions and classes that have been developped for Python which are not automatically loaded, but instead placed into specialized libraries called *modules* that can be individually loaded as needed."
   ]
  },
  {
   "cell_type": "markdown",
   "metadata": {
    "slideshow": {
     "slide_type": "subslide"
    }
   },
   "source": [
    "## Math module\n",
    "\n",
    "The math module provides functions to do mathematical operations beyond addition, multiplication, exponentiation etc. For example suppose we want to take the square root of a number. This is not built-in the Python, however a function called `sqrt` in the math library does this. "
   ]
  },
  {
   "cell_type": "markdown",
   "metadata": {
    "slideshow": {
     "slide_type": "subslide"
    }
   },
   "source": [
    "To use the `sqrt` function we must import it from the math module. There are three possible ways to do this. Whichever method you use should be done at the beginning of your code (this is not strictly speaking necessary, but it is the most common placement, at the very least you have to do this *before* you use the function).\n",
    "\n",
    "1) Import the entire module. "
   ]
  },
  {
   "cell_type": "code",
   "execution_count": 10,
   "metadata": {
    "collapsed": true
   },
   "outputs": [],
   "source": [
    "import math"
   ]
  },
  {
   "cell_type": "markdown",
   "metadata": {},
   "source": [
    "At this point we still cannot use the `sqrt` command directly, we must specifically tell Python where the function is coming from using a *qualified name*."
   ]
  },
  {
   "cell_type": "code",
   "execution_count": 11,
   "metadata": {
    "collapsed": false
   },
   "outputs": [
    {
     "ename": "NameError",
     "evalue": "name 'sqrt' is not defined",
     "output_type": "error",
     "traceback": [
      "\u001b[1;31m---------------------------------------------------------------------------\u001b[0m",
      "\u001b[1;31mNameError\u001b[0m                                 Traceback (most recent call last)",
      "\u001b[1;32m<ipython-input-11-40e415486bd6>\u001b[0m in \u001b[0;36m<module>\u001b[1;34m()\u001b[0m\n\u001b[1;32m----> 1\u001b[1;33m \u001b[0msqrt\u001b[0m\u001b[1;33m(\u001b[0m\u001b[1;36m2\u001b[0m\u001b[1;33m)\u001b[0m\u001b[1;33m\u001b[0m\u001b[0m\n\u001b[0m",
      "\u001b[1;31mNameError\u001b[0m: name 'sqrt' is not defined"
     ]
    }
   ],
   "source": [
    "sqrt(2)"
   ]
  },
  {
   "cell_type": "code",
   "execution_count": 12,
   "metadata": {
    "collapsed": false
   },
   "outputs": [
    {
     "data": {
      "text/plain": [
       "1.4142135623730951"
      ]
     },
     "execution_count": 12,
     "metadata": {},
     "output_type": "execute_result"
    }
   ],
   "source": [
    "math.sqrt(2)"
   ]
  },
  {
   "cell_type": "markdown",
   "metadata": {
    "slideshow": {
     "slide_type": "subslide"
    }
   },
   "source": [
    "2) Specifically importing `sqrt` from the math library. If we are using `sqrt` several times in the code, this can avoid repeated typing."
   ]
  },
  {
   "cell_type": "code",
   "execution_count": 13,
   "metadata": {
    "collapsed": false
   },
   "outputs": [
    {
     "data": {
      "text/plain": [
       "1.4142135623730951"
      ]
     },
     "execution_count": 13,
     "metadata": {},
     "output_type": "execute_result"
    }
   ],
   "source": [
    "from math import sqrt\n",
    "sqrt(2)"
   ]
  },
  {
   "cell_type": "markdown",
   "metadata": {
    "slideshow": {
     "slide_type": "subslide"
    }
   },
   "source": [
    "3) Import everything in the module, avoid using qualified names for all functions. This can be an attractive option but is generally discouraged because different modules may use the same name for different functions. This method of importing imports not only the `sqrt` function, but all functions from the math library, for example `cos` and `sin`."
   ]
  },
  {
   "cell_type": "code",
   "execution_count": 14,
   "metadata": {
    "collapsed": false
   },
   "outputs": [
    {
     "data": {
      "text/plain": [
       "1.4142135623730951"
      ]
     },
     "execution_count": 14,
     "metadata": {},
     "output_type": "execute_result"
    }
   ],
   "source": [
    "from math import *\n",
    "sqrt(2)"
   ]
  },
  {
   "cell_type": "code",
   "execution_count": 15,
   "metadata": {
    "collapsed": false
   },
   "outputs": [
    {
     "data": {
      "text/plain": [
       "1.0"
      ]
     },
     "execution_count": 15,
     "metadata": {},
     "output_type": "execute_result"
    }
   ],
   "source": [
    "sin(pi/2)"
   ]
  },
  {
   "cell_type": "markdown",
   "metadata": {
    "slideshow": {
     "slide_type": "subslide"
    }
   },
   "source": [
    "# Expressions\n",
    "\n",
    "Before looking at other modules, let's look quickly at expressions. We have already seen several expressions in isolation (e.g. 18+5.5).\n",
    "\n",
    "It is quite common the perform several operations as part of a single expression."
   ]
  },
  {
   "cell_type": "code",
   "execution_count": 16,
   "metadata": {
    "collapsed": false
   },
   "outputs": [
    {
     "data": {
      "text/plain": [
       "24.5"
      ]
     },
     "execution_count": 16,
     "metadata": {},
     "output_type": "execute_result"
    }
   ],
   "source": [
    "a = 18 + 5.5 + 1\n",
    "a"
   ]
  },
  {
   "cell_type": "markdown",
   "metadata": {
    "slideshow": {
     "slide_type": "subslide"
    }
   },
   "source": [
    "In this case behind the scenes Python adds 18 and 5.5 to get 23.5, it then adds 1 to get 24.5. In this case the order of the two operations does not matter, however in more complicated expressions the order can be important."
   ]
  },
  {
   "cell_type": "code",
   "execution_count": 17,
   "metadata": {
    "collapsed": false
   },
   "outputs": [
    {
     "data": {
      "text/plain": [
       "364.5"
      ]
     },
     "execution_count": 17,
     "metadata": {},
     "output_type": "execute_result"
    }
   ],
   "source": [
    "a = 18*9**2/4\n",
    "a"
   ]
  },
  {
   "cell_type": "code",
   "execution_count": 18,
   "metadata": {
    "collapsed": false
   },
   "outputs": [
    {
     "data": {
      "text/plain": [
       "10.125"
      ]
     },
     "execution_count": 18,
     "metadata": {},
     "output_type": "execute_result"
    }
   ],
   "source": [
    "a = 9/4**2*18\n",
    "a"
   ]
  },
  {
   "cell_type": "markdown",
   "metadata": {
    "slideshow": {
     "slide_type": "subslide"
    }
   },
   "source": [
    "## Precedence\n",
    "\n",
    "When there are two or more operations as part of an expression, we must figure out some way to determine which operation is performed first. We say that an operation that is performed fist is given *precedence* over the others."
   ]
  },
  {
   "cell_type": "markdown",
   "metadata": {
    "slideshow": {
     "slide_type": "subslide"
    }
   },
   "source": [
    "Mathematical expressions in Python follow standard algebraic conventions:\n",
    "1. Brackets\n",
    "2. Exponents\n",
    "3. Division/Multiplication\n",
    "4. Addition/Subtraction\n",
    "\n",
    "For example in the expression `1 + 2*3` the multiplication is done first, followed by the addition. "
   ]
  },
  {
   "cell_type": "markdown",
   "metadata": {
    "slideshow": {
     "slide_type": "subslide"
    }
   },
   "source": [
    "In Python, as in algebra we can use brackets to prioritize an operation."
   ]
  },
  {
   "cell_type": "code",
   "execution_count": 19,
   "metadata": {
    "collapsed": false
   },
   "outputs": [
    {
     "data": {
      "text/plain": [
       "7"
      ]
     },
     "execution_count": 19,
     "metadata": {},
     "output_type": "execute_result"
    }
   ],
   "source": [
    "1+2*3"
   ]
  },
  {
   "cell_type": "code",
   "execution_count": 20,
   "metadata": {
    "collapsed": false
   },
   "outputs": [
    {
     "data": {
      "text/plain": [
       "9"
      ]
     },
     "execution_count": 20,
     "metadata": {},
     "output_type": "execute_result"
    }
   ],
   "source": [
    "(1+2)*3"
   ]
  },
  {
   "cell_type": "markdown",
   "metadata": {
    "slideshow": {
     "slide_type": "subslide"
    }
   },
   "source": [
    "Most operations with equal precedence are evaluated left to right, again to mimic standard algebraic rules.  \n",
    "\n",
    "One exception is exponenents which are evaluated right to left, which again is how we typically think of exponents.\n",
    "\n",
    "$4^{3^2} = 4^9$"
   ]
  },
  {
   "cell_type": "code",
   "execution_count": 21,
   "metadata": {
    "collapsed": false
   },
   "outputs": [
    {
     "data": {
      "text/plain": [
       "262144"
      ]
     },
     "execution_count": 21,
     "metadata": {},
     "output_type": "execute_result"
    }
   ],
   "source": [
    "4**3**2"
   ]
  },
  {
   "cell_type": "code",
   "execution_count": 22,
   "metadata": {
    "collapsed": false
   },
   "outputs": [
    {
     "data": {
      "text/plain": [
       "262144"
      ]
     },
     "execution_count": 22,
     "metadata": {},
     "output_type": "execute_result"
    }
   ],
   "source": [
    "4**(3**2)"
   ]
  },
  {
   "cell_type": "code",
   "execution_count": 23,
   "metadata": {
    "collapsed": false
   },
   "outputs": [
    {
     "data": {
      "text/plain": [
       "4096"
      ]
     },
     "execution_count": 23,
     "metadata": {},
     "output_type": "execute_result"
    }
   ],
   "source": [
    "(4**3)**2"
   ]
  },
  {
   "cell_type": "markdown",
   "metadata": {
    "slideshow": {
     "slide_type": "subslide"
    }
   },
   "source": [
    "Even though precedence rules are based on algebraic rules, they are enforced for any data type. "
   ]
  },
  {
   "cell_type": "code",
   "execution_count": 24,
   "metadata": {
    "collapsed": false
   },
   "outputs": [
    {
     "data": {
      "text/plain": [
       "'aaab'"
      ]
     },
     "execution_count": 24,
     "metadata": {},
     "output_type": "execute_result"
    }
   ],
   "source": [
    "\"a\"*3+\"b\""
   ]
  },
  {
   "cell_type": "markdown",
   "metadata": {
    "slideshow": {
     "slide_type": "subslide"
    }
   },
   "source": [
    "### Example\n",
    "\n",
    "When boiling an egg, it has been determined that the time it takes for the center of the yolk to reach a desired temperature $T$ is given by\n",
    "$$ t = \\frac{M^{2/3}c\\rho^{1/3}}{K\\pi^2(4\\pi/3)^{2/3}}\\ln\\left(0.76\\frac{T_0 - 100}{T - 100}\\right)$$\n",
    "\n",
    "where\n",
    "* $M$ is the mass of the egg\n",
    "* $\\rho$ is the density\n",
    "* $c$ is the specific heat capacity\n",
    "* $K$ is the thermal conductivity\n",
    "* $T_0$ is the temperature at $t=0$"
   ]
  },
  {
   "cell_type": "markdown",
   "metadata": {
    "slideshow": {
     "slide_type": "subslide"
    }
   },
   "source": [
    "$$ t = \\frac{M^{2/3}c\\rho^{1/3}}{K\\pi^2(4\\pi/3)^{2/3}}\\ln\\left(0.76\\frac{T_0 - 100}{T - 100}\\right)$$"
   ]
  },
  {
   "cell_type": "code",
   "execution_count": 25,
   "metadata": {
    "collapsed": false
   },
   "outputs": [
    {
     "data": {
      "text/plain": [
       "313.09454902221637"
      ]
     },
     "execution_count": 25,
     "metadata": {},
     "output_type": "execute_result"
    }
   ],
   "source": [
    "T = 70 # desired temperature\n",
    "M = 47\n",
    "rho = 1.038\n",
    "c = 3.7\n",
    "K = 5.4e-3\n",
    "T0 = 4\n",
    "\n",
    "# compute time according to above formula, we need the natural logarithm function from the math module\n",
    "from math import log\n",
    "\n",
    "t = (M**(2/3)*c*rho**(1/3))/(K*pi**2*(4*pi/3)**(2/3))*log(0.76*(T0 - 100)/(T - 100))\n",
    "t"
   ]
  },
  {
   "cell_type": "markdown",
   "metadata": {
    "slideshow": {
     "slide_type": "subslide"
    }
   },
   "source": [
    "## Calling Functions from Within Expressions\n",
    "\n",
    "Function calls have high precedence. When multiple finction calls are used in the same expression they are typically evaluated from left to right."
   ]
  },
  {
   "cell_type": "code",
   "execution_count": 26,
   "metadata": {
    "collapsed": false
   },
   "outputs": [
    {
     "data": {
      "text/plain": [
       "'Washignton'"
      ]
     },
     "execution_count": 26,
     "metadata": {},
     "output_type": "execute_result"
    }
   ],
   "source": [
    "person = \"George Washignton\"\n",
    "person.split()[1]"
   ]
  },
  {
   "cell_type": "markdown",
   "metadata": {
    "slideshow": {
     "slide_type": "subslide"
    }
   },
   "source": [
    "More complicated expressions are evaluated by first resolving commands inside parentheses."
   ]
  },
  {
   "cell_type": "code",
   "execution_count": 27,
   "metadata": {
    "collapsed": false
   },
   "outputs": [
    {
     "data": {
      "text/plain": [
       "['cereal', 'milk', 'eggs', 'apple']"
      ]
     },
     "execution_count": 27,
     "metadata": {},
     "output_type": "execute_result"
    }
   ],
   "source": [
    "groceries = [\"cereal\", \"milk\", \"apple\"]\n",
    "groceries.insert(groceries.index(\"milk\") + 1, \"eggs\")\n",
    "groceries"
   ]
  },
  {
   "cell_type": "markdown",
   "metadata": {},
   "source": [
    "Here we first must evaluate `groceries.index(\"milk\")` and then add 1 to it to find the index where we wish to insert \"eggs\"."
   ]
  },
  {
   "cell_type": "markdown",
   "metadata": {
    "slideshow": {
     "slide_type": "slide"
    }
   },
   "source": [
    "# NumPy\n",
    "\n",
    "The `NumPy` module (http://www.numpy.org/) is an almost indespensible module for scientific computing. It provides objects such as arrays and matrices as well as functions spanning linear algebra, fourier transforms and stastics amoung numerous other things. \n",
    "\n",
    "Almost every assignment in this course will use NumPy. Here we will present a very basic application that demonstrates some of the NumPy function, namely evaluating the integral of a function.\n",
    "\n",
    "To start with we must import NumPy. To reduce the amount of typing for ourselves later we will call the module `np`."
   ]
  },
  {
   "cell_type": "code",
   "execution_count": 30,
   "metadata": {
    "collapsed": true
   },
   "outputs": [],
   "source": [
    "import numpy as np"
   ]
  },
  {
   "cell_type": "markdown",
   "metadata": {
    "slideshow": {
     "slide_type": "subslide"
    }
   },
   "source": [
    "## Arrays\n",
    "\n",
    "One important class that NumPy provides is the `array` class. An array is similar to a `list` in that it is a collection of objects. Typically arrays store numbers. \n",
    "\n",
    "NumPy arrays can be initialized in a similar way to lists."
   ]
  },
  {
   "cell_type": "code",
   "execution_count": 31,
   "metadata": {
    "collapsed": false
   },
   "outputs": [
    {
     "data": {
      "text/plain": [
       "numpy.ndarray"
      ]
     },
     "execution_count": 31,
     "metadata": {},
     "output_type": "execute_result"
    }
   ],
   "source": [
    "a = np.array([1,2.0,3])\n",
    "type(a)"
   ]
  },
  {
   "cell_type": "markdown",
   "metadata": {
    "slideshow": {
     "slide_type": "subslide"
    }
   },
   "source": [
    "You'll notice the type of a is `numpy.ndarray`. NumPy arrays can be multidimensional. Mathematically we can think of array of dimension 1 as a vector, and an array of dimension 2 as a matrix. Higher dimensional arrays are certainly possible. The attribute `ndim` stores the number of dimensions in the array."
   ]
  },
  {
   "cell_type": "code",
   "execution_count": 32,
   "metadata": {
    "collapsed": false
   },
   "outputs": [
    {
     "data": {
      "text/plain": [
       "1"
      ]
     },
     "execution_count": 32,
     "metadata": {},
     "output_type": "execute_result"
    }
   ],
   "source": [
    "a.ndim"
   ]
  },
  {
   "cell_type": "markdown",
   "metadata": {},
   "source": [
    "Multidimensional arrays can be initialized as follows: "
   ]
  },
  {
   "cell_type": "code",
   "execution_count": 33,
   "metadata": {
    "collapsed": false
   },
   "outputs": [
    {
     "data": {
      "text/plain": [
       "2"
      ]
     },
     "execution_count": 33,
     "metadata": {},
     "output_type": "execute_result"
    }
   ],
   "source": [
    "b = np.array([[1, 2, 3.0], [1.2,2.2,2]])\n",
    "b.ndim"
   ]
  },
  {
   "cell_type": "markdown",
   "metadata": {
    "slideshow": {
     "slide_type": "subslide"
    }
   },
   "source": [
    "It should be noted that 2D arrays are __not__ matrices. For example, if we call:"
   ]
  },
  {
   "cell_type": "code",
   "execution_count": 34,
   "metadata": {
    "collapsed": false
   },
   "outputs": [
    {
     "name": "stdout",
     "output_type": "stream",
     "text": [
      "[[3 4]\n",
      " [1 4]]\n"
     ]
    }
   ],
   "source": [
    "x = np.array([1,2])\n",
    "A = np.array([[3,2], [1,2]])\n",
    "\n",
    "print(A*x)"
   ]
  },
  {
   "cell_type": "markdown",
   "metadata": {},
   "source": [
    "We get a 2D array, instead of a vector. This is because array operations are defined elementwise. $A\\mathbf{x}$ in this case is defined to be:\n",
    "\n",
    "$$ \\begin{bmatrix} A_{11}x_1 & A_{12}x_2\\\\ A_{21}x_1 & A_{22} x_2\\end{bmatrix}$$"
   ]
  },
  {
   "cell_type": "markdown",
   "metadata": {
    "slideshow": {
     "slide_type": "subslide"
    }
   },
   "source": [
    "Likewise if we call $A^2$, we get"
   ]
  },
  {
   "cell_type": "code",
   "execution_count": 35,
   "metadata": {
    "collapsed": false
   },
   "outputs": [
    {
     "name": "stdout",
     "output_type": "stream",
     "text": [
      "[[9 4]\n",
      " [1 4]]\n"
     ]
    }
   ],
   "source": [
    "print(A**2)"
   ]
  },
  {
   "cell_type": "markdown",
   "metadata": {},
   "source": [
    "which is \n",
    "$$ \\begin{bmatrix} A_{11}^2 & A_{12}^2\\\\A_{21}^2 & A_{22}^2\\end{bmatrix}.$$\n",
    "This is not what we expect from matrix squaring."
   ]
  },
  {
   "cell_type": "markdown",
   "metadata": {
    "slideshow": {
     "slide_type": "subslide"
    }
   },
   "source": [
    "Fortunately NumPy has a matrix class that acts like we'd expect a matrix to act."
   ]
  },
  {
   "cell_type": "code",
   "execution_count": 45,
   "metadata": {
    "collapsed": false
   },
   "outputs": [
    {
     "data": {
      "text/plain": [
       "matrix([[11, 10],\n",
       "        [ 5,  6]])"
      ]
     },
     "execution_count": 45,
     "metadata": {},
     "output_type": "execute_result"
    }
   ],
   "source": [
    "B = np.matrix([[3,2],[1,2]])\n",
    "x = np.array([1,2])\n",
    "B**2"
   ]
  },
  {
   "cell_type": "markdown",
   "metadata": {},
   "source": [
    "To do matrix vector (or vector vector) products, we must use the `np.dot` command:"
   ]
  },
  {
   "cell_type": "code",
   "execution_count": 50,
   "metadata": {
    "collapsed": false
   },
   "outputs": [
    {
     "name": "stdout",
     "output_type": "stream",
     "text": [
      "[[7 5]]\n"
     ]
    }
   ],
   "source": [
    "print(B.dot(x))"
   ]
  },
  {
   "cell_type": "markdown",
   "metadata": {
    "slideshow": {
     "slide_type": "subslide"
    }
   },
   "source": [
    "Like lists and strings, arrays support indexing and slicing."
   ]
  },
  {
   "cell_type": "code",
   "execution_count": null,
   "metadata": {
    "collapsed": false
   },
   "outputs": [],
   "source": [
    "a[0]"
   ]
  },
  {
   "cell_type": "code",
   "execution_count": null,
   "metadata": {
    "collapsed": false
   },
   "outputs": [],
   "source": [
    "b[1]"
   ]
  },
  {
   "cell_type": "code",
   "execution_count": null,
   "metadata": {
    "collapsed": false
   },
   "outputs": [],
   "source": [
    "b[1][0:2]"
   ]
  },
  {
   "cell_type": "markdown",
   "metadata": {
    "slideshow": {
     "slide_type": "subslide"
    }
   },
   "source": [
    "### Arrays vs. Lists\n",
    "\n",
    "Arrays and lists are similar in many ways. Both represent a collection of objects. When should you use one over the other? \n",
    "\n",
    "For starters, arrays are mutable, however they do not support methods such as `pop` or `append`. Once initialized the size of an array cannot be easily changed. If your application needs to change the size of a collection, lists are the prefered option. \n",
    "\n",
    "In general lists are prefered unless there is a specific reason to use NumPy arrays. NumPy arrays are less flexible; however you'll find that they are needed to interact fully with the rest of NumPy. For example taking the dot product of two vectors requires the two vectors to be stored as NumPy arrays. "
   ]
  },
  {
   "cell_type": "markdown",
   "metadata": {
    "slideshow": {
     "slide_type": "subslide"
    }
   },
   "source": [
    "It's possible to convert from a list to an array or vice versa. NumPy arrays provide the method `tolist()` which converts an array to a list."
   ]
  },
  {
   "cell_type": "code",
   "execution_count": null,
   "metadata": {
    "collapsed": false
   },
   "outputs": [],
   "source": [
    "c = a.tolist()\n",
    "type(c)"
   ]
  },
  {
   "cell_type": "markdown",
   "metadata": {
    "slideshow": {
     "slide_type": "-"
    }
   },
   "source": [
    "NumPy also provides the function `asarray` that takes a list and returns an array."
   ]
  },
  {
   "cell_type": "code",
   "execution_count": null,
   "metadata": {
    "collapsed": false
   },
   "outputs": [],
   "source": [
    "d = np.asarray(c)\n",
    "type(d)"
   ]
  },
  {
   "cell_type": "markdown",
   "metadata": {
    "slideshow": {
     "slide_type": "subslide"
    }
   },
   "source": [
    "## Numerical Integration\n",
    "\n",
    "We'll now use NumPy to solve a common problem. In  many applications we need to integrate a function, i.e.\n",
    "\n",
    "$$\\int_0^{\\pi} \\sin(x)\\text{d}x$$\n",
    "\n",
    "This is easy enough. We know the antiderivative of $\\sin(x)$ is $-\\cos(x)$, so applying the fundamental theorem of calculus gives:\n",
    "$$ \\int_0^{\\pi} \\sin(x)\\text{d}x = -\\cos(\\pi) - (-\\cos(0)) = -(-1) + 1 = 2$$"
   ]
  },
  {
   "cell_type": "markdown",
   "metadata": {
    "slideshow": {
     "slide_type": "subslide"
    }
   },
   "source": [
    "What about the integral\n",
    "$ \\int_0^1 e^{x^2}\\text{d}x$ ? \n",
    "\n",
    "You may remember from calculus that $e^{x^2}$ does not have an antiderivative. So what can we do?"
   ]
  },
  {
   "cell_type": "markdown",
   "metadata": {
    "slideshow": {
     "slide_type": "subslide"
    }
   },
   "source": [
    "When you first learnt about integrals you probably went over Riemann sums to evaluate $\\int_a^b f(x)\\text{d}x$. \n",
    "\n",
    "We begin by breaking up the interval of integration $[a,b]$ into intervals of length $h$. Then the value of the function at a point $x^*$ in each interval (typically either right endpoint, left endpoint or center) determines a rectangle of height $f(x^*)$ and width $h$. The integral of $f(x)$ over $[a,b]$ is then approximated by the total area of these rectangles. You'll recall that as $h\\to 0$, this approximation converges to the actual value of the integral. \n",
    "\n",
    "![left reimann sum](https://github.com/lukasbystricky/ISC-3313/blob/master/lectures/chapter2/images/left_sum.png?raw=true)\n"
   ]
  },
  {
   "cell_type": "markdown",
   "metadata": {
    "slideshow": {
     "slide_type": "subslide"
    }
   },
   "source": [
    "\n",
    "Mathematically:\n",
    "\n",
    "1) we split the domain $[a,b]$ into $N$ equally spaced intervals of width $h$\n",
    "\n",
    "2) we take a point from each interval to form a set of points $\\{x_1, x_2, \\cdot x_N\\}$\n",
    "\n",
    "3) $\\int_a^b f(x)\\text{d}x \\approx h\\sum\\limits_{i=0}^N f(x_i)$"
   ]
  },
  {
   "cell_type": "markdown",
   "metadata": {
    "slideshow": {
     "slide_type": "subslide"
    }
   },
   "source": [
    "In the limit $h\\to 0$ this converges to the actual integral. Of course even if $h$ is not 0, it tells us something about the integral. We can perform this summation for finite $N$ to get an approximation to the integral. If $N$ is large enough, this approximation might be quite good."
   ]
  },
  {
   "cell_type": "markdown",
   "metadata": {
    "slideshow": {
     "slide_type": "subslide"
    }
   },
   "source": [
    "Lets look at how we could compute this. As a specific example we'll look at an integral we already know how to compute, and see how accurate we can get. Specifically we'll look at $\\int_0^{\\pi} \\sin(x)\\text{d}x = 2$.\n",
    "\n",
    "To start with, as with the math module we must import NumPy. To do this we will import the entire package, however to save some typing instead of referencing it later on with `numpy` we will shorten its name to `np."
   ]
  },
  {
   "cell_type": "code",
   "execution_count": null,
   "metadata": {
    "collapsed": true
   },
   "outputs": [],
   "source": [
    "import numpy as np"
   ]
  },
  {
   "cell_type": "markdown",
   "metadata": {
    "slideshow": {
     "slide_type": "subslide"
    }
   },
   "source": [
    "The first thing we need to do is define the intervals. Say we want $N$ points, this means we'll have $N-1$ intervals and $h = \\pi/(N-1)$. NumPy provides a function `linspace` that returns an `array` of equally spaced numbers."
   ]
  },
  {
   "cell_type": "code",
   "execution_count": null,
   "metadata": {
    "collapsed": false
   },
   "outputs": [],
   "source": [
    "N = 5\n",
    "a = 0\n",
    "b = np.pi\n",
    "h = (b - a)/(N-1)\n",
    "x = np.linspace(a, b, N)\n",
    "x"
   ]
  },
  {
   "cell_type": "markdown",
   "metadata": {
    "slideshow": {
     "slide_type": "subslide"
    }
   },
   "source": [
    "Lets do the left Reimann sum. This means that we need the left endpoint of each interval. In our case this will be the points $\\{0, \\pi/4, \\pi/2, 3\\pi/4\\}$, or all points except the last one. \n",
    "\n",
    "Arrays, like lists and strings support slicing."
   ]
  },
  {
   "cell_type": "code",
   "execution_count": null,
   "metadata": {
    "collapsed": false
   },
   "outputs": [],
   "source": [
    "x = x[:-1]\n",
    "x"
   ]
  },
  {
   "cell_type": "markdown",
   "metadata": {
    "slideshow": {
     "slide_type": "subslide"
    }
   },
   "source": [
    "We now need to plug these values into our function, sum the function values up and multiply by $h$. \n",
    "\n",
    "Note that instead of using `math.sin(x)`, we will use `np.sin(x)`. The reason for this is that the math module is completely unaware of NumPy arrays. If we tried to pass in an array to `math.sin(x)` we would get an error. On the other hand `np.sin(x)` works with arrays, and returns an array containing the values of sine at all the points in `x`."
   ]
  },
  {
   "cell_type": "code",
   "execution_count": null,
   "metadata": {
    "collapsed": false
   },
   "outputs": [],
   "source": [
    "I = np.sum(np.sin(x))*h\n",
    "print(\"error = \", abs(I - 2))"
   ]
  },
  {
   "cell_type": "markdown",
   "metadata": {
    "slideshow": {
     "slide_type": "subslide"
    }
   },
   "source": [
    "This isn't bad, but it's still off by about 5%. What happens if instead of 5 points we use 100 points?"
   ]
  },
  {
   "cell_type": "code",
   "execution_count": null,
   "metadata": {
    "collapsed": false
   },
   "outputs": [],
   "source": [
    "N = 100\n",
    "a = 0\n",
    "b = np.pi\n",
    "h = (b - a)/(N-1)\n",
    "x = np.linspace(a, b, N)\n",
    "x = x[:-1]\n",
    "I = np.sum(np.sin(x))*h\n",
    "print(\"error = \", abs(I - 2))"
   ]
  }
 ],
 "metadata": {
  "anaconda-cloud": {},
  "celltoolbar": "Slideshow",
  "kernelspec": {
   "display_name": "Python [conda root]",
   "language": "python",
   "name": "conda-root-py"
  },
  "language_info": {
   "codemirror_mode": {
    "name": "ipython",
    "version": 3
   },
   "file_extension": ".py",
   "mimetype": "text/x-python",
   "name": "python",
   "nbconvert_exporter": "python",
   "pygments_lexer": "ipython3",
   "version": "3.5.2"
  }
 },
 "nbformat": 4,
 "nbformat_minor": 0
}
